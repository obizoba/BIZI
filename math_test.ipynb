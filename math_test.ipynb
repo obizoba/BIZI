{
  "nbformat": 4,
  "nbformat_minor": 0,
  "metadata": {
    "colab": {
      "name": "ccc",
      "provenance": [],
      "toc_visible": true,
      "authorship_tag": "ABX9TyPxZMAXvyZdk2jeWdxu70vb",
      "include_colab_link": true
    },
    "kernelspec": {
      "name": "python3",
      "display_name": "Python 3"
    }
  },
  "cells": [
    {
      "cell_type": "markdown",
      "metadata": {
        "id": "view-in-github",
        "colab_type": "text"
      },
      "source": [
        "<a href=\"https://colab.research.google.com/github/obizoba/BIZI/blob/master/math_test.ipynb\" target=\"_parent\"><img src=\"https://colab.research.google.com/assets/colab-badge.svg\" alt=\"Open In Colab\"/></a>"
      ]
    },
    {
      "cell_type": "code",
      "metadata": {
        "id": "ArDQbCbMABe9"
      },
      "source": [
        "import math\r\n",
        "def test_sqrt():\r\n",
        "  num =25\r\n",
        "  assert math.sqrt(num) == 5\r\n",
        "def testsquare():\r\n",
        "  num = 7\r\n",
        "  assert 7*7 ==40\r\n",
        "def testquality():\r\n",
        "  assert 10 ==11"
      ],
      "execution_count": 1,
      "outputs": []
    },
    {
      "cell_type": "code",
      "metadata": {
        "id": "Z6mMXdCbD9tW"
      },
      "source": [
        "import pytest"
      ],
      "execution_count": 2,
      "outputs": []
    },
    {
      "cell_type": "code",
      "metadata": {
        "id": "wB4MZlwPECZ9"
      },
      "source": [
        "!python -m pytest_math.py"
      ],
      "execution_count": null,
      "outputs": []
    }
  ]
}