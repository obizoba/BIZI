{
  "nbformat": 4,
  "nbformat_minor": 0,
  "metadata": {
    "colab": {
      "name": "Rune Assignment ",
      "provenance": [],
      "collapsed_sections": [],
      "include_colab_link": true
    },
    "kernelspec": {
      "name": "python3",
      "display_name": "Python 3"
    },
    "language_info": {
      "name": "python"
    }
  },
  "cells": [
    {
      "cell_type": "markdown",
      "metadata": {
        "id": "view-in-github",
        "colab_type": "text"
      },
      "source": [
        "<a href=\"https://colab.research.google.com/github/obizoba/BIZI/blob/master/Rune_Assignment.ipynb\" target=\"_parent\"><img src=\"https://colab.research.google.com/assets/colab-badge.svg\" alt=\"Open In Colab\"/></a>"
      ]
    },
    {
      "cell_type": "code",
      "metadata": {
        "colab": {
          "base_uri": "https://localhost:8080/"
        },
        "id": "JVQVd1G75cbC",
        "outputId": "cc4ccebc-1ffc-4ab8-983f-28f670aa0d9b"
      },
      "source": [
        "print('Hello, World!')"
      ],
      "execution_count": 1,
      "outputs": [
        {
          "output_type": "stream",
          "name": "stdout",
          "text": [
            "Hello, World!\n"
          ]
        }
      ]
    },
    {
      "cell_type": "code",
      "metadata": {
        "colab": {
          "base_uri": "https://localhost:8080/"
        },
        "id": "_V7ILxeU5ytz",
        "outputId": "43620533-7f09-43ef-fa11-59d3fde491e9"
      },
      "source": [
        "name = input('What is your name? ')\n",
        "print('Hello', name)"
      ],
      "execution_count": 2,
      "outputs": [
        {
          "output_type": "stream",
          "name": "stdout",
          "text": [
            "What is your name? Ororo\n",
            "Hello Ororo\n"
          ]
        }
      ]
    },
    {
      "cell_type": "code",
      "metadata": {
        "colab": {
          "base_uri": "https://localhost:8080/"
        },
        "id": "hTjQkHqj6ka6",
        "outputId": "823b65a7-def4-4be8-a2b8-160e68650f80"
      },
      "source": [
        "name = input('What is your name?')\n",
        "print('i like capital letter'.upper(),name.upper())"
      ],
      "execution_count": null,
      "outputs": [
        {
          "output_type": "stream",
          "name": "stdout",
          "text": [
            "What is your name?peter\n",
            "I LIKE CAPITAL LETTER PETER\n"
          ]
        }
      ]
    },
    {
      "cell_type": "code",
      "metadata": {
        "id": "GSUSaSwSKvAs"
      },
      "source": [
        ""
      ],
      "execution_count": null,
      "outputs": []
    },
    {
      "cell_type": "code",
      "metadata": {
        "colab": {
          "base_uri": "https://localhost:8080/"
        },
        "id": "Zlzfw9pCKt6U",
        "outputId": "b2824939-676e-4f34-9e59-693113a4fc22"
      },
      "source": [
        "kg=input('What is your weight in kg? ')\n",
        "lbs=int(kg)*2.2046\n",
        "print('Your weight in lbs is ', lbs)"
      ],
      "execution_count": null,
      "outputs": [
        {
          "output_type": "stream",
          "name": "stdout",
          "text": [
            "What is your weight in kg? 34\n",
            "Your weight in lbs is  74.9564\n"
          ]
        }
      ]
    },
    {
      "cell_type": "code",
      "metadata": {
        "colab": {
          "base_uri": "https://localhost:8080/"
        },
        "id": "qnb1pFOQMJBk",
        "outputId": "d0985607-ffdf-40ab-d678-b27257e032a0"
      },
      "source": [
        "r=input('what is the raidus of the circle? ')\n",
        "pi = 3.142\n",
        "c=2*pi*float(r)\n",
        "print('the circumfrance of the circle is ', c)"
      ],
      "execution_count": null,
      "outputs": [
        {
          "output_type": "stream",
          "name": "stdout",
          "text": [
            "what is the raidus of the circle? 2.6\n",
            "the circumfrance of the circle is  16.3384\n"
          ]
        }
      ]
    },
    {
      "cell_type": "code",
      "metadata": {
        "colab": {
          "base_uri": "https://localhost:8080/"
        },
        "id": "nEmoS70nN9wV",
        "outputId": "c5ad473f-ec02-4784-96a6-35ec03154e39"
      },
      "source": [
        "a=25\n",
        "b=a*3\n",
        "c=b+6\n",
        "d=c/3\n",
        "e=d-a\n",
        "print(e)"
      ],
      "execution_count": null,
      "outputs": [
        {
          "output_type": "stream",
          "name": "stdout",
          "text": [
            "2.0\n"
          ]
        }
      ]
    },
    {
      "cell_type": "code",
      "metadata": {
        "colab": {
          "base_uri": "https://localhost:8080/"
        },
        "id": "_lZaCmJZS9RR",
        "outputId": "2fcbb716-7e34-46f0-e144-3eb0b0feb951"
      },
      "source": [
        "a = input(\"Input a: \")\n",
        "b = input(\"input b: \")\n",
        "a = int(a)\n",
        "b = int(b)\n",
        "print(a*b)"
      ],
      "execution_count": null,
      "outputs": [
        {
          "output_type": "stream",
          "name": "stdout",
          "text": [
            "Input a: 23\n",
            "input b: 23\n",
            "529\n"
          ]
        }
      ]
    },
    {
      "cell_type": "code",
      "metadata": {
        "colab": {
          "base_uri": "https://localhost:8080/"
        },
        "id": "VppnqBowWtKt",
        "outputId": "8fc46dfb-6060-4e7b-b9db-1db60829f9fc"
      },
      "source": [
        "24*60*60"
      ],
      "execution_count": null,
      "outputs": [
        {
          "output_type": "execute_result",
          "data": {
            "text/plain": [
              "86400"
            ]
          },
          "metadata": {},
          "execution_count": 9
        }
      ]
    },
    {
      "cell_type": "code",
      "metadata": {
        "colab": {
          "base_uri": "https://localhost:8080/"
        },
        "id": "vRfAmUpTUKEH",
        "outputId": "e2160288-77e6-4d6f-d867-a6c7b7236dbd"
      },
      "source": [
        "age = input('How old are you ? ')\n",
        "age = int(age)\n",
        "print(f\"you are {age} years old\")\n",
        "print(f\"you are {age*365} days old\")\n",
        "print(f\"you are {age*365*24}  hours old\")\n",
        "print(f\"you are {age*365*60*24} minutes old\")#\n",
        "print(f\"you are {age*365*60*60*24} seconds old\")\n",
        "\n",
        "\n"
      ],
      "execution_count": null,
      "outputs": [
        {
          "output_type": "stream",
          "name": "stdout",
          "text": [
            "How old are you ? 34\n",
            "you are 34 years old\n",
            "you are 12410 days old\n",
            "you are 297840  hours old\n",
            "you are 17870400 minutes old\n",
            "you are 1072224000 seconds old\n"
          ]
        }
      ]
    },
    {
      "cell_type": "code",
      "metadata": {
        "colab": {
          "base_uri": "https://localhost:8080/"
        },
        "id": "V7pfmbUHX15i",
        "outputId": "4c5ef279-ac25-4380-cce2-2a10317eb508"
      },
      "source": [
        "price = int(input('Price of meal: ' ))\n",
        "percentage_tip = int(input('How much do you want to tip (%) ? : ' ))\n",
        "tip = price * percentage_tip / 100\n",
        "tip = round(tip, 2)\n",
        "print(tip)"
      ],
      "execution_count": 3,
      "outputs": [
        {
          "output_type": "stream",
          "name": "stdout",
          "text": [
            "Price of meal: 175\n",
            "How much do you want to tip (%) ? : 20\n",
            "35.0\n"
          ]
        }
      ]
    },
    {
      "cell_type": "code",
      "metadata": {
        "colab": {
          "base_uri": "https://localhost:8080/"
        },
        "id": "IqSTPlaIcx-x",
        "outputId": "7bb38ddc-cd2c-44b3-ef18-7db3d8c9b031"
      },
      "source": [
        "# Car insurerance calculator \n",
        "gender = input('please enter your gender (M/F)')\n",
        "gender = gender.upper()\n",
        "if gender == 'M':\n",
        "  print('male')\n",
        "  age=input('how old are you')\n",
        "  age=int(age)\n",
        "  if age <= 26:\n",
        "    print('less/equal to 26')\n",
        "    percentage =9\n",
        "  else:\n",
        "   print('More than 26')\n",
        "   percentage =23\n",
        "  \n",
        "elif gender == 'F': \n",
        "  print('female')\n",
        "  car_type = input('what is your car type (sports/non-sport)')\n",
        "  car_type = car_type.upper()\n",
        "  if car_type == 'SPORT':\n",
        "    print('car is sport')\n",
        "    percentage = 21\n",
        "  else:\n",
        "    print('non sport car')\n",
        "    percentage = 10\n",
        "\n",
        "else:\n",
        "  print('wrong format')\n",
        "  percentage = none\n",
        "\n",
        "market_price = input('What is the market price of your car')\n",
        "market_price = int(market_price) \n",
        "\n",
        "insurerance = market_price*percentage/100\n",
        "print(insurerance)\n",
        "\n",
        "\n",
        "\n"
      ],
      "execution_count": 6,
      "outputs": [
        {
          "output_type": "stream",
          "name": "stdout",
          "text": [
            "please enter your gender (M/F)F\n",
            "female\n",
            "what is your car type (sports/non-sport)non sport car\n",
            "non sport car\n",
            "What is the market price of your car3000\n",
            "300.0\n"
          ]
        }
      ]
    },
    {
      "cell_type": "code",
      "metadata": {
        "colab": {
          "base_uri": "https://localhost:8080/",
          "height": 275
        },
        "id": "nlyEXeZUcGb-",
        "outputId": "365ff02d-4d3e-4ba2-f059-d4d44c43d7fd"
      },
      "source": [
        "#Airline fare ticketting discount\n",
        "\n",
        "ticket_class=input('Please enter your ticket type(F/E): ' )\n",
        "ticket_class= ticket_class.upper()\n",
        "if ticket_class =='F':\n",
        "  print('you have a first class ticket')\n",
        "  client_age=input('Please input your age: ' )\n",
        "  client_age=int(client_age)\n",
        "  if client_age <=20:\n",
        "    print('Age is less than or equal to 20' )\n",
        "    discount = 15\n",
        "  else:\n",
        "    print('Age is greater than 20' )\n",
        "    discount = 35\n",
        "elif ticket_class == 'E':\n",
        "  print('you have an economy ticket ')\n",
        "  client_marital_status=input('please pick one (M/S): ' )\n",
        "  client_marital_status=client_marital_status.upper()\n",
        "  if client_marital_status=='M':\n",
        "     print(' you are married')\n",
        "     discount=35\n",
        "  elif client_marital_status=='S':\n",
        "    print('you are single ')\n",
        "    discount = 15\n",
        "else:\n",
        "   print('invalid selection')\n",
        "   discount=none\n",
        "ticket_price=input('please input your fare price: ' )\n",
        "ticket_price=int(ticket_price)\n",
        "fare_discount = ticket_price * discount/100\n",
        "print(f'your fare discount is : {fare_discount}')\n",
        "print(f\"Your ticket fare is : {ticket_price - fare_discount}\")\n"
      ],
      "execution_count": 8,
      "outputs": [
        {
          "output_type": "stream",
          "name": "stdout",
          "text": [
            "Please enter your ticket type(F/E): O\n",
            "invalid selection\n"
          ]
        },
        {
          "output_type": "error",
          "ename": "NameError",
          "evalue": "ignored",
          "traceback": [
            "\u001b[0;31m---------------------------------------------------------------------------\u001b[0m",
            "\u001b[0;31mNameError\u001b[0m                                 Traceback (most recent call last)",
            "\u001b[0;32m<ipython-input-8-574ba2e8a348>\u001b[0m in \u001b[0;36m<module>\u001b[0;34m()\u001b[0m\n\u001b[1;32m     25\u001b[0m \u001b[0;32melse\u001b[0m\u001b[0;34m:\u001b[0m\u001b[0;34m\u001b[0m\u001b[0;34m\u001b[0m\u001b[0m\n\u001b[1;32m     26\u001b[0m    \u001b[0mprint\u001b[0m\u001b[0;34m(\u001b[0m\u001b[0;34m'invalid selection'\u001b[0m\u001b[0;34m)\u001b[0m\u001b[0;34m\u001b[0m\u001b[0;34m\u001b[0m\u001b[0m\n\u001b[0;32m---> 27\u001b[0;31m    \u001b[0mdiscount\u001b[0m\u001b[0;34m=\u001b[0m\u001b[0mnone\u001b[0m\u001b[0;34m\u001b[0m\u001b[0;34m\u001b[0m\u001b[0m\n\u001b[0m\u001b[1;32m     28\u001b[0m \u001b[0mticket_price\u001b[0m\u001b[0;34m=\u001b[0m\u001b[0minput\u001b[0m\u001b[0;34m(\u001b[0m\u001b[0;34m'please input your fare price: '\u001b[0m \u001b[0;34m)\u001b[0m\u001b[0;34m\u001b[0m\u001b[0;34m\u001b[0m\u001b[0m\n\u001b[1;32m     29\u001b[0m \u001b[0mticket_price\u001b[0m\u001b[0;34m=\u001b[0m\u001b[0mint\u001b[0m\u001b[0;34m(\u001b[0m\u001b[0mticket_price\u001b[0m\u001b[0;34m)\u001b[0m\u001b[0;34m\u001b[0m\u001b[0;34m\u001b[0m\u001b[0m\n",
            "\u001b[0;31mNameError\u001b[0m: name 'none' is not defined"
          ]
        }
      ]
    },
    {
      "cell_type": "code",
      "metadata": {
        "id": "64wzosDY0W75"
      },
      "source": [
        "import random"
      ],
      "execution_count": null,
      "outputs": []
    },
    {
      "cell_type": "code",
      "metadata": {
        "id": "OUkxasneWAzp",
        "colab": {
          "base_uri": "https://localhost:8080/"
        },
        "outputId": "bbc1aa9d-6ddd-4def-fabf-9112c9cf96ca"
      },
      "source": [
        "import sqlite3\n",
        "db = sqlite3.connect('Opio_bank.db')\n",
        "print(db)\n",
        " \n",
        "  \n",
        "\n"
      ],
      "execution_count": null,
      "outputs": [
        {
          "output_type": "stream",
          "name": "stdout",
          "text": [
            "<sqlite3.Connection object at 0x7f9444eb48f0>\n"
          ]
        }
      ]
    },
    {
      "cell_type": "code",
      "metadata": {
        "colab": {
          "base_uri": "https://localhost:8080/"
        },
        "id": "HCHN1Na90fUC",
        "outputId": "31c21d00-934e-4f1e-d65d-7f8e33c2a531"
      },
      "source": [
        "a = random.randint(1,10)\n",
        "b = random.randint(1,10)\n",
        "print(f\"what is the product of {a} and {b} \")\n",
        "sum = a * b\n",
        "answer = int(input('Please what is the sum of both numbers?: ')) \n",
        "if answer == sum:\n",
        "  print('answer is correct')\n",
        "elif answer != sum:\n",
        "  print('the answer is wrong')"
      ],
      "execution_count": null,
      "outputs": [
        {
          "output_type": "stream",
          "name": "stdout",
          "text": [
            "what is the product of 8 and 7 \n",
            "Please what is the sum of both numbers?: 5\n",
            "the answer is wrong\n"
          ]
        }
      ]
    },
    {
      "cell_type": "code",
      "metadata": {
        "id": "ocNyy1Zt4hh6",
        "colab": {
          "base_uri": "https://localhost:8080/",
          "height": 649
        },
        "outputId": "53688a7b-abd8-44bc-bd54-788307b858bc"
      },
      "source": [
        "# Mobile  Money Withdrawal\n",
        "print('##### Welcome to Opio Bank ####')\n",
        "print('1. open a new account.')\n",
        "print('2. deposite money')\n",
        "print('3.transfer money ')\n",
        "print('4.check your account balance  ')\n",
        "selection = input('please select an option from 0-4:  ')\n",
        "selection = int(selection)\n",
        "if selection == 1:\n",
        "  print('welcome')\n",
        "  first_name=input('please input your first name: ')\n",
        "  first_name= first_name.upper()\n",
        "  last_name = input('please input your last name: ')\n",
        "  last_name = last_name.upper()\n",
        "  phone_number = input('please input your phone number: ')\n",
        "  phone_number=int(phone_number)\n",
        "  cur.execute('INSERT INTO Customer_id( first_name, last_name, phone_number)')\n",
        "  print(f'Your details {first_name, last_name, phone_number,}')\n",
        "  print('your account number is: ')\n",
        "  for x in range(5):\n",
        "    acc_num = random.randint(20,25)\n",
        "    print(acc_num, end='')\n",
        "elif selection == 2:\n",
        "     deposite = int(input('please input amount to be deposited: '))\n",
        "     new_bal= deposite\n",
        "     if deposite >= 1000:\n",
        "       print(f'yor account has been credited with :{deposite }')\n",
        "     else:\n",
        "       print('we only accept deposite above one 1000')\n",
        "\n",
        "elif selection == 3:\n",
        "  print('welcome to money transfer')\n",
        "  acc_no= input('please enter the account number you want to make a transfer to: ')\n",
        "  acc_no = int(acc_no)\n",
        "  amt_trans = input('enter ammout you want to transfer: ')\n",
        "  amt_trans = int(amt_trans) \n",
        "  if new_bal > amt_trans:\n",
        "    new_bal = new_bal - amt_trans\n",
        "    print(\"your transaction was sucessful\")\n",
        "  else:\n",
        "    print('insufficient funds')\n",
        "if selection == 4:\n",
        "  print(f'your balance is : {new_bal}')\n",
        "\n",
        "\n",
        "\n",
        "else:\n",
        "  print('wrong format ')\n",
        "  new_bal = None \n",
        "  loop = 0"
      ],
      "execution_count": null,
      "outputs": [
        {
          "output_type": "stream",
          "name": "stdout",
          "text": [
            "##### Welcome to Opio Bank ####\n",
            "1. open a new account.\n",
            "2. deposite money\n",
            "3.transfer money \n",
            "4.check your account balance  \n"
          ]
        },
        {
          "output_type": "error",
          "ename": "KeyboardInterrupt",
          "evalue": "ignored",
          "traceback": [
            "\u001b[0;31m---------------------------------------------------------------------------\u001b[0m",
            "\u001b[0;31mKeyboardInterrupt\u001b[0m                         Traceback (most recent call last)",
            "\u001b[0;32m/usr/local/lib/python3.7/dist-packages/ipykernel/kernelbase.py\u001b[0m in \u001b[0;36m_input_request\u001b[0;34m(self, prompt, ident, parent, password)\u001b[0m\n\u001b[1;32m    728\u001b[0m             \u001b[0;32mtry\u001b[0m\u001b[0;34m:\u001b[0m\u001b[0;34m\u001b[0m\u001b[0;34m\u001b[0m\u001b[0m\n\u001b[0;32m--> 729\u001b[0;31m                 \u001b[0mident\u001b[0m\u001b[0;34m,\u001b[0m \u001b[0mreply\u001b[0m \u001b[0;34m=\u001b[0m \u001b[0mself\u001b[0m\u001b[0;34m.\u001b[0m\u001b[0msession\u001b[0m\u001b[0;34m.\u001b[0m\u001b[0mrecv\u001b[0m\u001b[0;34m(\u001b[0m\u001b[0mself\u001b[0m\u001b[0;34m.\u001b[0m\u001b[0mstdin_socket\u001b[0m\u001b[0;34m,\u001b[0m \u001b[0;36m0\u001b[0m\u001b[0;34m)\u001b[0m\u001b[0;34m\u001b[0m\u001b[0;34m\u001b[0m\u001b[0m\n\u001b[0m\u001b[1;32m    730\u001b[0m             \u001b[0;32mexcept\u001b[0m \u001b[0mException\u001b[0m\u001b[0;34m:\u001b[0m\u001b[0;34m\u001b[0m\u001b[0;34m\u001b[0m\u001b[0m\n",
            "\u001b[0;32m/usr/local/lib/python3.7/dist-packages/jupyter_client/session.py\u001b[0m in \u001b[0;36mrecv\u001b[0;34m(self, socket, mode, content, copy)\u001b[0m\n\u001b[1;32m    802\u001b[0m         \u001b[0;32mtry\u001b[0m\u001b[0;34m:\u001b[0m\u001b[0;34m\u001b[0m\u001b[0;34m\u001b[0m\u001b[0m\n\u001b[0;32m--> 803\u001b[0;31m             \u001b[0mmsg_list\u001b[0m \u001b[0;34m=\u001b[0m \u001b[0msocket\u001b[0m\u001b[0;34m.\u001b[0m\u001b[0mrecv_multipart\u001b[0m\u001b[0;34m(\u001b[0m\u001b[0mmode\u001b[0m\u001b[0;34m,\u001b[0m \u001b[0mcopy\u001b[0m\u001b[0;34m=\u001b[0m\u001b[0mcopy\u001b[0m\u001b[0;34m)\u001b[0m\u001b[0;34m\u001b[0m\u001b[0;34m\u001b[0m\u001b[0m\n\u001b[0m\u001b[1;32m    804\u001b[0m         \u001b[0;32mexcept\u001b[0m \u001b[0mzmq\u001b[0m\u001b[0;34m.\u001b[0m\u001b[0mZMQError\u001b[0m \u001b[0;32mas\u001b[0m \u001b[0me\u001b[0m\u001b[0;34m:\u001b[0m\u001b[0;34m\u001b[0m\u001b[0;34m\u001b[0m\u001b[0m\n",
            "\u001b[0;32m/usr/local/lib/python3.7/dist-packages/zmq/sugar/socket.py\u001b[0m in \u001b[0;36mrecv_multipart\u001b[0;34m(self, flags, copy, track)\u001b[0m\n\u001b[1;32m    624\u001b[0m         \"\"\"\n\u001b[0;32m--> 625\u001b[0;31m         \u001b[0mparts\u001b[0m \u001b[0;34m=\u001b[0m \u001b[0;34m[\u001b[0m\u001b[0mself\u001b[0m\u001b[0;34m.\u001b[0m\u001b[0mrecv\u001b[0m\u001b[0;34m(\u001b[0m\u001b[0mflags\u001b[0m\u001b[0;34m,\u001b[0m \u001b[0mcopy\u001b[0m\u001b[0;34m=\u001b[0m\u001b[0mcopy\u001b[0m\u001b[0;34m,\u001b[0m \u001b[0mtrack\u001b[0m\u001b[0;34m=\u001b[0m\u001b[0mtrack\u001b[0m\u001b[0;34m)\u001b[0m\u001b[0;34m]\u001b[0m\u001b[0;34m\u001b[0m\u001b[0;34m\u001b[0m\u001b[0m\n\u001b[0m\u001b[1;32m    626\u001b[0m         \u001b[0;31m# have first part already, only loop while more to receive\u001b[0m\u001b[0;34m\u001b[0m\u001b[0;34m\u001b[0m\u001b[0;34m\u001b[0m\u001b[0m\n",
            "\u001b[0;32mzmq/backend/cython/socket.pyx\u001b[0m in \u001b[0;36mzmq.backend.cython.socket.Socket.recv\u001b[0;34m()\u001b[0m\n",
            "\u001b[0;32mzmq/backend/cython/socket.pyx\u001b[0m in \u001b[0;36mzmq.backend.cython.socket.Socket.recv\u001b[0;34m()\u001b[0m\n",
            "\u001b[0;32mzmq/backend/cython/socket.pyx\u001b[0m in \u001b[0;36mzmq.backend.cython.socket._recv_copy\u001b[0;34m()\u001b[0m\n",
            "\u001b[0;32m/usr/local/lib/python3.7/dist-packages/zmq/backend/cython/checkrc.pxd\u001b[0m in \u001b[0;36mzmq.backend.cython.checkrc._check_rc\u001b[0;34m()\u001b[0m\n",
            "\u001b[0;31mKeyboardInterrupt\u001b[0m: ",
            "\nDuring handling of the above exception, another exception occurred:\n",
            "\u001b[0;31mKeyboardInterrupt\u001b[0m                         Traceback (most recent call last)",
            "\u001b[0;32m<ipython-input-2-b988e08e3374>\u001b[0m in \u001b[0;36m<module>\u001b[0;34m()\u001b[0m\n\u001b[1;32m      5\u001b[0m \u001b[0mprint\u001b[0m\u001b[0;34m(\u001b[0m\u001b[0;34m'3.transfer money '\u001b[0m\u001b[0;34m)\u001b[0m\u001b[0;34m\u001b[0m\u001b[0;34m\u001b[0m\u001b[0m\n\u001b[1;32m      6\u001b[0m \u001b[0mprint\u001b[0m\u001b[0;34m(\u001b[0m\u001b[0;34m'4.check your account balance  '\u001b[0m\u001b[0;34m)\u001b[0m\u001b[0;34m\u001b[0m\u001b[0;34m\u001b[0m\u001b[0m\n\u001b[0;32m----> 7\u001b[0;31m \u001b[0mselection\u001b[0m \u001b[0;34m=\u001b[0m \u001b[0minput\u001b[0m\u001b[0;34m(\u001b[0m\u001b[0;34m'please select an option from 0-4:  '\u001b[0m\u001b[0;34m)\u001b[0m\u001b[0;34m\u001b[0m\u001b[0;34m\u001b[0m\u001b[0m\n\u001b[0m\u001b[1;32m      8\u001b[0m \u001b[0mselection\u001b[0m \u001b[0;34m=\u001b[0m \u001b[0mint\u001b[0m\u001b[0;34m(\u001b[0m\u001b[0mselection\u001b[0m\u001b[0;34m)\u001b[0m\u001b[0;34m\u001b[0m\u001b[0;34m\u001b[0m\u001b[0m\n\u001b[1;32m      9\u001b[0m \u001b[0;32mif\u001b[0m \u001b[0mselection\u001b[0m \u001b[0;34m==\u001b[0m \u001b[0;36m1\u001b[0m\u001b[0;34m:\u001b[0m\u001b[0;34m\u001b[0m\u001b[0;34m\u001b[0m\u001b[0m\n",
            "\u001b[0;32m/usr/local/lib/python3.7/dist-packages/ipykernel/kernelbase.py\u001b[0m in \u001b[0;36mraw_input\u001b[0;34m(self, prompt)\u001b[0m\n\u001b[1;32m    702\u001b[0m             \u001b[0mself\u001b[0m\u001b[0;34m.\u001b[0m\u001b[0m_parent_ident\u001b[0m\u001b[0;34m,\u001b[0m\u001b[0;34m\u001b[0m\u001b[0;34m\u001b[0m\u001b[0m\n\u001b[1;32m    703\u001b[0m             \u001b[0mself\u001b[0m\u001b[0;34m.\u001b[0m\u001b[0m_parent_header\u001b[0m\u001b[0;34m,\u001b[0m\u001b[0;34m\u001b[0m\u001b[0;34m\u001b[0m\u001b[0m\n\u001b[0;32m--> 704\u001b[0;31m             \u001b[0mpassword\u001b[0m\u001b[0;34m=\u001b[0m\u001b[0;32mFalse\u001b[0m\u001b[0;34m,\u001b[0m\u001b[0;34m\u001b[0m\u001b[0;34m\u001b[0m\u001b[0m\n\u001b[0m\u001b[1;32m    705\u001b[0m         )\n\u001b[1;32m    706\u001b[0m \u001b[0;34m\u001b[0m\u001b[0m\n",
            "\u001b[0;32m/usr/local/lib/python3.7/dist-packages/ipykernel/kernelbase.py\u001b[0m in \u001b[0;36m_input_request\u001b[0;34m(self, prompt, ident, parent, password)\u001b[0m\n\u001b[1;32m    732\u001b[0m             \u001b[0;32mexcept\u001b[0m \u001b[0mKeyboardInterrupt\u001b[0m\u001b[0;34m:\u001b[0m\u001b[0;34m\u001b[0m\u001b[0;34m\u001b[0m\u001b[0m\n\u001b[1;32m    733\u001b[0m                 \u001b[0;31m# re-raise KeyboardInterrupt, to truncate traceback\u001b[0m\u001b[0;34m\u001b[0m\u001b[0;34m\u001b[0m\u001b[0;34m\u001b[0m\u001b[0m\n\u001b[0;32m--> 734\u001b[0;31m                 \u001b[0;32mraise\u001b[0m \u001b[0mKeyboardInterrupt\u001b[0m\u001b[0;34m\u001b[0m\u001b[0;34m\u001b[0m\u001b[0m\n\u001b[0m\u001b[1;32m    735\u001b[0m             \u001b[0;32melse\u001b[0m\u001b[0;34m:\u001b[0m\u001b[0;34m\u001b[0m\u001b[0;34m\u001b[0m\u001b[0m\n\u001b[1;32m    736\u001b[0m                 \u001b[0;32mbreak\u001b[0m\u001b[0;34m\u001b[0m\u001b[0;34m\u001b[0m\u001b[0m\n",
            "\u001b[0;31mKeyboardInterrupt\u001b[0m: "
          ]
        }
      ]
    },
    {
      "cell_type": "markdown",
      "metadata": {
        "id": "OOiLaxjgiHxF"
      },
      "source": [
        ""
      ]
    },
    {
      "cell_type": "code",
      "metadata": {
        "id": "SgTvyehoiLYP",
        "colab": {
          "base_uri": "https://localhost:8080/"
        },
        "outputId": "3740e67d-fccb-4128-8737-0e7cfb0a2c2d"
      },
      "source": [
        "print('##### welcome to the maths game #####')\n",
        "import random\n",
        "\n",
        "a = random.randint(1,10)\n",
        "print(f'a is {a}')\n",
        "b = random.randint(1,10) \n",
        "print (f'b is {b}')\n",
        "print(f'what is the  product of {a} and {b}')\n",
        "product = a * b\n",
        "answer = input('please input your answer')\n",
        "answer =int(answer)\n",
        "if answer == product:\n",
        "  print('You are Correct!!!!')\n",
        "else: \n",
        "  print('you are wrong !!! ')\n"
      ],
      "execution_count": null,
      "outputs": [
        {
          "output_type": "stream",
          "name": "stdout",
          "text": [
            "##### welcome to the maths game #####\n",
            "a is 2\n",
            "b is 2\n",
            "what is the  product of 2 and 2\n",
            "please input your answer4\n",
            "You are Correct!!!!\n"
          ]
        }
      ]
    },
    {
      "cell_type": "code",
      "metadata": {
        "colab": {
          "base_uri": "https://localhost:8080/"
        },
        "id": "DiPOASqtFJQP",
        "outputId": "0cf83afc-ceb3-4a85-cd37-a1002a52d865"
      },
      "source": [
        "# The rock scissors and paper game>>>>>\n",
        "import random \n",
        "print('###### <Lets play rock scissors and paper>######')\n",
        "print('please input 1. rock 2. scissors 3. paper')\n",
        "selection = input('please input a selection:  ')\n",
        "selection = int(selection)\n",
        "comp_selection = random.randint(1,3)\n",
        "print(f'computer has choosen : {comp_selection}')\n",
        "\n",
        "if selection == comp_selection:\n",
        "  print('draw')\n",
        "elif selection == 1:\n",
        "    if comp_selection == 2:\n",
        "      print('you won')\n",
        "    elif comp_selection == 3:\n",
        "      print('computer wins')\n",
        "elif selection == 2:\n",
        "  if  comp_selection == 1:\n",
        "    print('computer wins')\n",
        "  elif comp_selection == 3:\n",
        "    print('you won')\n",
        "elif selection == 3:\n",
        "  if comp_selection == 1:\n",
        "    print('you won')\n",
        "  else:\n",
        "     print(\"computer wins \")\n",
        "\n",
        "\n",
        "\n",
        "\n"
      ],
      "execution_count": null,
      "outputs": [
        {
          "output_type": "stream",
          "name": "stdout",
          "text": [
            "###### <Lets play rock scissors and paper>######\n",
            "please input 1. rock 2. scissors 3. paper\n",
            "please input a selection:  2\n",
            "computer has choosen : 2\n",
            "draw\n"
          ]
        }
      ]
    },
    {
      "cell_type": "code",
      "metadata": {
        "id": "ybiOEilZY3rM",
        "colab": {
          "base_uri": "https://localhost:8080/"
        },
        "outputId": "906dc832-bd6b-49f6-dfa7-bbc71e0af256"
      },
      "source": [
        "##### Jumble Game ####\n",
        "import random\n",
        "print('lets play Jumbled game')\n",
        "my_list = ['father','enterprise', 'science', 'programming', 'resistance', 'friction', 'condition', 'reverse','computer',\n",
        "           'python']\n",
        "word = random.choice(my_list)\n",
        "jumbled_word= ' '.join(random.sample(word, len(word)))\n",
        "print(f'Please guess the Jumbled word: {jumbled_word}')\n",
        "answer = input('Please input your answer:  ')\n",
        "if answer == word:\n",
        "  print('Bravo!!!!')\n",
        "else:\n",
        "  print(f'Better luck next time the word is {word} ')\n"
      ],
      "execution_count": 11,
      "outputs": [
        {
          "output_type": "stream",
          "name": "stdout",
          "text": [
            "lets play Jumbled game\n",
            "Please guess the Jumbled word: e r e s v r e\n",
            "Please input your answer:  aseaefqwefqw\n",
            "Better luck next time the word is reverse \n"
          ]
        }
      ]
    },
    {
      "cell_type": "code",
      "metadata": {
        "id": "9ZKrRh2KfhZy"
      },
      "source": [
        "1\n",
        "  "
      ],
      "execution_count": null,
      "outputs": []
    },
    {
      "cell_type": "code",
      "metadata": {
        "id": "MV0deUjypJ-V"
      },
      "source": [
        "###### Guess  Game ######\n",
        "import random\n",
        "words = ['apple', 'sample','Truple', 'ample', 'purple','settle']\n",
        "word = random.choice(words)\n",
        "guess = 0\n",
        "while guess > 0:\n",
        "  guess = guess - "
      ],
      "execution_count": null,
      "outputs": []
    }
  ]
}