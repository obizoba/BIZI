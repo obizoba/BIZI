{
  "nbformat": 4,
  "nbformat_minor": 0,
  "metadata": {
    "colab": {
      "name": "Showing Vectorization of  u, -2/3u, v and -2/3u + v.ipynb",
      "provenance": [],
      "authorship_tag": "ABX9TyMpqV30mlpFgW0jy4uyhLry",
      "include_colab_link": true
    },
    "kernelspec": {
      "name": "python3",
      "display_name": "Python 3"
    },
    "language_info": {
      "name": "python"
    }
  },
  "cells": [
    {
      "cell_type": "markdown",
      "metadata": {
        "id": "view-in-github",
        "colab_type": "text"
      },
      "source": [
        "<a href=\"https://colab.research.google.com/github/obizoba/BIZI/blob/master/Showing_Vectorization_of_u%2C_2_3u%2C_v_and_2_3u_%2B_v%20.ipynb\" target=\"_parent\"><img src=\"https://colab.research.google.com/assets/colab-badge.svg\" alt=\"Open In Colab\"/></a>"
      ]
    },
    {
      "cell_type": "markdown",
      "metadata": {
        "id": "3-604f37eVh3"
      },
      "source": [
        "# Showing Vectorization of  u, -2/3u, v and -2/3u + v"
      ]
    },
    {
      "cell_type": "code",
      "metadata": {
        "id": "i_E8DF-GeQVd"
      },
      "source": [
        "https://www.geogebra.org/graphing/p5vubdjs"
      ],
      "execution_count": null,
      "outputs": []
    }
  ]
}