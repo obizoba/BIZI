{
  "nbformat": 4,
  "nbformat_minor": 0,
  "metadata": {
    "colab": {
      "name": "Training class.ipynb",
      "provenance": [],
      "collapsed_sections": [],
      "authorship_tag": "ABX9TyMCmNFWxC/C/GJtgKT9LSH9",
      "include_colab_link": true
    },
    "kernelspec": {
      "name": "python3",
      "display_name": "Python 3"
    },
    "language_info": {
      "name": "python"
    }
  },
  "cells": [
    {
      "cell_type": "markdown",
      "metadata": {
        "id": "view-in-github",
        "colab_type": "text"
      },
      "source": [
        "<a href=\"https://colab.research.google.com/github/obizoba/BIZI/blob/master/Training_class.ipynb\" target=\"_parent\"><img src=\"https://colab.research.google.com/assets/colab-badge.svg\" alt=\"Open In Colab\"/></a>"
      ]
    },
    {
      "cell_type": "code",
      "execution_count": null,
      "metadata": {
        "colab": {
          "base_uri": "https://localhost:8080/"
        },
        "id": "7jJjEJVSL-By",
        "outputId": "6d21bbad-fc9e-4ccd-9095-9e5171470e6f"
      },
      "outputs": [
        {
          "output_type": "stream",
          "name": "stdout",
          "text": [
            "x: 45\n",
            "z: 20.98998989898\n",
            "The value of y is 85.98998989898\n",
            "x:45, y:85.98998989898, z:20.98998989898\n"
          ]
        }
      ],
      "source": [
        "x = int(input(\"x: \"))\n",
        "z = float(input(\"z: \"))\n",
        "y = x + 20 + z\n",
        "print (f\"The value of y is {y}\")\n",
        "print (f\"x:{x}, y:{y}, z:{z}\")"
      ]
    },
    {
      "cell_type": "code",
      "source": [
        "\"bag\" > \"apple\""
      ],
      "metadata": {
        "colab": {
          "base_uri": "https://localhost:8080/"
        },
        "id": "7KhkUHVNSgbt",
        "outputId": "df245ee9-4c51-4aff-ea4a-d16074f433f2"
      },
      "execution_count": null,
      "outputs": [
        {
          "output_type": "execute_result",
          "data": {
            "text/plain": [
              "True"
            ]
          },
          "metadata": {},
          "execution_count": 30
        }
      ]
    },
    {
      "cell_type": "code",
      "source": [
        "temperature = int(input(\"Temperature: \"))\n",
        "if temperature >= 30:\n",
        "  print(f\"Its hot\")\n",
        "  print(f\"Drink enough water\")\n",
        "elif temperature >= 20:\n",
        "  print(f\"its cold alittle, cover up NOW!!\")\n",
        "else:\n",
        "  print(f\"its  really cold, i need a heater\")\n",
        "print(f\"done\")"
      ],
      "metadata": {
        "colab": {
          "base_uri": "https://localhost:8080/"
        },
        "id": "0f62DCNOT7MB",
        "outputId": "d9dd25ba-0ff0-4077-a145-bf5aa9a7214d"
      },
      "execution_count": null,
      "outputs": [
        {
          "output_type": "stream",
          "name": "stdout",
          "text": [
            "Temperature: 2\n",
            "its  really cold, i need a heater\n",
            "done\n"
          ]
        }
      ]
    },
    {
      "cell_type": "code",
      "source": [
        "age = 17\n",
        "if age >= 18:\n",
        "  message = \"Eligible\"\n",
        "else:\n",
        "  message = \"Not Eligible\"\n",
        "print(message)"
      ],
      "metadata": {
        "colab": {
          "base_uri": "https://localhost:8080/"
        },
        "id": "_cGf4-_GXuk7",
        "outputId": "35b860ea-873c-481f-e89b-5008bcffa357"
      },
      "execution_count": null,
      "outputs": [
        {
          "output_type": "stream",
          "name": "stdout",
          "text": [
            "Not Eligible\n"
          ]
        }
      ]
    },
    {
      "cell_type": "code",
      "source": [
        "age = 12\n",
        "message = \"Eligible\" if age >= 18 else \"Not Eligible\"\n",
        "print(message)"
      ],
      "metadata": {
        "colab": {
          "base_uri": "https://localhost:8080/"
        },
        "id": "hXTVbE0tZ4jo",
        "outputId": "5d3487ab-1a6b-4c9f-8688-d5c1bd592bef"
      },
      "execution_count": null,
      "outputs": [
        {
          "output_type": "stream",
          "name": "stdout",
          "text": [
            "Not Eligible\n"
          ]
        }
      ]
    },
    {
      "cell_type": "code",
      "source": [
        "high_income = False\n",
        "good_credit = True\n",
        "student = False\n",
        "\n",
        "if high_income and good_credit and not student:\n",
        "  print(\"Eligible\")\n",
        "else:\n",
        "  print(\"Not Eligible\")\n"
      ],
      "metadata": {
        "colab": {
          "base_uri": "https://localhost:8080/"
        },
        "id": "TaD9DQhwcyEI",
        "outputId": "9b0a5006-72cc-45b2-8af7-110cce96239c"
      },
      "execution_count": null,
      "outputs": [
        {
          "output_type": "stream",
          "name": "stdout",
          "text": [
            "Not Eligible\n"
          ]
        }
      ]
    },
    {
      "cell_type": "code",
      "source": [
        "if not student:\n",
        "  print(\"Eligible\")\n",
        "else:\n",
        "  print(\"Not Eligible\")"
      ],
      "metadata": {
        "colab": {
          "base_uri": "https://localhost:8080/"
        },
        "id": "pDu45By-fkTP",
        "outputId": "13e7cf76-1185-4fd6-8616-d3ff099ec752"
      },
      "execution_count": null,
      "outputs": [
        {
          "output_type": "stream",
          "name": "stdout",
          "text": [
            "Eligible\n"
          ]
        }
      ]
    },
    {
      "cell_type": "code",
      "source": [
        "# age should be between 18 and 65\n",
        "age = 22\n",
        "if 18 <= age < 65:\n",
        "  print (\"Eliglible\")"
      ],
      "metadata": {
        "colab": {
          "base_uri": "https://localhost:8080/"
        },
        "id": "pzqRS3kBnttI",
        "outputId": "38e2112e-81c1-4cd2-a61f-05c5a4c5f6a2"
      },
      "execution_count": null,
      "outputs": [
        {
          "output_type": "stream",
          "name": "stdout",
          "text": [
            "Eliglible\n"
          ]
        }
      ]
    },
    {
      "cell_type": "code",
      "source": [
        "if 10 ==\"10\":\n",
        "  print(\"a\")\n",
        "elif \"bag\" > \"apple\" and \"bag\" > \"cat\":\n",
        "  print(\"b\")\n",
        "else:\n",
        "  print(\"c\")"
      ],
      "metadata": {
        "colab": {
          "base_uri": "https://localhost:8080/"
        },
        "id": "OgUoHn9LpF69",
        "outputId": "30a2b373-510c-4ce9-cc8c-fd588053892e"
      },
      "execution_count": null,
      "outputs": [
        {
          "output_type": "stream",
          "name": "stdout",
          "text": [
            "c\n"
          ]
        }
      ]
    },
    {
      "cell_type": "code",
      "source": [
        "ord(\"b\")"
      ],
      "metadata": {
        "colab": {
          "base_uri": "https://localhost:8080/"
        },
        "id": "vFciuSPYpc0p",
        "outputId": "b01721e8-6440-4288-f6f7-b825b55239c6"
      },
      "execution_count": null,
      "outputs": [
        {
          "output_type": "execute_result",
          "data": {
            "text/plain": [
              "98"
            ]
          },
          "metadata": {},
          "execution_count": 83
        }
      ]
    },
    {
      "cell_type": "code",
      "source": [
        "for number in range(1, 10, 2):\n",
        "  print(\"Attempt\", number , number * \".\")\n"
      ],
      "metadata": {
        "colab": {
          "base_uri": "https://localhost:8080/"
        },
        "id": "sV0tseZEprBl",
        "outputId": "914a11fa-ad86-47d8-889f-8060719bc51c"
      },
      "execution_count": null,
      "outputs": [
        {
          "output_type": "stream",
          "name": "stdout",
          "text": [
            "Attempt 1 .\n",
            "Attempt 3 ...\n",
            "Attempt 5 .....\n",
            "Attempt 7 .......\n",
            "Attempt 9 .........\n"
          ]
        }
      ]
    },
    {
      "cell_type": "code",
      "source": [
        "successful = True\n",
        "for number in range(3):\n",
        "  print(\"Attempt\")\n",
        "  if successful:\n",
        "    print(\"successful\")\n",
        "    break\n",
        "else:\n",
        "  print(f\"Attempted 3 times and failed\")"
      ],
      "metadata": {
        "colab": {
          "base_uri": "https://localhost:8080/"
        },
        "id": "B0yXYiwVsBVG",
        "outputId": "836ae62f-b9a0-4911-cdeb-6d0e21f4a9a9"
      },
      "execution_count": null,
      "outputs": [
        {
          "output_type": "stream",
          "name": "stdout",
          "text": [
            "Attempt\n",
            "successful\n"
          ]
        }
      ]
    },
    {
      "cell_type": "code",
      "source": [
        "for x in range (5):\n",
        "  for y in range (3):\n",
        "    print(f\"({x}, {y})\")"
      ],
      "metadata": {
        "colab": {
          "base_uri": "https://localhost:8080/"
        },
        "id": "xzT7b8J-t07r",
        "outputId": "a7b77c53-04c0-4ea2-c52f-14a8fda598e5"
      },
      "execution_count": null,
      "outputs": [
        {
          "output_type": "stream",
          "name": "stdout",
          "text": [
            "(0, 0)\n",
            "(0, 1)\n",
            "(0, 2)\n",
            "(1, 0)\n",
            "(1, 1)\n",
            "(1, 2)\n",
            "(2, 0)\n",
            "(2, 1)\n",
            "(2, 2)\n",
            "(3, 0)\n",
            "(3, 1)\n",
            "(3, 2)\n",
            "(4, 0)\n",
            "(4, 1)\n",
            "(4, 2)\n"
          ]
        }
      ]
    },
    {
      "cell_type": "code",
      "source": [
        "for x in [1, 2, 3, 4, 5]:\n",
        "  print (x)"
      ],
      "metadata": {
        "colab": {
          "base_uri": "https://localhost:8080/"
        },
        "id": "hNJ8XmMExZqh",
        "outputId": "cc8b1184-34fd-4f45-c970-8af5ec9003b4"
      },
      "execution_count": null,
      "outputs": [
        {
          "output_type": "stream",
          "name": "stdout",
          "text": [
            "1\n",
            "2\n",
            "3\n",
            "4\n",
            "5\n"
          ]
        }
      ]
    },
    {
      "cell_type": "code",
      "source": [
        "number = 100\n",
        "while number > 0:\n",
        "  print(number)\n",
        "  number //= 2"
      ],
      "metadata": {
        "colab": {
          "base_uri": "https://localhost:8080/"
        },
        "id": "PNwLYQ9SV4dz",
        "outputId": "97f929f2-1de2-4ced-c777-1f43f0c985c7"
      },
      "execution_count": 3,
      "outputs": [
        {
          "output_type": "stream",
          "name": "stdout",
          "text": [
            "100\n",
            "50\n",
            "25\n",
            "12\n",
            "6\n",
            "3\n",
            "1\n"
          ]
        }
      ]
    },
    {
      "cell_type": "code",
      "source": [
        "command = \"\"\n",
        "while command.lower() != \"quit\":\n",
        "  command = input(\">\")\n",
        "  print(\"ECHO\", command)"
      ],
      "metadata": {
        "colab": {
          "base_uri": "https://localhost:8080/"
        },
        "id": "jC7mvyd3YM05",
        "outputId": "678c3c13-daa2-475e-9357-6d108147c9e7"
      },
      "execution_count": 9,
      "outputs": [
        {
          "output_type": "stream",
          "name": "stdout",
          "text": [
            ">Quit\n",
            "ECHO Quit\n"
          ]
        }
      ]
    },
    {
      "cell_type": "code",
      "source": [
        "while True:\n",
        "  command = input(\">\")\n",
        "  print(\"ECHO\", command)\n",
        "  if command.lower() == \"quit\":\n",
        "    break"
      ],
      "metadata": {
        "colab": {
          "base_uri": "https://localhost:8080/"
        },
        "id": "60AoowTAaONY",
        "outputId": "4032c6df-c696-4031-973a-6d12e7cfd2f1"
      },
      "execution_count": 13,
      "outputs": [
        {
          "output_type": "stream",
          "name": "stdout",
          "text": [
            ">hello\n",
            "ECHO hello\n",
            ">quit\n",
            "ECHO quit\n"
          ]
        }
      ]
    },
    {
      "cell_type": "code",
      "source": [
        " for even_number in range(1, 10):\n",
        "   if even_number % 2 == 0:\n",
        "     while True:\n",
        "       print(f\"{even_number}\")\n",
        "       break\n",
        "print(f\"we have 4 even numbers\")\n",
        "\n",
        "\n",
        "\n",
        "     #print(f\"{x}, we have 4 even numbers\")"
      ],
      "metadata": {
        "colab": {
          "base_uri": "https://localhost:8080/"
        },
        "id": "c0vhCGpMcRR2",
        "outputId": "a4242832-9451-4fc7-b456-eaa9fb1f3cc4"
      },
      "execution_count": 38,
      "outputs": [
        {
          "output_type": "stream",
          "name": "stdout",
          "text": [
            "2\n",
            "4\n",
            "6\n",
            "8\n",
            "we have 4 even numbers\n"
          ]
        }
      ]
    },
    {
      "cell_type": "code",
      "source": [
        "count = 0\n",
        "for number in range(1, 10):\n",
        "  if number % 2 == 0:\n",
        "    count +=1\n",
        "    print(number)\n",
        "print(f\"We have {count} even numbers\")"
      ],
      "metadata": {
        "colab": {
          "base_uri": "https://localhost:8080/"
        },
        "id": "8JxmCG4ijulO",
        "outputId": "4851d61d-de3c-4218-be5d-59c1e7142c22"
      },
      "execution_count": 39,
      "outputs": [
        {
          "output_type": "stream",
          "name": "stdout",
          "text": [
            "2\n",
            "4\n",
            "6\n",
            "8\n",
            "We have 4 even numbers\n"
          ]
        }
      ]
    },
    {
      "cell_type": "code",
      "source": [
        "def greet():\n",
        "  print(\"Hi there\")\n",
        "  print(\"Welcome aboard\")\n",
        "\n",
        "  \n",
        "greet()"
      ],
      "metadata": {
        "colab": {
          "base_uri": "https://localhost:8080/"
        },
        "id": "cA_A5XFIlUsE",
        "outputId": "8822594b-787c-4757-ede6-512d3f5b3a3d"
      },
      "execution_count": 42,
      "outputs": [
        {
          "output_type": "stream",
          "name": "stdout",
          "text": [
            "Hi there\n",
            "Welcome aboard\n"
          ]
        }
      ]
    },
    {
      "cell_type": "code",
      "source": [
        "def greet(first_name, last_name):#first_name, last_name are parameters for the functions(INPUTS)\n",
        "  print(f\"Hi {first_name} {last_name}\")\n",
        "  print(\"Welcome aboard\")\n",
        "\n",
        "  \n",
        "greet(\"Obizoba\",\"Iloabachie\")#Arguments(actual value of the parameter)\n",
        "greet(\"John\", \"Smith\")"
      ],
      "metadata": {
        "colab": {
          "base_uri": "https://localhost:8080/"
        },
        "id": "KLbM7XL7mdgL",
        "outputId": "65345539-c172-424f-ecb8-d5b1e3fb7a62"
      },
      "execution_count": 46,
      "outputs": [
        {
          "output_type": "stream",
          "name": "stdout",
          "text": [
            "Hi Obizoba Iloabachie\n",
            "Welcome aboard\n",
            "Hi John Smith\n",
            "Welcome aboard\n"
          ]
        }
      ]
    },
    {
      "cell_type": "code",
      "source": [
        "def get_greeting(name):\n",
        "  return f\"Hi {name}\"\n",
        "\n",
        "get_greeting(\"Obizoba\")"
      ],
      "metadata": {
        "colab": {
          "base_uri": "https://localhost:8080/",
          "height": 36
        },
        "id": "OSsvI5ONoebA",
        "outputId": "ea885be1-aed3-4c50-e553-fe2d092b3f92"
      },
      "execution_count": 51,
      "outputs": [
        {
          "output_type": "execute_result",
          "data": {
            "application/vnd.google.colaboratory.intrinsic+json": {
              "type": "string"
            },
            "text/plain": [
              "'Hi Obizoba'"
            ]
          },
          "metadata": {},
          "execution_count": 51
        }
      ]
    },
    {
      "cell_type": "code",
      "source": [
        "def multiply(*numbers):\n",
        "  total = 1 \n",
        "  for number in numbers:\n",
        "    total *= number\n",
        "  return total\n",
        "\n",
        "\n",
        "print(multiply(2, 3, 4, 5))"
      ],
      "metadata": {
        "colab": {
          "base_uri": "https://localhost:8080/"
        },
        "id": "eK8V9ZzXsQ-d",
        "outputId": "f98bfcf6-4df4-4c98-ff37-fa25c9e557e5"
      },
      "execution_count": 53,
      "outputs": [
        {
          "output_type": "stream",
          "name": "stdout",
          "text": [
            "120\n"
          ]
        }
      ]
    }
  ]
}