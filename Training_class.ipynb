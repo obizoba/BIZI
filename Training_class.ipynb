{
  "nbformat": 4,
  "nbformat_minor": 0,
  "metadata": {
    "colab": {
      "name": "Training class.ipynb",
      "provenance": [],
      "authorship_tag": "ABX9TyNp1PwGlQFukfxE2BBizTMH",
      "include_colab_link": true
    },
    "kernelspec": {
      "name": "python3",
      "display_name": "Python 3"
    },
    "language_info": {
      "name": "python"
    }
  },
  "cells": [
    {
      "cell_type": "markdown",
      "metadata": {
        "id": "view-in-github",
        "colab_type": "text"
      },
      "source": [
        "<a href=\"https://colab.research.google.com/github/obizoba/BIZI/blob/master/Training_class.ipynb\" target=\"_parent\"><img src=\"https://colab.research.google.com/assets/colab-badge.svg\" alt=\"Open In Colab\"/></a>"
      ]
    },
    {
      "cell_type": "code",
      "execution_count": 21,
      "metadata": {
        "colab": {
          "base_uri": "https://localhost:8080/"
        },
        "id": "7jJjEJVSL-By",
        "outputId": "6d21bbad-fc9e-4ccd-9095-9e5171470e6f"
      },
      "outputs": [
        {
          "output_type": "stream",
          "name": "stdout",
          "text": [
            "x: 45\n",
            "z: 20.98998989898\n",
            "The value of y is 85.98998989898\n",
            "x:45, y:85.98998989898, z:20.98998989898\n"
          ]
        }
      ],
      "source": [
        "x = int(input(\"x: \"))\n",
        "z = float(input(\"z: \"))\n",
        "y = x + 20 + z\n",
        "print (f\"The value of y is {y}\")\n",
        "print (f\"x:{x}, y:{y}, z:{z}\")"
      ]
    },
    {
      "cell_type": "code",
      "source": [
        "\"bag\" > \"apple\""
      ],
      "metadata": {
        "colab": {
          "base_uri": "https://localhost:8080/"
        },
        "id": "7KhkUHVNSgbt",
        "outputId": "df245ee9-4c51-4aff-ea4a-d16074f433f2"
      },
      "execution_count": 30,
      "outputs": [
        {
          "output_type": "execute_result",
          "data": {
            "text/plain": [
              "True"
            ]
          },
          "metadata": {},
          "execution_count": 30
        }
      ]
    },
    {
      "cell_type": "code",
      "source": [
        "temperature = int(input(\"Temperature: \"))\n",
        "if temperature >= 30:\n",
        "  print(f\"Its hot\")\n",
        "  print(f\"Drink enough water\")\n",
        "elif temperature >= 20:\n",
        "  print(f\"its cold alittle, cover up NOW!!\")\n",
        "else:\n",
        "  print(f\"its  really cold, i need a heater\")\n",
        "print(f\"done\")"
      ],
      "metadata": {
        "colab": {
          "base_uri": "https://localhost:8080/"
        },
        "id": "0f62DCNOT7MB",
        "outputId": "d9dd25ba-0ff0-4077-a145-bf5aa9a7214d"
      },
      "execution_count": 50,
      "outputs": [
        {
          "output_type": "stream",
          "name": "stdout",
          "text": [
            "Temperature: 2\n",
            "its  really cold, i need a heater\n",
            "done\n"
          ]
        }
      ]
    },
    {
      "cell_type": "code",
      "source": [
        "age = 17\n",
        "if age >= 18:\n",
        "  message = \"Eligible\"\n",
        "else:\n",
        "  message = \"Not Eligible\"\n",
        "print(message)"
      ],
      "metadata": {
        "colab": {
          "base_uri": "https://localhost:8080/"
        },
        "id": "_cGf4-_GXuk7",
        "outputId": "35b860ea-873c-481f-e89b-5008bcffa357"
      },
      "execution_count": 57,
      "outputs": [
        {
          "output_type": "stream",
          "name": "stdout",
          "text": [
            "Not Eligible\n"
          ]
        }
      ]
    },
    {
      "cell_type": "code",
      "source": [
        "age = 12\n",
        "message = \"Eligible\" if age >= 18 else \"Not Eligible\"\n",
        "print(message)"
      ],
      "metadata": {
        "colab": {
          "base_uri": "https://localhost:8080/"
        },
        "id": "hXTVbE0tZ4jo",
        "outputId": "5d3487ab-1a6b-4c9f-8688-d5c1bd592bef"
      },
      "execution_count": 59,
      "outputs": [
        {
          "output_type": "stream",
          "name": "stdout",
          "text": [
            "Not Eligible\n"
          ]
        }
      ]
    },
    {
      "cell_type": "code",
      "source": [
        "high_income = False\n",
        "good_credit = True\n",
        "student = False\n",
        "\n",
        "if high_income and good_credit and not student:\n",
        "  print(\"Eligible\")\n",
        "else:\n",
        "  print(\"Not Eligible\")\n"
      ],
      "metadata": {
        "colab": {
          "base_uri": "https://localhost:8080/"
        },
        "id": "TaD9DQhwcyEI",
        "outputId": "9b0a5006-72cc-45b2-8af7-110cce96239c"
      },
      "execution_count": 79,
      "outputs": [
        {
          "output_type": "stream",
          "name": "stdout",
          "text": [
            "Not Eligible\n"
          ]
        }
      ]
    },
    {
      "cell_type": "code",
      "source": [
        "if not student:\n",
        "  print(\"Eligible\")\n",
        "else:\n",
        "  print(\"Not Eligible\")"
      ],
      "metadata": {
        "colab": {
          "base_uri": "https://localhost:8080/"
        },
        "id": "pDu45By-fkTP",
        "outputId": "13e7cf76-1185-4fd6-8616-d3ff099ec752"
      },
      "execution_count": 73,
      "outputs": [
        {
          "output_type": "stream",
          "name": "stdout",
          "text": [
            "Eligible\n"
          ]
        }
      ]
    },
    {
      "cell_type": "code",
      "source": [
        "# age should be between 18 and 65\n",
        "age = 22\n",
        "if 18 <= age < 65:\n",
        "  print (\"Eliglible\")"
      ],
      "metadata": {
        "colab": {
          "base_uri": "https://localhost:8080/"
        },
        "id": "pzqRS3kBnttI",
        "outputId": "38e2112e-81c1-4cd2-a61f-05c5a4c5f6a2"
      },
      "execution_count": 80,
      "outputs": [
        {
          "output_type": "stream",
          "name": "stdout",
          "text": [
            "Eliglible\n"
          ]
        }
      ]
    },
    {
      "cell_type": "code",
      "source": [
        "if 10 ==\"10\":\n",
        "  print(\"a\")\n",
        "elif \"bag\" > \"apple\" and \"bag\" > \"cat\":\n",
        "  print(\"b\")\n",
        "else:\n",
        "  print(\"c\")"
      ],
      "metadata": {
        "colab": {
          "base_uri": "https://localhost:8080/"
        },
        "id": "OgUoHn9LpF69",
        "outputId": "30a2b373-510c-4ce9-cc8c-fd588053892e"
      },
      "execution_count": 81,
      "outputs": [
        {
          "output_type": "stream",
          "name": "stdout",
          "text": [
            "c\n"
          ]
        }
      ]
    },
    {
      "cell_type": "code",
      "source": [
        "ord(\"b\")"
      ],
      "metadata": {
        "colab": {
          "base_uri": "https://localhost:8080/"
        },
        "id": "vFciuSPYpc0p",
        "outputId": "b01721e8-6440-4288-f6f7-b825b55239c6"
      },
      "execution_count": 83,
      "outputs": [
        {
          "output_type": "execute_result",
          "data": {
            "text/plain": [
              "98"
            ]
          },
          "metadata": {},
          "execution_count": 83
        }
      ]
    },
    {
      "cell_type": "code",
      "source": [
        "for number in range(1, 10, 2):\n",
        "  print(\"Attempt\", number , number * \".\")\n"
      ],
      "metadata": {
        "colab": {
          "base_uri": "https://localhost:8080/"
        },
        "id": "sV0tseZEprBl",
        "outputId": "914a11fa-ad86-47d8-889f-8060719bc51c"
      },
      "execution_count": 97,
      "outputs": [
        {
          "output_type": "stream",
          "name": "stdout",
          "text": [
            "Attempt 1 .\n",
            "Attempt 3 ...\n",
            "Attempt 5 .....\n",
            "Attempt 7 .......\n",
            "Attempt 9 .........\n"
          ]
        }
      ]
    },
    {
      "cell_type": "code",
      "source": [
        "successful = True\n",
        "for number in range(3):\n",
        "  print(\"Attempt\")\n",
        "  if successful:\n",
        "    print(\"successful\")\n",
        "    break\n",
        "else:\n",
        "  print(f\"Attempted 3 times and failed\")"
      ],
      "metadata": {
        "colab": {
          "base_uri": "https://localhost:8080/"
        },
        "id": "B0yXYiwVsBVG",
        "outputId": "836ae62f-b9a0-4911-cdeb-6d0e21f4a9a9"
      },
      "execution_count": 103,
      "outputs": [
        {
          "output_type": "stream",
          "name": "stdout",
          "text": [
            "Attempt\n",
            "successful\n"
          ]
        }
      ]
    },
    {
      "cell_type": "code",
      "source": [
        "for x in range (5):\n",
        "  for y in range (3):\n",
        "    print(f\"({x}, {y})\")"
      ],
      "metadata": {
        "colab": {
          "base_uri": "https://localhost:8080/"
        },
        "id": "xzT7b8J-t07r",
        "outputId": "a7b77c53-04c0-4ea2-c52f-14a8fda598e5"
      },
      "execution_count": 105,
      "outputs": [
        {
          "output_type": "stream",
          "name": "stdout",
          "text": [
            "(0, 0)\n",
            "(0, 1)\n",
            "(0, 2)\n",
            "(1, 0)\n",
            "(1, 1)\n",
            "(1, 2)\n",
            "(2, 0)\n",
            "(2, 1)\n",
            "(2, 2)\n",
            "(3, 0)\n",
            "(3, 1)\n",
            "(3, 2)\n",
            "(4, 0)\n",
            "(4, 1)\n",
            "(4, 2)\n"
          ]
        }
      ]
    },
    {
      "cell_type": "code",
      "source": [
        "for x in [1, 2, 3, 4, 5]:\n",
        "  print (x)"
      ],
      "metadata": {
        "colab": {
          "base_uri": "https://localhost:8080/"
        },
        "id": "hNJ8XmMExZqh",
        "outputId": "cc8b1184-34fd-4f45-c970-8af5ec9003b4"
      },
      "execution_count": 108,
      "outputs": [
        {
          "output_type": "stream",
          "name": "stdout",
          "text": [
            "1\n",
            "2\n",
            "3\n",
            "4\n",
            "5\n"
          ]
        }
      ]
    }
  ]
}