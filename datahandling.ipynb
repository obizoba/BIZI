{
  "nbformat": 4,
  "nbformat_minor": 0,
  "metadata": {
    "colab": {
      "name": "datahandling.ipynb",
      "provenance": [],
      "toc_visible": true,
      "authorship_tag": "ABX9TyOmHHZXG93uQN95f8OdY/Dk",
      "include_colab_link": true
    },
    "kernelspec": {
      "name": "python3",
      "display_name": "Python 3"
    }
  },
  "cells": [
    {
      "cell_type": "markdown",
      "metadata": {
        "id": "view-in-github",
        "colab_type": "text"
      },
      "source": [
        "<a href=\"https://colab.research.google.com/github/obizoba/BIZI/blob/master/datahandling.ipynb\" target=\"_parent\"><img src=\"https://colab.research.google.com/assets/colab-badge.svg\" alt=\"Open In Colab\"/></a>"
      ]
    },
    {
      "cell_type": "code",
      "metadata": {
        "colab": {
          "base_uri": "https://localhost:8080/",
          "height": 132
        },
        "id": "MnL1Dfy2iFuE",
        "outputId": "b246de01-3375-46df-ac9f-d0e58ba4c8be"
      },
      "source": [
        "def customer_name():\n",
        "  customer_name = input(\"what is your name Please?\"{})\n",
        "  "
      ],
      "execution_count": null,
      "outputs": [
        {
          "output_type": "error",
          "ename": "SyntaxError",
          "evalue": "ignored",
          "traceback": [
            "\u001b[0;36m  File \u001b[0;32m\"<ipython-input-3-e7a6ff9c1e40>\"\u001b[0;36m, line \u001b[0;32m2\u001b[0m\n\u001b[0;31m    customer_name = input(\"what is your name Please?\"{})\u001b[0m\n\u001b[0m                                                     ^\u001b[0m\n\u001b[0;31mSyntaxError\u001b[0m\u001b[0;31m:\u001b[0m invalid syntax\n"
          ]
        }
      ]
    },
    {
      "cell_type": "code",
      "metadata": {
        "colab": {
          "base_uri": "https://localhost:8080/"
        },
        "id": "aLqy35AHrhm1",
        "outputId": "eb83fd51-d97b-41d5-b16c-48650d697874"
      },
      "source": [
        "!pip install db-sqlite3"
      ],
      "execution_count": null,
      "outputs": [
        {
          "output_type": "stream",
          "text": [
            "Collecting db-sqlite3\n",
            "  Downloading https://files.pythonhosted.org/packages/ff/00/e1f3d7bf1e0bff7c0574c0d5535c041e139d4ce43db196147e4c62f52ed5/db-sqlite3-0.0.1.tar.gz\n",
            "Collecting db\n",
            "  Downloading https://files.pythonhosted.org/packages/a9/22/f65d64c83e63790b3273c6adb3bff338ad594f46d84b41bd1f94593b40a6/db-0.1.1.tar.gz\n",
            "Collecting antiorm\n",
            "\u001b[?25l  Downloading https://files.pythonhosted.org/packages/0b/f8/71baa4824d9666c1be51d117119579a97f461ddbded48b2e01a6ad0554b5/antiorm-1.2.1.tar.gz (171kB)\n",
            "\u001b[K     |████████████████████████████████| 174kB 5.8MB/s \n",
            "\u001b[?25hBuilding wheels for collected packages: db-sqlite3, db, antiorm\n",
            "  Building wheel for db-sqlite3 (setup.py) ... \u001b[?25l\u001b[?25hdone\n",
            "  Created wheel for db-sqlite3: filename=db_sqlite3-0.0.1-cp36-none-any.whl size=1797 sha256=8c10498c5f1cd122b3a1e140ac85d70ca7e0774348f9b2c8818df422d1f02764\n",
            "  Stored in directory: /root/.cache/pip/wheels/e0/f8/cb/08e3a3a63bdea9ac3a0cccd140636b6cf94e3fb7df1070b12e\n",
            "  Building wheel for db (setup.py) ... \u001b[?25l\u001b[?25hdone\n",
            "  Created wheel for db: filename=db-0.1.1-cp36-none-any.whl size=3894 sha256=df312c8fe9c275e23c229b577e9af40019e586a6458723f62f2f773c23001bfe\n",
            "  Stored in directory: /root/.cache/pip/wheels/30/eb/ba/237fa002d1d1b2e73cedcefd26a9db37c4b72c7e5156ea0501\n",
            "  Building wheel for antiorm (setup.py) ... \u001b[?25l\u001b[?25hdone\n",
            "  Created wheel for antiorm: filename=antiorm-1.2.1-cp36-none-any.whl size=31664 sha256=0d22c50dead584c8d450421e193c73be46da9b22aaf6949dbf29c06f4633f8ce\n",
            "  Stored in directory: /root/.cache/pip/wheels/b0/91/4d/f8fe808786ff1cda9e7e99e1b1bbda9196ab26786017965313\n",
            "Successfully built db-sqlite3 db antiorm\n",
            "Installing collected packages: antiorm, db, db-sqlite3\n",
            "Successfully installed antiorm-1.2.1 db-0.1.1 db-sqlite3-0.0.1\n"
          ],
          "name": "stdout"
        }
      ]
    },
    {
      "cell_type": "code",
      "metadata": {
        "id": "86IbmqXdsHDr"
      },
      "source": [
        "import pandas as pd\n",
        "import sqlite3\n",
        "from datetime import date"
      ],
      "execution_count": 72,
      "outputs": []
    },
    {
      "cell_type": "code",
      "metadata": {
        "id": "69qikHr5sa-B"
      },
      "source": [
        "#connecting with the database.\n",
        "db = sqlite3.connect(\"Abhi_testing.db\")\n",
        "db.execute(\"drop table if exists results\")\n",
        "try:\n",
        "  db.execute(\"create table results(Name text, Mobile text,Mail text)\")\n",
        "except:\n",
        "  print(\"Already table existed !!\")"
      ],
      "execution_count": null,
      "outputs": []
    },
    {
      "cell_type": "code",
      "metadata": {
        "id": "AdFAnyK1ty28"
      },
      "source": [
        "db = sqlite3.connect(\"Abhi_testing.db\")"
      ],
      "execution_count": null,
      "outputs": []
    },
    {
      "cell_type": "code",
      "metadata": {
        "id": "qTzm10XQt74D"
      },
      "source": [
        "\n",
        "#Date = date.today().strftime(\"%d-%m-%Y\")\n",
        "Name1 = \"Abhi\"\n",
        "Mobile1 = \"9000011101\"\n",
        "Mail1 = \"AbhiteachineMachine1@you.com\"\n",
        "\n",
        "cmd = \"insert into results(Name, Mobile ,Mail ) values('{}','{}','{}')\".format(Name1,Mobile1,Mail1)\n",
        "db.execute(cmd)\n",
        "db.commit()"
      ],
      "execution_count": 22,
      "outputs": []
    },
    {
      "cell_type": "code",
      "metadata": {
        "colab": {
          "base_uri": "https://localhost:8080/",
          "height": 36
        },
        "id": "kVrsOgyvwjg2",
        "outputId": "a957ac0d-66e0-41f4-e1b4-18d253ee1a14"
      },
      "source": [
        "Name1"
      ],
      "execution_count": 23,
      "outputs": [
        {
          "output_type": "execute_result",
          "data": {
            "application/vnd.google.colaboratory.intrinsic+json": {
              "type": "string"
            },
            "text/plain": [
              "'Abhi'"
            ]
          },
          "metadata": {
            "tags": []
          },
          "execution_count": 23
        }
      ]
    },
    {
      "cell_type": "code",
      "metadata": {
        "colab": {
          "base_uri": "https://localhost:8080/",
          "height": 36
        },
        "id": "bTDwI-QUwwVj",
        "outputId": "06da1216-87e3-469b-e440-20671f1f0ed9"
      },
      "source": [
        "Mail1"
      ],
      "execution_count": 27,
      "outputs": [
        {
          "output_type": "execute_result",
          "data": {
            "application/vnd.google.colaboratory.intrinsic+json": {
              "type": "string"
            },
            "text/plain": [
              "'AbhiteachineMachine1@you.com'"
            ]
          },
          "metadata": {
            "tags": []
          },
          "execution_count": 27
        }
      ]
    },
    {
      "cell_type": "code",
      "metadata": {
        "colab": {
          "base_uri": "https://localhost:8080/",
          "height": 36
        },
        "id": "yGXgatB5wwcd",
        "outputId": "870eb76f-1e5d-4d53-f736-aebbd6309cd3"
      },
      "source": [
        "Mobile1"
      ],
      "execution_count": 26,
      "outputs": [
        {
          "output_type": "execute_result",
          "data": {
            "application/vnd.google.colaboratory.intrinsic+json": {
              "type": "string"
            },
            "text/plain": [
              "'9000011101'"
            ]
          },
          "metadata": {
            "tags": []
          },
          "execution_count": 26
        }
      ]
    },
    {
      "cell_type": "code",
      "metadata": {
        "colab": {
          "base_uri": "https://localhost:8080/"
        },
        "id": "E9hmcooJw8Js",
        "outputId": "651e3ceb-7b8d-4e86-c07a-3937715d8443"
      },
      "source": [
        "\n",
        "db = sqlite3.connect(\"Abhi_testing.db\")\n",
        "rs = db.execute('SELECT * FROM results')\n",
        "for row in rs:\n",
        "    print (row)"
      ],
      "execution_count": 28,
      "outputs": [
        {
          "output_type": "stream",
          "text": [
            "('Abhi', '9000011101', 'AbhiteachineMachine1@you.com')\n",
            "('Abhi', '9000011101', 'AbhiteachineMachine1@you.com')\n",
            "('Abhi', '9000011101', 'AbhiteachineMachine1@you.com')\n",
            "('Abhi', '9000011101', 'AbhiteachineMachine1@you.com')\n",
            "('Abhi', '9000011101', 'AbhiteachineMachine1@you.com')\n",
            "('Abhi', '9000011101', 'AbhiteachineMachine1@you.com')\n"
          ],
          "name": "stdout"
        }
      ]
    },
    {
      "cell_type": "code",
      "metadata": {
        "colab": {
          "base_uri": "https://localhost:8080/"
        },
        "id": "Ux9QGR3qxYiL",
        "outputId": "e7770e34-9956-4e29-8b5d-104663696389"
      },
      "source": [
        "db = sqlite3.connect(\"Banking_system\")\n",
        "db.execute(\"drop table if exists results\")\n",
        "try:\n",
        "  db.execute(\"create table results(Name , Account,Account )\")\n",
        "except:\n",
        "  print(\"Already table existed !!\")"
      ],
      "execution_count": 43,
      "outputs": [
        {
          "output_type": "stream",
          "text": [
            "Already table existed !!\n"
          ],
          "name": "stdout"
        }
      ]
    },
    {
      "cell_type": "code",
      "metadata": {
        "id": "z1MkP38qyAKN"
      },
      "source": [
        "db = sqlite3.connect(\"Banking_system\")"
      ],
      "execution_count": 30,
      "outputs": []
    },
    {
      "cell_type": "code",
      "metadata": {
        "id": "zfsfJu3eyEz1"
      },
      "source": [
        "#Date = date.today().strftime(\"%d-%m-%Y\")\n",
        "Name = [\"obizoba\" ,\"john\",\"Amaka\",\"Mumu\",\"ify\"]\n",
        "Account_number = [\"9000011101\",\"34343434\",\"90090090\",\"7456656457\"]\n",
        "Account_Balance = [\"AbhiteachineMachine1@you.com\",\"AbhiteachineMachine1@you.com\",\"obizoba@gmail.com\"]"
      ],
      "execution_count": 52,
      "outputs": []
    },
    {
      "cell_type": "code",
      "metadata": {
        "colab": {
          "base_uri": "https://localhost:8080/",
          "height": 239
        },
        "id": "BKYLq4v11Q3l",
        "outputId": "2b64c7ea-9e4c-441e-e33f-fd8ed1ac8c65"
      },
      "source": [
        "\n",
        "cmd = \"insert into results(Name, Account,Account) values('{}','{}','{}')\".format(Name,Account_number,Account_Balance)\n",
        "db.execute(cmd)\n",
        "db.commit()"
      ],
      "execution_count": 53,
      "outputs": [
        {
          "output_type": "error",
          "ename": "OperationalError",
          "evalue": "ignored",
          "traceback": [
            "\u001b[0;31m---------------------------------------------------------------------------\u001b[0m",
            "\u001b[0;31mOperationalError\u001b[0m                          Traceback (most recent call last)",
            "\u001b[0;32m<ipython-input-53-c97162ac6569>\u001b[0m in \u001b[0;36m<module>\u001b[0;34m()\u001b[0m\n\u001b[1;32m      1\u001b[0m \u001b[0;34m\u001b[0m\u001b[0m\n\u001b[1;32m      2\u001b[0m \u001b[0mcmd\u001b[0m \u001b[0;34m=\u001b[0m \u001b[0;34m\"insert into results(Name, Account,Account) values('{}','{}','{}')\"\u001b[0m\u001b[0;34m.\u001b[0m\u001b[0mformat\u001b[0m\u001b[0;34m(\u001b[0m\u001b[0mName\u001b[0m\u001b[0;34m,\u001b[0m\u001b[0mAccount_number\u001b[0m\u001b[0;34m,\u001b[0m\u001b[0mAccount_Balance\u001b[0m\u001b[0;34m)\u001b[0m\u001b[0;34m\u001b[0m\u001b[0;34m\u001b[0m\u001b[0m\n\u001b[0;32m----> 3\u001b[0;31m \u001b[0mdb\u001b[0m\u001b[0;34m.\u001b[0m\u001b[0mexecute\u001b[0m\u001b[0;34m(\u001b[0m\u001b[0mcmd\u001b[0m\u001b[0;34m)\u001b[0m\u001b[0;34m\u001b[0m\u001b[0;34m\u001b[0m\u001b[0m\n\u001b[0m\u001b[1;32m      4\u001b[0m \u001b[0mdb\u001b[0m\u001b[0;34m.\u001b[0m\u001b[0mcommit\u001b[0m\u001b[0;34m(\u001b[0m\u001b[0;34m)\u001b[0m\u001b[0;34m\u001b[0m\u001b[0;34m\u001b[0m\u001b[0m\n",
            "\u001b[0;31mOperationalError\u001b[0m: near \"obizoba\": syntax error"
          ]
        }
      ]
    },
    {
      "cell_type": "code",
      "metadata": {
        "colab": {
          "base_uri": "https://localhost:8080/"
        },
        "id": "mgxxBiXd8xeT",
        "outputId": "72c96d99-8bd9-4f51-f681-eb1074783e55"
      },
      "source": [
        "Name\n"
      ],
      "execution_count": 55,
      "outputs": [
        {
          "output_type": "execute_result",
          "data": {
            "text/plain": [
              "['obizoba', 'john', 'Amaka', 'Mumu', 'ify']"
            ]
          },
          "metadata": {
            "tags": []
          },
          "execution_count": 55
        }
      ]
    },
    {
      "cell_type": "code",
      "metadata": {
        "colab": {
          "base_uri": "https://localhost:8080/"
        },
        "id": "M-AepiGr86xS",
        "outputId": "cbe901e3-73fa-411b-8cc9-f0bdd9bf5a23"
      },
      "source": [
        "Account_number"
      ],
      "execution_count": 56,
      "outputs": [
        {
          "output_type": "execute_result",
          "data": {
            "text/plain": [
              "['9000011101', '34343434', '90090090', '7456656457']"
            ]
          },
          "metadata": {
            "tags": []
          },
          "execution_count": 56
        }
      ]
    },
    {
      "cell_type": "code",
      "metadata": {
        "colab": {
          "base_uri": "https://localhost:8080/"
        },
        "id": "9ToMxlxZ88zK",
        "outputId": "f8158a30-88e4-4029-bc8e-42fa879e9947"
      },
      "source": [
        "Account_Balance"
      ],
      "execution_count": 57,
      "outputs": [
        {
          "output_type": "execute_result",
          "data": {
            "text/plain": [
              "['AbhiteachineMachine1@you.com',\n",
              " 'AbhiteachineMachine1@you.com',\n",
              " 'obizoba@gmail.com']"
            ]
          },
          "metadata": {
            "tags": []
          },
          "execution_count": 57
        }
      ]
    },
    {
      "cell_type": "code",
      "metadata": {
        "id": "lUCOQdMm89Ew"
      },
      "source": [
        "db = sqlite3.connect(\"Abhi_testing.db\")\n",
        "qry = \"\"\"\n",
        "\n",
        "SELECT * FROM results\n",
        "\n",
        "\"\"\"\n",
        "df = pd.read_sql_query(qry, db)\n",
        "df.head()"
      ],
      "execution_count": null,
      "outputs": []
    },
    {
      "cell_type": "code",
      "metadata": {
        "id": "QQJt7TB5AP1y"
      },
      "source": [
        "def pushtoDB(Name,Mobile,Mail):\n",
        "#inserting values inside the created table\n",
        "    db = sqlite3.connect(\"testing.db\")    \n",
        "    cmd = \"insert into results(Name, Mobile,Mail) values('{}','{}','{}')\".format(Name,Mobile,Mail)\n",
        "    db.execute(cmd)\n",
        "    db.commit()"
      ],
      "execution_count": 58,
      "outputs": []
    },
    {
      "cell_type": "code",
      "metadata": {
        "colab": {
          "base_uri": "https://localhost:8080/"
        },
        "id": "NaL2ohfpAYEC",
        "outputId": "96e43c11-94c4-4d28-9c65-9b1af0949ec8"
      },
      "source": [
        "data = pd.read_csv(\"dummy.csv\")\n",
        "data.head()\n",
        "data.shape"
      ],
      "execution_count": 62,
      "outputs": [
        {
          "output_type": "execute_result",
          "data": {
            "text/plain": [
              "(1128, 3)"
            ]
          },
          "metadata": {
            "tags": []
          },
          "execution_count": 62
        }
      ]
    },
    {
      "cell_type": "code",
      "metadata": {
        "colab": {
          "base_uri": "https://localhost:8080/"
        },
        "id": "rft6mWvYEuqP",
        "outputId": "38c6b180-d819-440f-83f2-3ee6d3eebc66"
      },
      "source": [
        "db = sqlite3.connect(\"Banking_system\")\n",
        "db.execute(\"drop table if exists results\")\n",
        "try:\n",
        "  db.execute(\"create table results(Name , Account,Account )\")\n",
        "except:\n",
        "  print(\"Already table existed !!\")"
      ],
      "execution_count": 81,
      "outputs": [
        {
          "output_type": "stream",
          "text": [
            "Already table existed !!\n"
          ],
          "name": "stdout"
        }
      ]
    },
    {
      "cell_type": "code",
      "metadata": {
        "id": "TG6ku9SmHmzQ"
      },
      "source": [
        "db = sqlite3.connect(\"Banking_system\")"
      ],
      "execution_count": 76,
      "outputs": []
    },
    {
      "cell_type": "code",
      "metadata": {
        "id": "AnuimIjoKano"
      },
      "source": [
        "#Date = date.today().strftime(\"%d-%m-%Y\")\n",
        "Name = [\"obizoba\" ,\"john\",\"Amaka\",\"Mumu\",\"ify\"]\n",
        "Account_number = [\"9000011101\",\"34343434\",\"90090090\",\"7456656457\"]\n",
        "Account_Balance = [\"AbhiteachineMachine1@you.com\",\"AbhiteachineMachine1@you.com\",\"obizoba@gmail.com\"]"
      ],
      "execution_count": 80,
      "outputs": []
    },
    {
      "cell_type": "code",
      "metadata": {
        "id": "NdEdJ7vkLDs3"
      },
      "source": [
        ""
      ],
      "execution_count": null,
      "outputs": []
    }
  ]
}