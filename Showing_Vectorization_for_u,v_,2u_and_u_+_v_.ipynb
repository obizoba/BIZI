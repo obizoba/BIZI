{
  "nbformat": 4,
  "nbformat_minor": 0,
  "metadata": {
    "colab": {
      "name": "Showing Vectorization for u,v ,2u and u + v .ipynb",
      "provenance": [],
      "authorship_tag": "ABX9TyPUTpGianzIEriOwva+IFu6",
      "include_colab_link": true
    },
    "kernelspec": {
      "name": "python3",
      "display_name": "Python 3"
    },
    "language_info": {
      "name": "python"
    }
  },
  "cells": [
    {
      "cell_type": "markdown",
      "metadata": {
        "id": "view-in-github",
        "colab_type": "text"
      },
      "source": [
        "<a href=\"https://colab.research.google.com/github/obizoba/BIZI/blob/master/Showing_Vectorization_for_u%2Cv_%2C2u_and_u_%2B_v_.ipynb\" target=\"_parent\"><img src=\"https://colab.research.google.com/assets/colab-badge.svg\" alt=\"Open In Colab\"/></a>"
      ]
    },
    {
      "cell_type": "markdown",
      "metadata": {
        "id": "O192wqqVfE-H"
      },
      "source": [
        "Showing Vectorization for u,v ,2u and u + v "
      ]
    },
    {
      "cell_type": "code",
      "metadata": {
        "id": "y4-UqKOsfASI"
      },
      "source": [
        "https://www.geogebra.org/graphing/pshgbmrh"
      ],
      "execution_count": null,
      "outputs": []
    }
  ]
}