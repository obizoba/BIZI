{
  "nbformat": 4,
  "nbformat_minor": 0,
  "metadata": {
    "colab": {
      "name": "Exercise – Pandas.ipynb",
      "provenance": [],
      "authorship_tag": "ABX9TyMdZKXnPQXvKtu+JajiAzDt",
      "include_colab_link": true
    },
    "kernelspec": {
      "name": "python3",
      "display_name": "Python 3"
    }
  },
  "cells": [
    {
      "cell_type": "markdown",
      "metadata": {
        "id": "view-in-github",
        "colab_type": "text"
      },
      "source": [
        "<a href=\"https://colab.research.google.com/github/obizoba/BIZI/blob/master/Exercise_%E2%80%93_Pandas.ipynb\" target=\"_parent\"><img src=\"https://colab.research.google.com/assets/colab-badge.svg\" alt=\"Open In Colab\"/></a>"
      ]
    },
    {
      "cell_type": "code",
      "metadata": {
        "colab": {
          "base_uri": "https://localhost:8080/"
        },
        "id": "J7o8QeZuUG4X",
        "outputId": "c7068158-aa84-4f89-af94-dea70859e841"
      },
      "source": [
        "import pandas as pd\r\n",
        "import numpy as np\r\n",
        "\r\n",
        "car = pd.read_csv(\"Motors.csv\")\r\n",
        "#print(car)\r\n",
        "print(car.tail(5))"
      ],
      "execution_count": 5,
      "outputs": [
        {
          "output_type": "stream",
          "text": [
            "    index     company body-style  ...  horsepower  average-mileage    price\n",
            "56     81  volkswagen      sedan  ...          85               27   7975.0\n",
            "57     82  volkswagen      sedan  ...          52               37   7995.0\n",
            "58     86  volkswagen      sedan  ...         100               26   9995.0\n",
            "59     87       volvo      sedan  ...         114               23  12940.0\n",
            "60     88       volvo      wagon  ...         114               23  13415.0\n",
            "\n",
            "[5 rows x 10 columns]\n"
          ],
          "name": "stdout"
        }
      ]
    },
    {
      "cell_type": "code",
      "metadata": {
        "colab": {
          "base_uri": "https://localhost:8080/"
        },
        "id": "p-fWnIQYZxFH",
        "outputId": "48056b0f-b1a3-4a63-eb90-7ae6904347cb"
      },
      "source": [
        "car = pd.read_csv(\"Motors.csv\",na_values={\"price\":[\"?\",\"n.a\"],\"stroke\":[\"?\",\"n.a\"],\"horsepower\":[\"?\",\"n.a\"],\"peak-rpm\":[\"?\",\"n.a\"],\"average-mileage\":[\"?\",\"n.a\"]})\r\n",
        "print(car)"
      ],
      "execution_count": 6,
      "outputs": [
        {
          "output_type": "stream",
          "text": [
            "    index      company   body-style  ...  horsepower  average-mileage    price\n",
            "0       0  alfa-romero  convertible  ...         111               21  13495.0\n",
            "1       1  alfa-romero  convertible  ...         111               21  16500.0\n",
            "2       2  alfa-romero    hatchback  ...         154               19  16500.0\n",
            "3       3         audi        sedan  ...         102               24  13950.0\n",
            "4       4         audi        sedan  ...         115               18  17450.0\n",
            "..    ...          ...          ...  ...         ...              ...      ...\n",
            "56     81   volkswagen        sedan  ...          85               27   7975.0\n",
            "57     82   volkswagen        sedan  ...          52               37   7995.0\n",
            "58     86   volkswagen        sedan  ...         100               26   9995.0\n",
            "59     87        volvo        sedan  ...         114               23  12940.0\n",
            "60     88        volvo        wagon  ...         114               23  13415.0\n",
            "\n",
            "[61 rows x 10 columns]\n"
          ],
          "name": "stdout"
        }
      ]
    },
    {
      "cell_type": "code",
      "metadata": {
        "colab": {
          "base_uri": "https://localhost:8080/"
        },
        "id": "2zwWcuLobd5b",
        "outputId": "8139f73a-b88e-4004-a4a4-851a5485f0cb"
      },
      "source": [
        "car = car[[\"company\" , \"price\"]][car.price == car[\"price\"].max()]\r\n",
        "print(car)"
      ],
      "execution_count": 7,
      "outputs": [
        {
          "output_type": "stream",
          "text": [
            "          company    price\n",
            "35  mercedes-benz  45400.0\n"
          ],
          "name": "stdout"
        }
      ]
    }
  ]
}