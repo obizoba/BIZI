{
  "nbformat": 4,
  "nbformat_minor": 0,
  "metadata": {
    "colab": {
      "name": "assignment test.ipynb",
      "provenance": [],
      "authorship_tag": "ABX9TyOed1/nwxNb1dYRDXS8Mpe/",
      "include_colab_link": true
    },
    "kernelspec": {
      "name": "python3",
      "display_name": "Python 3"
    }
  },
  "cells": [
    {
      "cell_type": "markdown",
      "metadata": {
        "id": "view-in-github",
        "colab_type": "text"
      },
      "source": [
        "<a href=\"https://colab.research.google.com/github/obizoba/BIZI/blob/master/assignment_testing.ipynb\" target=\"_parent\"><img src=\"https://colab.research.google.com/assets/colab-badge.svg\" alt=\"Open In Colab\"/></a>"
      ]
    },
    {
      "cell_type": "markdown",
      "metadata": {
        "id": "6aO739AWciwG"
      },
      "source": [
        "# First class\r\n",
        "## second class\r\n"
      ]
    },
    {
      "cell_type": "code",
      "metadata": {
        "colab": {
          "base_uri": "https://localhost:8080/"
        },
        "id": "WlLgUkKfctdf",
        "outputId": "a24fb635-f9e3-401b-9700-027d7a13e920"
      },
      "source": [
        "print(\"Obizoba\")"
      ],
      "execution_count": 4,
      "outputs": [
        {
          "output_type": "stream",
          "text": [
            "Obizoba\n"
          ],
          "name": "stdout"
        }
      ]
    },
    {
      "cell_type": "code",
      "metadata": {
        "id": "0c8R_kj7dDsK"
      },
      "source": [
        ""
      ],
      "execution_count": null,
      "outputs": []
    },
    {
      "cell_type": "code",
      "metadata": {
        "colab": {
          "base_uri": "https://localhost:8080/"
        },
        "id": "SHGb5lLFmix1",
        "outputId": "ef24e4a3-7fb8-4eff-8dd0-d4c9d10fa704"
      },
      "source": [
        "#Prompting user for the following Data\r\n",
        "employee_name = input(\"Employee Name: \")\r\n",
        "employee_number = input(\"Employee Number: \")\r\n",
        "week_ending = input(\"Week ending: \")\r\n",
        "hours_worked = float(input(\"Number of hours worked: \"))\r\n",
        "hourly_rate = float(input(\"Hourly Rate: \"))\r\n",
        "overtime_rate = float(input(\"Overtime Rate: \"))\r\n",
        "standard_tax_rate = float(input(\"Standard Tax Rate: \"))\r\n",
        "overtime_tax_rate = float(input(\"Overtime Tax Rate: \"))\r\n",
        "\r\n",
        "#Defined variables\r\n",
        "hours_normal = 37.50\r\n",
        "hours_overtime = hours_worked -37.50\r\n",
        "overtime_rate = overtime_rate * hourly_rate\r\n",
        "#print empty line/Spaces\r\n",
        "print()\r\n",
        "\r\n",
        "#print and centralize payslip heading\r\n",
        "print(\"PAYSLIP\".center(100))\r\n",
        "\r\n",
        "#using formatted text compute and display required output\r\n",
        "print(f'''\r\n",
        "WEEK ENDING: {week_ending}\r\n",
        "Employee: {employee_name}\r\n",
        "Employee Number: {employee_number}\r\n",
        "                       \\tEarnings                                         \\tDeductions\r\n",
        "                        Hours                    \\tRate      \\tTotal \r\n",
        "Hours (normal)         \\t{str(\"{:.2f}\".format(hours_normal))}                    \\t{str(\"{:.2f}\".format(hourly_rate))}     \\t{hours_normal * hourly_rate}    \\tTax  @  20%    \\t{(standard_tax_rate/100) * (hours_normal * hourly_rate)}\r\n",
        "Hours (overtime)       \\t{str(\"{:.2f}\".format(hours_overtime))}                  \\t{str(\"{:.2f}\".format(overtime_rate))}          \\t{hours_overtime * overtime_rate}        \\tTax  @  50%  \\t{str(\"{:.2f}\".format((overtime_tax_rate/100) * (hours_overtime * overtime_rate)))}\r\n",
        "\r\n",
        "                        Total pay:          \\t{str(\"{:.2f}\".format(((hours_normal * hourly_rate) + (hours_overtime * overtime_rate)))).rjust(50)}\r\n",
        "                        Total deductions:   \\t{str(\"{:.2f}\".format(((20/100) * (hours_normal * hourly_rate)) + ((50/100) * (hours_overtime * overtime_rate)))).rjust(50)}\r\n",
        "                        Net pay:            \\t{str(\"{:.2f}\".format(((hours_normal * hourly_rate) + (hours_overtime * overtime_rate)) - (((20/100) * (hours_normal * hourly_rate)) + ((50/100) * (hours_overtime * overtime_rate))))).rjust(50)}\r\n",
        "\r\n",
        "''')\r\n",
        "\r\n"
      ],
      "execution_count": 5,
      "outputs": [
        {
          "output_type": "stream",
          "text": [
            "Employee Name: obizoba\n",
            "Employee Number: 1234567A\n",
            "Week ending: 26/12/2020\n",
            "Number of hours worked: 34.9\n",
            "Hourly Rate: 1.5\n",
            "Overtime Rate: 346\n",
            "Standard Tax Rate: 20\n",
            "Overtime Tax Rate: 50\n",
            "\n",
            "                                              PAYSLIP                                               \n",
            "\n",
            "WEEK ENDING: 26/12/2020\n",
            "Employee: obizoba\n",
            "Employee Number: 1234567A\n",
            "                       \tEarnings                                         \tDeductions\n",
            "                        Hours                    \tRate      \tTotal \n",
            "Hours (normal)         \t37.50                    \t1.50     \t56.25    \tTax  @  20%    \t11.25\n",
            "Hours (overtime)       \t-2.60                  \t519.00          \t-1349.4000000000008        \tTax  @  50%  \t-674.70\n",
            "\n",
            "                        Total pay:          \t                                          -1293.15\n",
            "                        Total deductions:   \t                                           -663.45\n",
            "                        Net pay:            \t                                           -629.70\n",
            "\n",
            "\n"
          ],
          "name": "stdout"
        }
      ]
    },
    {
      "cell_type": "code",
      "metadata": {
        "colab": {
          "base_uri": "https://localhost:8080/",
          "height": 53
        },
        "id": "SDbsFc_sonsy",
        "outputId": "56d10658-abdf-475d-f267-82279c269e6a"
      },
      "source": [
        "input(\"enter a number:  \")\r\n"
      ],
      "execution_count": 12,
      "outputs": [
        {
          "output_type": "stream",
          "text": [
            "enter a number:  23\n"
          ],
          "name": "stdout"
        },
        {
          "output_type": "execute_result",
          "data": {
            "application/vnd.google.colaboratory.intrinsic+json": {
              "type": "string"
            },
            "text/plain": [
              "'23'"
            ]
          },
          "metadata": {
            "tags": []
          },
          "execution_count": 12
        }
      ]
    },
    {
      "cell_type": "code",
      "metadata": {
        "colab": {
          "base_uri": "https://localhost:8080/"
        },
        "id": "rQDH6LYoqcPd",
        "outputId": "e688348e-7b81-4084-e321-5d34c6c86b00"
      },
      "source": [
        "euros= input(f\"enter an amount in euros: \")\r\n",
        "euros_cent= int(euros) * 100\r\n",
        "print(f\"This is your amount in euros cent: {euros_cent}\")\r\n"
      ],
      "execution_count": 18,
      "outputs": [
        {
          "output_type": "stream",
          "text": [
            "enter an amount in euros: 1\n",
            "This is your amount in euros cent: 100\n"
          ],
          "name": "stdout"
        }
      ]
    },
    {
      "cell_type": "code",
      "metadata": {
        "id": "3oaCX1kC0SxW"
      },
      "source": [
        "def salutation():\r\n",
        "  print(\"hello world!\")\r\n",
        "  "
      ],
      "execution_count": 21,
      "outputs": []
    },
    {
      "cell_type": "code",
      "metadata": {
        "colab": {
          "base_uri": "https://localhost:8080/"
        },
        "id": "XXEplkMg06gM",
        "outputId": "af0ab94d-e656-4142-d496-ed1374f1e60f"
      },
      "source": [
        "(my_error>0) + 2\r\n"
      ],
      "execution_count": 28,
      "outputs": [
        {
          "output_type": "execute_result",
          "data": {
            "text/plain": [
              "3"
            ]
          },
          "metadata": {
            "tags": []
          },
          "execution_count": 28
        }
      ]
    },
    {
      "cell_type": "code",
      "metadata": {
        "colab": {
          "base_uri": "https://localhost:8080/"
        },
        "id": "equhTad4pDMo",
        "outputId": "3122f2b0-cd31-4211-e0dc-4cf7b431c951"
      },
      "source": [
        "number=[1,2,3,4,5,6,7,8,9]\r\n",
        "print(number[-4:])"
      ],
      "execution_count": 35,
      "outputs": [
        {
          "output_type": "stream",
          "text": [
            "[6, 7, 8, 9]\n"
          ],
          "name": "stdout"
        }
      ]
    },
    {
      "cell_type": "code",
      "metadata": {
        "colab": {
          "base_uri": "https://localhost:8080/"
        },
        "id": "KidPwJX6p6yB",
        "outputId": "5ea47f6a-d4f1-4e14-f8ce-cea66783ba1a"
      },
      "source": [
        "my_name=\"Obizobailo\"\r\n",
        "print(my_name[-4:])"
      ],
      "execution_count": 37,
      "outputs": [
        {
          "output_type": "stream",
          "text": [
            "ailo\n"
          ],
          "name": "stdout"
        }
      ]
    },
    {
      "cell_type": "code",
      "metadata": {
        "colab": {
          "base_uri": "https://localhost:8080/"
        },
        "id": "yCGCaKQovCnC",
        "outputId": "8516419f-8c2b-40f8-d2b7-1f8a296c8350"
      },
      "source": [
        "sum=5.6+(5>6)\r\n",
        "print(sum)\r\n",
        "print(type(sum))"
      ],
      "execution_count": 45,
      "outputs": [
        {
          "output_type": "stream",
          "text": [
            "5.6\n",
            "<class 'float'>\n"
          ],
          "name": "stdout"
        }
      ]
    }
  ]
}