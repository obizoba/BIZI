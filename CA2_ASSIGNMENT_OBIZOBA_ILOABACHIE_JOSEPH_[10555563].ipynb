{
  "nbformat": 4,
  "nbformat_minor": 0,
  "metadata": {
    "colab": {
      "name": "CA2 ASSIGNMENT-OBIZOBA ILOABACHIE JOSEPH [10555563].ipynb",
      "provenance": [],
      "collapsed_sections": [],
      "authorship_tag": "ABX9TyOK1eT66pWGa5WUJ94Vp8qS",
      "include_colab_link": true
    },
    "kernelspec": {
      "name": "python3",
      "display_name": "Python 3"
    }
  },
  "cells": [
    {
      "cell_type": "markdown",
      "metadata": {
        "id": "view-in-github",
        "colab_type": "text"
      },
      "source": [
        "<a href=\"https://colab.research.google.com/github/obizoba/BIZI/blob/master/CA2_ASSIGNMENT_OBIZOBA_ILOABACHIE_JOSEPH_%5B10555563%5D.ipynb\" target=\"_parent\"><img src=\"https://colab.research.google.com/assets/colab-badge.svg\" alt=\"Open In Colab\"/></a>"
      ]
    },
    {
      "cell_type": "markdown",
      "metadata": {
        "id": "-DimAUq3s2FO"
      },
      "source": [
        "#ETL (Extract, Transform, Load) Technique on FireBrigadeAndAmbulanceCallOuts.csv"
      ]
    },
    {
      "cell_type": "markdown",
      "metadata": {
        "id": "kZZDtzA0vfat"
      },
      "source": [
        "##[1] Load the CSV file (using Python)."
      ]
    },
    {
      "cell_type": "code",
      "metadata": {
        "colab": {
          "base_uri": "https://localhost:8080/",
          "height": 930
        },
        "id": "wXfRWy6gsyjd",
        "outputId": "1c4d4c20-878e-4529-be3d-52a360d5dc39"
      },
      "source": [
        "import pandas as pd#importing panda libery\r\n",
        "import numpy as np#importing numpy libery \r\n",
        "FireBrigade = pd.read_csv(\"FireBrigadeAndAmbulanceCallOuts (1) (1).csv\")#Loading the CSV file and establishing path way(using Python).\r\n",
        "print(f\"Here is the details of the dataset:\\n{FireBrigade}\")#Showing complete view of the data.\r\n",
        "FireBrigade.head(21)#showing the first 20 rows in the dataset."
      ],
      "execution_count": null,
      "outputs": [
        {
          "output_type": "stream",
          "text": [
            "Here is the details of the dataset:\n",
            "             Date    Station Area   Description  ...        AH       MAV        CD\n",
            "0      01/01/2013     Rathfarnham     S/S OTHER  ...  02:28:54  02:48:54  03:08:54\n",
            "1      01/01/2013        Tallaght      Fire CAR  ...  02:25:43  02:45:43  03:05:43\n",
            "2      01/01/2013    North Strand       S/S RTA  ...  04:11:20  04:31:20  04:51:20\n",
            "3      01/01/2013        Tallaght      Fire CAR  ...  04:50:48  05:10:48  05:30:48\n",
            "4      01/01/2013         Finglas  Fire DOM PER  ...  04:50:47  05:10:47  05:30:47\n",
            "...           ...             ...           ...  ...       ...       ...       ...\n",
            "38551  28/04/2018  Blanchardstown    Fire ALARM  ...       NaN  00:20:00  00:40:00\n",
            "38552  09/10/2018      Kilbarrack      Fire CAR  ...       NaN  00:20:00  00:40:00\n",
            "38553  07/06/2018        Skerries    Fire SMALL  ...       NaN         -         -\n",
            "38554  21/11/2018      Donnybrook    Fire ALARM  ...       NaN         -         -\n",
            "38555  01/01/2019      Kilbarrack    Fire ALARM  ...       NaN         -         -\n",
            "\n",
            "[38556 rows x 11 columns]\n"
          ],
          "name": "stdout"
        },
        {
          "output_type": "execute_result",
          "data": {
            "text/html": [
              "<div>\n",
              "<style scoped>\n",
              "    .dataframe tbody tr th:only-of-type {\n",
              "        vertical-align: middle;\n",
              "    }\n",
              "\n",
              "    .dataframe tbody tr th {\n",
              "        vertical-align: top;\n",
              "    }\n",
              "\n",
              "    .dataframe thead th {\n",
              "        text-align: right;\n",
              "    }\n",
              "</style>\n",
              "<table border=\"1\" class=\"dataframe\">\n",
              "  <thead>\n",
              "    <tr style=\"text-align: right;\">\n",
              "      <th></th>\n",
              "      <th>Date</th>\n",
              "      <th>Station Area</th>\n",
              "      <th>Description</th>\n",
              "      <th>TOC</th>\n",
              "      <th>ORD</th>\n",
              "      <th>MOB</th>\n",
              "      <th>IA</th>\n",
              "      <th>LS</th>\n",
              "      <th>AH</th>\n",
              "      <th>MAV</th>\n",
              "      <th>CD</th>\n",
              "    </tr>\n",
              "  </thead>\n",
              "  <tbody>\n",
              "    <tr>\n",
              "      <th>0</th>\n",
              "      <td>01/01/2013</td>\n",
              "      <td>Rathfarnham</td>\n",
              "      <td>S/S OTHER</td>\n",
              "      <td>01:27:19</td>\n",
              "      <td>01:28:58</td>\n",
              "      <td>01:30:47</td>\n",
              "      <td>01:58:54</td>\n",
              "      <td>02:08:54</td>\n",
              "      <td>02:28:54</td>\n",
              "      <td>02:48:54</td>\n",
              "      <td>03:08:54</td>\n",
              "    </tr>\n",
              "    <tr>\n",
              "      <th>1</th>\n",
              "      <td>01/01/2013</td>\n",
              "      <td>Tallaght</td>\n",
              "      <td>Fire CAR</td>\n",
              "      <td>01:49:57</td>\n",
              "      <td>01:50:40</td>\n",
              "      <td>01:51:47</td>\n",
              "      <td>01:55:43</td>\n",
              "      <td>02:05:43</td>\n",
              "      <td>02:25:43</td>\n",
              "      <td>02:45:43</td>\n",
              "      <td>03:05:43</td>\n",
              "    </tr>\n",
              "    <tr>\n",
              "      <th>2</th>\n",
              "      <td>01/01/2013</td>\n",
              "      <td>North Strand</td>\n",
              "      <td>S/S RTA</td>\n",
              "      <td>03:35:24</td>\n",
              "      <td>03:36:14</td>\n",
              "      <td>03:38:28</td>\n",
              "      <td>03:41:20</td>\n",
              "      <td>03:51:20</td>\n",
              "      <td>04:11:20</td>\n",
              "      <td>04:31:20</td>\n",
              "      <td>04:51:20</td>\n",
              "    </tr>\n",
              "    <tr>\n",
              "      <th>3</th>\n",
              "      <td>01/01/2013</td>\n",
              "      <td>Tallaght</td>\n",
              "      <td>Fire CAR</td>\n",
              "      <td>04:12:51</td>\n",
              "      <td>04:13:56</td>\n",
              "      <td>04:14:32</td>\n",
              "      <td>04:20:48</td>\n",
              "      <td>04:30:48</td>\n",
              "      <td>04:50:48</td>\n",
              "      <td>05:10:48</td>\n",
              "      <td>05:30:48</td>\n",
              "    </tr>\n",
              "    <tr>\n",
              "      <th>4</th>\n",
              "      <td>01/01/2013</td>\n",
              "      <td>Finglas</td>\n",
              "      <td>Fire DOM PER</td>\n",
              "      <td>04:14:24</td>\n",
              "      <td>04:15:36</td>\n",
              "      <td>04:17:37</td>\n",
              "      <td>04:20:47</td>\n",
              "      <td>04:30:47</td>\n",
              "      <td>04:50:47</td>\n",
              "      <td>05:10:47</td>\n",
              "      <td>05:30:47</td>\n",
              "    </tr>\n",
              "    <tr>\n",
              "      <th>5</th>\n",
              "      <td>01/01/2013</td>\n",
              "      <td>Tallaght</td>\n",
              "      <td>S/S OTHER</td>\n",
              "      <td>04:54:30</td>\n",
              "      <td>04:59:08</td>\n",
              "      <td>05:02:07</td>\n",
              "      <td>05:09:48</td>\n",
              "      <td>05:19:48</td>\n",
              "      <td>05:39:48</td>\n",
              "      <td>05:59:48</td>\n",
              "      <td>06:19:48</td>\n",
              "    </tr>\n",
              "    <tr>\n",
              "      <th>6</th>\n",
              "      <td>01/01/2013</td>\n",
              "      <td>Dun Laoghaire</td>\n",
              "      <td>Fire ALARM</td>\n",
              "      <td>05:12:03</td>\n",
              "      <td>05:15:00</td>\n",
              "      <td>05:17:23</td>\n",
              "      <td>05:25:13</td>\n",
              "      <td>05:35:13</td>\n",
              "      <td>05:55:13</td>\n",
              "      <td>06:15:13</td>\n",
              "      <td>06:35:13</td>\n",
              "    </tr>\n",
              "    <tr>\n",
              "      <th>7</th>\n",
              "      <td>01/01/2013</td>\n",
              "      <td>Tara St</td>\n",
              "      <td>Fire ALARM</td>\n",
              "      <td>05:45:45</td>\n",
              "      <td>05:47:55</td>\n",
              "      <td>05:51:19</td>\n",
              "      <td>NaN</td>\n",
              "      <td>00:10:00</td>\n",
              "      <td>00:30:00</td>\n",
              "      <td>00:50:00</td>\n",
              "      <td>01:10:00</td>\n",
              "    </tr>\n",
              "    <tr>\n",
              "      <th>8</th>\n",
              "      <td>01/01/2013</td>\n",
              "      <td>Balbriggan</td>\n",
              "      <td>Fire ALARM</td>\n",
              "      <td>05:59:23</td>\n",
              "      <td>06:00:13</td>\n",
              "      <td>06:03:34</td>\n",
              "      <td>06:10:10</td>\n",
              "      <td>06:20:10</td>\n",
              "      <td>06:40:10</td>\n",
              "      <td>07:00:10</td>\n",
              "      <td>07:20:10</td>\n",
              "    </tr>\n",
              "    <tr>\n",
              "      <th>9</th>\n",
              "      <td>01/01/2013</td>\n",
              "      <td>Kilbarrack</td>\n",
              "      <td>Fire ALARM</td>\n",
              "      <td>06:07:42</td>\n",
              "      <td>06:08:51</td>\n",
              "      <td>06:10:41</td>\n",
              "      <td>06:13:47</td>\n",
              "      <td>06:23:47</td>\n",
              "      <td>06:43:47</td>\n",
              "      <td>07:03:47</td>\n",
              "      <td>07:23:47</td>\n",
              "    </tr>\n",
              "    <tr>\n",
              "      <th>10</th>\n",
              "      <td>01/01/2013</td>\n",
              "      <td>Dolphins Barn</td>\n",
              "      <td>S/S GRDASS</td>\n",
              "      <td>06:25:31</td>\n",
              "      <td>06:26:38</td>\n",
              "      <td>06:28:58</td>\n",
              "      <td>06:32:39</td>\n",
              "      <td>06:42:39</td>\n",
              "      <td>07:02:39</td>\n",
              "      <td>07:22:39</td>\n",
              "      <td>07:42:39</td>\n",
              "    </tr>\n",
              "    <tr>\n",
              "      <th>11</th>\n",
              "      <td>01/01/2013</td>\n",
              "      <td>Tara St</td>\n",
              "      <td>Fire HIGHRISE</td>\n",
              "      <td>07:46:08</td>\n",
              "      <td>07:46:57</td>\n",
              "      <td>07:49:38</td>\n",
              "      <td>07:52:22</td>\n",
              "      <td>08:02:22</td>\n",
              "      <td>08:22:22</td>\n",
              "      <td>08:42:22</td>\n",
              "      <td>09:02:22</td>\n",
              "    </tr>\n",
              "    <tr>\n",
              "      <th>12</th>\n",
              "      <td>01/01/2013</td>\n",
              "      <td>Blanchardstown</td>\n",
              "      <td>Fire CAR</td>\n",
              "      <td>08:08:46</td>\n",
              "      <td>08:09:54</td>\n",
              "      <td>08:12:19</td>\n",
              "      <td>08:16:20</td>\n",
              "      <td>08:26:20</td>\n",
              "      <td>08:46:20</td>\n",
              "      <td>09:06:20</td>\n",
              "      <td>09:26:20</td>\n",
              "    </tr>\n",
              "    <tr>\n",
              "      <th>13</th>\n",
              "      <td>01/01/2013</td>\n",
              "      <td>Kilbarrack</td>\n",
              "      <td>Fire CAR</td>\n",
              "      <td>09:34:57</td>\n",
              "      <td>09:36:33</td>\n",
              "      <td>09:37:40</td>\n",
              "      <td>09:44:22</td>\n",
              "      <td>09:54:22</td>\n",
              "      <td>10:14:22</td>\n",
              "      <td>10:34:22</td>\n",
              "      <td>10:54:22</td>\n",
              "    </tr>\n",
              "    <tr>\n",
              "      <th>14</th>\n",
              "      <td>01/01/2013</td>\n",
              "      <td>Balbriggan</td>\n",
              "      <td>Fire CAR</td>\n",
              "      <td>12:29:22</td>\n",
              "      <td>12:32:07</td>\n",
              "      <td>12:33:41</td>\n",
              "      <td>12:44:18</td>\n",
              "      <td>12:54:18</td>\n",
              "      <td>13:14:18</td>\n",
              "      <td>13:34:18</td>\n",
              "      <td>13:54:18</td>\n",
              "    </tr>\n",
              "    <tr>\n",
              "      <th>15</th>\n",
              "      <td>01/01/2013</td>\n",
              "      <td>Dun Laoghaire</td>\n",
              "      <td>Fire CHIMNEY</td>\n",
              "      <td>12:36:48</td>\n",
              "      <td>12:37:20</td>\n",
              "      <td>12:38:56</td>\n",
              "      <td>NaN</td>\n",
              "      <td>00:10:00</td>\n",
              "      <td>00:30:00</td>\n",
              "      <td>00:50:00</td>\n",
              "      <td>01:10:00</td>\n",
              "    </tr>\n",
              "    <tr>\n",
              "      <th>16</th>\n",
              "      <td>01/01/2013</td>\n",
              "      <td>Tallaght</td>\n",
              "      <td>S/S RTA</td>\n",
              "      <td>13:46:56</td>\n",
              "      <td>13:47:34</td>\n",
              "      <td>13:48:46</td>\n",
              "      <td>13:50:35</td>\n",
              "      <td>14:00:35</td>\n",
              "      <td>14:20:35</td>\n",
              "      <td>14:40:35</td>\n",
              "      <td>15:00:35</td>\n",
              "    </tr>\n",
              "    <tr>\n",
              "      <th>17</th>\n",
              "      <td>01/01/2013</td>\n",
              "      <td>Kilbarrack</td>\n",
              "      <td>S/S OTHER</td>\n",
              "      <td>14:55:07</td>\n",
              "      <td>14:56:41</td>\n",
              "      <td>14:59:09</td>\n",
              "      <td>15:02:47</td>\n",
              "      <td>15:12:47</td>\n",
              "      <td>15:32:47</td>\n",
              "      <td>15:52:47</td>\n",
              "      <td>16:12:47</td>\n",
              "    </tr>\n",
              "    <tr>\n",
              "      <th>18</th>\n",
              "      <td>01/01/2013</td>\n",
              "      <td>Tallaght</td>\n",
              "      <td>Fire DOMESTIC</td>\n",
              "      <td>15:08:32</td>\n",
              "      <td>15:09:21</td>\n",
              "      <td>15:10:26</td>\n",
              "      <td>15:18:37</td>\n",
              "      <td>15:28:37</td>\n",
              "      <td>15:48:37</td>\n",
              "      <td>16:08:37</td>\n",
              "      <td>16:28:37</td>\n",
              "    </tr>\n",
              "    <tr>\n",
              "      <th>19</th>\n",
              "      <td>01/01/2013</td>\n",
              "      <td>Tallaght</td>\n",
              "      <td>Fire DOMESTIC</td>\n",
              "      <td>15:13:42</td>\n",
              "      <td>15:16:26</td>\n",
              "      <td>15:17:46</td>\n",
              "      <td>15:22:52</td>\n",
              "      <td>15:32:52</td>\n",
              "      <td>15:52:52</td>\n",
              "      <td>16:12:52</td>\n",
              "      <td>16:32:52</td>\n",
              "    </tr>\n",
              "    <tr>\n",
              "      <th>20</th>\n",
              "      <td>01/01/2013</td>\n",
              "      <td>Tallaght</td>\n",
              "      <td>Fire FIRE</td>\n",
              "      <td>16:02:36</td>\n",
              "      <td>16:03:42</td>\n",
              "      <td>16:04:36</td>\n",
              "      <td>16:08:27</td>\n",
              "      <td>16:18:27</td>\n",
              "      <td>16:38:27</td>\n",
              "      <td>16:58:27</td>\n",
              "      <td>17:18:27</td>\n",
              "    </tr>\n",
              "  </tbody>\n",
              "</table>\n",
              "</div>"
            ],
            "text/plain": [
              "          Date    Station Area    Description  ...        AH       MAV        CD\n",
              "0   01/01/2013     Rathfarnham      S/S OTHER  ...  02:28:54  02:48:54  03:08:54\n",
              "1   01/01/2013        Tallaght       Fire CAR  ...  02:25:43  02:45:43  03:05:43\n",
              "2   01/01/2013    North Strand        S/S RTA  ...  04:11:20  04:31:20  04:51:20\n",
              "3   01/01/2013        Tallaght       Fire CAR  ...  04:50:48  05:10:48  05:30:48\n",
              "4   01/01/2013         Finglas   Fire DOM PER  ...  04:50:47  05:10:47  05:30:47\n",
              "5   01/01/2013        Tallaght      S/S OTHER  ...  05:39:48  05:59:48  06:19:48\n",
              "6   01/01/2013   Dun Laoghaire     Fire ALARM  ...  05:55:13  06:15:13  06:35:13\n",
              "7   01/01/2013         Tara St     Fire ALARM  ...  00:30:00  00:50:00  01:10:00\n",
              "8   01/01/2013      Balbriggan     Fire ALARM  ...  06:40:10  07:00:10  07:20:10\n",
              "9   01/01/2013      Kilbarrack     Fire ALARM  ...  06:43:47  07:03:47  07:23:47\n",
              "10  01/01/2013   Dolphins Barn     S/S GRDASS  ...  07:02:39  07:22:39  07:42:39\n",
              "11  01/01/2013         Tara St  Fire HIGHRISE  ...  08:22:22  08:42:22  09:02:22\n",
              "12  01/01/2013  Blanchardstown       Fire CAR  ...  08:46:20  09:06:20  09:26:20\n",
              "13  01/01/2013      Kilbarrack       Fire CAR  ...  10:14:22  10:34:22  10:54:22\n",
              "14  01/01/2013      Balbriggan       Fire CAR  ...  13:14:18  13:34:18  13:54:18\n",
              "15  01/01/2013   Dun Laoghaire   Fire CHIMNEY  ...  00:30:00  00:50:00  01:10:00\n",
              "16  01/01/2013        Tallaght        S/S RTA  ...  14:20:35  14:40:35  15:00:35\n",
              "17  01/01/2013      Kilbarrack      S/S OTHER  ...  15:32:47  15:52:47  16:12:47\n",
              "18  01/01/2013        Tallaght  Fire DOMESTIC  ...  15:48:37  16:08:37  16:28:37\n",
              "19  01/01/2013        Tallaght  Fire DOMESTIC  ...  15:52:52  16:12:52  16:32:52\n",
              "20  01/01/2013        Tallaght      Fire FIRE  ...  16:38:27  16:58:27  17:18:27\n",
              "\n",
              "[21 rows x 11 columns]"
            ]
          },
          "metadata": {
            "tags": []
          },
          "execution_count": 137
        }
      ]
    },
    {
      "cell_type": "markdown",
      "metadata": {
        "id": "VZz1kfjgxsk2"
      },
      "source": [
        "##[2] Output the total number of rows and columns."
      ]
    },
    {
      "cell_type": "code",
      "metadata": {
        "colab": {
          "base_uri": "https://localhost:8080/"
        },
        "id": "zSqFdI7ux1mg",
        "outputId": "cf6cea48-e6cc-4104-d5f3-50624684c68d"
      },
      "source": [
        "print(f\"The total number of rows and columns in the dataset are:\\n{FireBrigade.shape}.\")#Outputing the total number of rows and columns of the dataset."
      ],
      "execution_count": null,
      "outputs": [
        {
          "output_type": "stream",
          "text": [
            "The total number of rows and columns in the dataset are:\n",
            "(38556, 11).\n"
          ],
          "name": "stdout"
        }
      ]
    },
    {
      "cell_type": "markdown",
      "metadata": {
        "id": "Qw8oSMfayV4P"
      },
      "source": [
        "##[3] Output the number of non-null rows (by column)."
      ]
    },
    {
      "cell_type": "code",
      "metadata": {
        "colab": {
          "base_uri": "https://localhost:8080/"
        },
        "id": "ogjA7IJMyiy3",
        "outputId": "27b0e9c8-1085-44ad-e34a-eecbc4692b2d"
      },
      "source": [
        "print(f\"The output for null-null rows is:\\n{FireBrigade.count()}\")#Outputing the number of non-null rows (by column)."
      ],
      "execution_count": null,
      "outputs": [
        {
          "output_type": "stream",
          "text": [
            "The output for null-null rows is:\n",
            "Date            38556\n",
            "Station Area    38556\n",
            "Description     38556\n",
            "TOC             38556\n",
            "ORD             38556\n",
            "MOB             37311\n",
            "IA              30962\n",
            "LS              38556\n",
            "AH                153\n",
            "MAV             38530\n",
            "CD              38530\n",
            "dtype: int64\n"
          ],
          "name": "stdout"
        }
      ]
    },
    {
      "cell_type": "markdown",
      "metadata": {
        "id": "GfsZkB1EzPmF"
      },
      "source": [
        "##[4] Output the number of null values (by column)."
      ]
    },
    {
      "cell_type": "code",
      "metadata": {
        "colab": {
          "base_uri": "https://localhost:8080/"
        },
        "id": "3MtSum4Szblg",
        "outputId": "7b4579af-4a4e-4497-df1c-9b1971b1bed8"
      },
      "source": [
        "print(f\"The number of null values in the dataset is:\\n{FireBrigade.isnull().sum()}\")#Outputing the number of null values (by column)."
      ],
      "execution_count": null,
      "outputs": [
        {
          "output_type": "stream",
          "text": [
            "The number of null values in the dataset is:\n",
            "Date                0\n",
            "Station Area        0\n",
            "Description         0\n",
            "TOC                 0\n",
            "ORD                 0\n",
            "MOB              1245\n",
            "IA               7594\n",
            "LS                  0\n",
            "AH              38403\n",
            "MAV                26\n",
            "CD                 26\n",
            "dtype: int64\n"
          ],
          "name": "stdout"
        }
      ]
    },
    {
      "cell_type": "markdown",
      "metadata": {
        "id": "FXtUb05i2ilA"
      },
      "source": [
        "##[5] Output the number of null values for all columns"
      ]
    },
    {
      "cell_type": "code",
      "metadata": {
        "colab": {
          "base_uri": "https://localhost:8080/"
        },
        "id": "gIgK7BQh2n7I",
        "outputId": "5d788284-063a-4f8c-d39e-82d4368f3749"
      },
      "source": [
        "print(f\"The number of null values for all columns is:\\n{FireBrigade.isnull().sum().sum()}\")#To get the number of null values, we re-sum the number of null values in (question 4) to get for all columns. "
      ],
      "execution_count": null,
      "outputs": [
        {
          "output_type": "stream",
          "text": [
            "The number of null values for all columns is:\n",
            "47294\n"
          ],
          "name": "stdout"
        }
      ]
    },
    {
      "cell_type": "markdown",
      "metadata": {
        "id": "lQeLYenU4J8w"
      },
      "source": [
        "##[6] Output the total number of call outs by Station Area."
      ]
    },
    {
      "cell_type": "code",
      "metadata": {
        "colab": {
          "base_uri": "https://localhost:8080/"
        },
        "id": "hLarJicb5CLR",
        "outputId": "b08410b9-d166-4f18-f7ce-f89d85d3a30f"
      },
      "source": [
        "print(f\"Total number of callout by Station Area is:\\n{FireBrigade.groupby('Station Area').Date.agg(['count'])}\")#showing total call out by station Area by using the \"groupby method\"."
      ],
      "execution_count": null,
      "outputs": [
        {
          "output_type": "stream",
          "text": [
            "Total number of callout by Station Area is:\n",
            "                count\n",
            "Station Area         \n",
            "Balbriggan        688\n",
            "Blanchardstown   2089\n",
            "Dolphins Barn    4018\n",
            "Donnybrook       1787\n",
            "Dun Laoghaire    3271\n",
            "Dunshaughlin        2\n",
            "Finglas          3030\n",
            "Kilbarrack       3548\n",
            "MH14                1\n",
            "North Strand     1645\n",
            "Phibsborough     3160\n",
            "Rathfarnham      2129\n",
            "Skerries          449\n",
            "Swords           2614\n",
            "Tallaght         6525\n",
            "Tara St          3600\n"
          ],
          "name": "stdout"
        }
      ]
    },
    {
      "cell_type": "markdown",
      "metadata": {
        "id": "oB1XHlmp64hG"
      },
      "source": [
        "##[7] Output the total number of call outs by Date and Station Area."
      ]
    },
    {
      "cell_type": "code",
      "metadata": {
        "colab": {
          "base_uri": "https://localhost:8080/"
        },
        "id": "O1WpF8iJ65D8",
        "outputId": "1c4eb191-3df4-400d-837d-efd0c717c5bb"
      },
      "source": [
        "print(f\"The Total number of call outs by date and Station Area is:\\n {FireBrigade.groupby(['Station Area','Date']).TOC.agg(['count'])}\")#sorting call out by date and Station Area."
      ],
      "execution_count": null,
      "outputs": [
        {
          "output_type": "stream",
          "text": [
            "The Total number of call outs by date and Station Area is:\n",
            "                          count\n",
            "Station Area Date             \n",
            "Balbriggan   01/01/2013      3\n",
            "             01/01/2014      1\n",
            "             01/02/2014      2\n",
            "             01/03/2013      1\n",
            "             01/03/2014      1\n",
            "...                        ...\n",
            "Tara St      31/10/2013      9\n",
            "             31/10/2014     11\n",
            "             31/10/2015      5\n",
            "             31/12/2013      4\n",
            "             31/12/2014      3\n",
            "\n",
            "[12483 rows x 1 columns]\n"
          ],
          "name": "stdout"
        }
      ]
    },
    {
      "cell_type": "markdown",
      "metadata": {
        "id": "RzPteCU079Wo"
      },
      "source": [
        "##[8] Output the total number of call outs by Station Area and Date where the description is either Fire Car or Fire Alarm."
      ]
    },
    {
      "cell_type": "code",
      "metadata": {
        "colab": {
          "base_uri": "https://localhost:8080/"
        },
        "id": "s1PTLLG8782R",
        "outputId": "1699663b-4dd5-4b12-ec28-57d814af6dc7"
      },
      "source": [
        "print(f\"Sorting Total number of call outs by station Area and Date:\\n{FireBrigade[(FireBrigade.Description == 'Fire CAR')|(FireBrigade.Description == 'Fire ALARM')].groupby(['Station Area','Date']).TOC.agg(['count'])}\")#"
      ],
      "execution_count": null,
      "outputs": [
        {
          "output_type": "stream",
          "text": [
            "Sorting Total number of call outs by station Area and Date:\n",
            "                         count\n",
            "Station Area Date             \n",
            "Balbriggan   01/01/2013      3\n",
            "             01/01/2014      1\n",
            "             01/04/2013      1\n",
            "             01/05/2013      1\n",
            "             01/11/2015      1\n",
            "...                        ...\n",
            "Tara St      31/07/2015      2\n",
            "             31/08/2013      1\n",
            "             31/10/2014      2\n",
            "             31/10/2015      2\n",
            "             31/12/2013      1\n",
            "\n",
            "[6792 rows x 1 columns]\n"
          ],
          "name": "stdout"
        }
      ]
    },
    {
      "cell_type": "markdown",
      "metadata": {
        "id": "0vYaamZa_YQD"
      },
      "source": [
        "##[9] Replace any instance of “,” (in any column) with an empty string."
      ]
    },
    {
      "cell_type": "code",
      "metadata": {
        "colab": {
          "base_uri": "https://localhost:8080/"
        },
        "id": "Mxcs-bqE_bBk",
        "outputId": "88560f7d-fedb-4df2-a872-94e1391c24c7"
      },
      "source": [
        "if_comma_is = ',' in FireBrigade.values#Here, we are making a statement to check if there is ','.\r\n",
        "FireBrigade = FireBrigade.replace(',','')#We intende to replace ',' with ''.\r\n",
        "if_comma_is = ',' in FireBrigade.values#last tesing to comfirm our results if its true or fales.\r\n",
        "print(f\"Here is our confirmation:\\n{if_comma_is}.\")"
      ],
      "execution_count": null,
      "outputs": [
        {
          "output_type": "stream",
          "text": [
            "Here is our confirmation:\n",
            "False.\n"
          ],
          "name": "stdout"
        }
      ]
    },
    {
      "cell_type": "markdown",
      "metadata": {
        "id": "dYPvHypSFblf"
      },
      "source": [
        "##[10] Replace any instance of “-” (in any column) with an empty string."
      ]
    },
    {
      "cell_type": "code",
      "metadata": {
        "colab": {
          "base_uri": "https://localhost:8080/"
        },
        "id": "pJD_TYGtFecU",
        "outputId": "857fde37-17b9-47c9-d205-06e49f13e3cb"
      },
      "source": [
        "if_dash_is = ',' in FireBrigade.values#Here,we repeat the same process in (question 9)by making a statement to check if there is '-'.\r\n",
        "FireBrigade = FireBrigade.replace('-','')#we intend to replace '-' with ''.\r\n",
        "if_dash_is = '-' in FireBrigade.values# finally testing if our result is true or false\r\n",
        "print(f\"Here is our confirmation:\\n{if_dash_is}.\")"
      ],
      "execution_count": null,
      "outputs": [
        {
          "output_type": "stream",
          "text": [
            "Here is our confirmation:\n",
            "False.\n"
          ],
          "name": "stdout"
        }
      ]
    },
    {
      "cell_type": "markdown",
      "metadata": {
        "id": "o59GZsKVGtjW"
      },
      "source": [
        "##[11] Drop rows for the columns (AH, MAV, CD) where at least one row value is NULL."
      ]
    },
    {
      "cell_type": "code",
      "metadata": {
        "colab": {
          "base_uri": "https://localhost:8080/"
        },
        "id": "2hEZ7tflGt4u",
        "outputId": "2ad2f39e-3daf-41b5-a967-e8be8fe65246"
      },
      "source": [
        "FireBrigade = FireBrigade.dropna(subset=['AH', 'MAV','CD'])#Dropping rows with nulls.\r\n",
        "print(f\"Here are the rows that are dropped due to removed null:\\n{FireBrigade}\")#viewing the dataset after removal of nulls.\r\n",
        "print(f\"Here are the total number of rows after Null removal:\\n{FireBrigade.shape[0]}\")#showing the number of rows by setting shape to 0."
      ],
      "execution_count": null,
      "outputs": [
        {
          "output_type": "stream",
          "text": [
            "Here are the rows that are dropped due to removed null:\n",
            "             Date    Station Area   Description  ...        AH       MAV        CD\n",
            "0      01/01/2013     Rathfarnham     S/S OTHER  ...  02:28:54  02:48:54  03:08:54\n",
            "1      01/01/2013        Tallaght      Fire CAR  ...  02:25:43  02:45:43  03:05:43\n",
            "2      01/01/2013    North Strand       S/S RTA  ...  04:11:20  04:31:20  04:51:20\n",
            "3      01/01/2013        Tallaght      Fire CAR  ...  04:50:48  05:10:48  05:30:48\n",
            "4      01/01/2013         Finglas  Fire DOM PER  ...  04:50:47  05:10:47  05:30:47\n",
            "...           ...             ...           ...  ...       ...       ...       ...\n",
            "38490  16/10/2015        Tallaght    Fire SMALL  ...            00:20:00  00:40:00\n",
            "38491  13/08/2015        Tallaght    Fire GRASS  ...            00:20:00  00:40:00\n",
            "38496  23/06/2015         Finglas    Fire SMALL  ...            00:20:00  00:40:00\n",
            "38497  23/12/2015   Dun Laoghaire    S/S TREEDN  ...            00:20:00  00:40:00\n",
            "38500  30/09/2015  Blanchardstown    Fire SMALL  ...            00:20:00  00:40:00\n",
            "\n",
            "[153 rows x 11 columns]\n",
            "Here are the total number of rows after Null removal:\n",
            "153\n"
          ],
          "name": "stdout"
        }
      ]
    },
    {
      "cell_type": "markdown",
      "metadata": {
        "id": "E2cVGpaxOJmR"
      },
      "source": [
        "##[12] Drop any duplicate rows (except for the first occurrence)."
      ]
    },
    {
      "cell_type": "code",
      "metadata": {
        "colab": {
          "base_uri": "https://localhost:8080/"
        },
        "id": "j5DcwWwyOJ-G",
        "outputId": "80c12878-5a7f-4947-8286-259cac13d804"
      },
      "source": [
        "print(f\"Here is the data with dupicates dropped:\\n{FireBrigade.drop_duplicates(keep='first')}\")#Removal of Dupicated rows but keeping only the First occurance.\r\n",
        "FireBrigade = FireBrigade.drop_duplicates(keep='first')\r\n",
        "print(f\"This is new row number:\\n{FireBrigade.shape[0]}\")#showing New Row number after removal of dulpicate."
      ],
      "execution_count": null,
      "outputs": [
        {
          "output_type": "stream",
          "text": [
            "Here is the data with dupicates dropped:\n",
            "             Date    Station Area   Description  ...        AH       MAV        CD\n",
            "0      01/01/2013     Rathfarnham     S/S OTHER  ...  02:28:54  02:48:54  03:08:54\n",
            "1      01/01/2013        Tallaght      Fire CAR  ...  02:25:43  02:45:43  03:05:43\n",
            "2      01/01/2013    North Strand       S/S RTA  ...  04:11:20  04:31:20  04:51:20\n",
            "3      01/01/2013        Tallaght      Fire CAR  ...  04:50:48  05:10:48  05:30:48\n",
            "4      01/01/2013         Finglas  Fire DOM PER  ...  04:50:47  05:10:47  05:30:47\n",
            "...           ...             ...           ...  ...       ...       ...       ...\n",
            "38490  16/10/2015        Tallaght    Fire SMALL  ...            00:20:00  00:40:00\n",
            "38491  13/08/2015        Tallaght    Fire GRASS  ...            00:20:00  00:40:00\n",
            "38496  23/06/2015         Finglas    Fire SMALL  ...            00:20:00  00:40:00\n",
            "38497  23/12/2015   Dun Laoghaire    S/S TREEDN  ...            00:20:00  00:40:00\n",
            "38500  30/09/2015  Blanchardstown    Fire SMALL  ...            00:20:00  00:40:00\n",
            "\n",
            "[152 rows x 11 columns]\n",
            "This is new row number:\n",
            "152\n"
          ],
          "name": "stdout"
        }
      ]
    },
    {
      "cell_type": "markdown",
      "metadata": {
        "id": "nmPoE-jBSDuh"
      },
      "source": [
        "##[13] Output the minimum time difference between TOC and ORD."
      ]
    },
    {
      "cell_type": "code",
      "metadata": {
        "colab": {
          "base_uri": "https://localhost:8080/",
          "height": 194
        },
        "id": "8l2oTM0VZSbJ",
        "outputId": "33c86660-c2a7-41ce-ae07-0e76f25ad346"
      },
      "source": [
        "#we can not calculate the time differnce by subtracting \"TOC\" and \"ORD\" because it will give an error so we convert them to datetime in other to calculate the time difference.\r\n",
        "FireBrigade['TOC'] = (f\"{pd.to_datetime(FireBrigade['Date'] + ' ' + FireBrigade['TOC'])}\")#coverting \"TOC\" to date time format.\r\n",
        "FireBrigade['ORD'] = (f\"{pd.to_datetime(FireBrigade['Date'] + ' ' + FireBrigade['ORD'])}\")#Converting \"ORD\" to date time format\r\n",
        "adf = FireBrigade['Date']\r\n",
        "FireBrigade['Date'] =  pd.to_datetime(FireBrigade['Date'])\r\n",
        "FireBrigade.head()"
      ],
      "execution_count": null,
      "outputs": [
        {
          "output_type": "execute_result",
          "data": {
            "text/html": [
              "<div>\n",
              "<style scoped>\n",
              "    .dataframe tbody tr th:only-of-type {\n",
              "        vertical-align: middle;\n",
              "    }\n",
              "\n",
              "    .dataframe tbody tr th {\n",
              "        vertical-align: top;\n",
              "    }\n",
              "\n",
              "    .dataframe thead th {\n",
              "        text-align: right;\n",
              "    }\n",
              "</style>\n",
              "<table border=\"1\" class=\"dataframe\">\n",
              "  <thead>\n",
              "    <tr style=\"text-align: right;\">\n",
              "      <th></th>\n",
              "      <th>Date</th>\n",
              "      <th>Station Area</th>\n",
              "      <th>Description</th>\n",
              "      <th>TOC</th>\n",
              "      <th>ORD</th>\n",
              "      <th>MOB</th>\n",
              "      <th>IA</th>\n",
              "      <th>LS</th>\n",
              "      <th>AH</th>\n",
              "      <th>MAV</th>\n",
              "      <th>CD</th>\n",
              "    </tr>\n",
              "  </thead>\n",
              "  <tbody>\n",
              "    <tr>\n",
              "      <th>0</th>\n",
              "      <td>2013-01-01</td>\n",
              "      <td>Rathfarnham</td>\n",
              "      <td>S/S OTHER</td>\n",
              "      <td>0       2013-01-01 01:27:19\\n1       2013-01-0...</td>\n",
              "      <td>0       2013-01-01 01:28:58\\n1       2013-01-0...</td>\n",
              "      <td>01:30:47</td>\n",
              "      <td>01:58:54</td>\n",
              "      <td>02:08:54</td>\n",
              "      <td>02:28:54</td>\n",
              "      <td>02:48:54</td>\n",
              "      <td>03:08:54</td>\n",
              "    </tr>\n",
              "    <tr>\n",
              "      <th>1</th>\n",
              "      <td>2013-01-01</td>\n",
              "      <td>Tallaght</td>\n",
              "      <td>Fire CAR</td>\n",
              "      <td>0       2013-01-01 01:27:19\\n1       2013-01-0...</td>\n",
              "      <td>0       2013-01-01 01:28:58\\n1       2013-01-0...</td>\n",
              "      <td>01:51:47</td>\n",
              "      <td>01:55:43</td>\n",
              "      <td>02:05:43</td>\n",
              "      <td>02:25:43</td>\n",
              "      <td>02:45:43</td>\n",
              "      <td>03:05:43</td>\n",
              "    </tr>\n",
              "    <tr>\n",
              "      <th>2</th>\n",
              "      <td>2013-01-01</td>\n",
              "      <td>North Strand</td>\n",
              "      <td>S/S RTA</td>\n",
              "      <td>0       2013-01-01 01:27:19\\n1       2013-01-0...</td>\n",
              "      <td>0       2013-01-01 01:28:58\\n1       2013-01-0...</td>\n",
              "      <td>03:38:28</td>\n",
              "      <td>03:41:20</td>\n",
              "      <td>03:51:20</td>\n",
              "      <td>04:11:20</td>\n",
              "      <td>04:31:20</td>\n",
              "      <td>04:51:20</td>\n",
              "    </tr>\n",
              "    <tr>\n",
              "      <th>3</th>\n",
              "      <td>2013-01-01</td>\n",
              "      <td>Tallaght</td>\n",
              "      <td>Fire CAR</td>\n",
              "      <td>0       2013-01-01 01:27:19\\n1       2013-01-0...</td>\n",
              "      <td>0       2013-01-01 01:28:58\\n1       2013-01-0...</td>\n",
              "      <td>04:14:32</td>\n",
              "      <td>04:20:48</td>\n",
              "      <td>04:30:48</td>\n",
              "      <td>04:50:48</td>\n",
              "      <td>05:10:48</td>\n",
              "      <td>05:30:48</td>\n",
              "    </tr>\n",
              "    <tr>\n",
              "      <th>4</th>\n",
              "      <td>2013-01-01</td>\n",
              "      <td>Finglas</td>\n",
              "      <td>Fire DOM PER</td>\n",
              "      <td>0       2013-01-01 01:27:19\\n1       2013-01-0...</td>\n",
              "      <td>0       2013-01-01 01:28:58\\n1       2013-01-0...</td>\n",
              "      <td>04:17:37</td>\n",
              "      <td>04:20:47</td>\n",
              "      <td>04:30:47</td>\n",
              "      <td>04:50:47</td>\n",
              "      <td>05:10:47</td>\n",
              "      <td>05:30:47</td>\n",
              "    </tr>\n",
              "  </tbody>\n",
              "</table>\n",
              "</div>"
            ],
            "text/plain": [
              "        Date  Station Area   Description  ...        AH       MAV        CD\n",
              "0 2013-01-01   Rathfarnham     S/S OTHER  ...  02:28:54  02:48:54  03:08:54\n",
              "1 2013-01-01      Tallaght      Fire CAR  ...  02:25:43  02:45:43  03:05:43\n",
              "2 2013-01-01  North Strand       S/S RTA  ...  04:11:20  04:31:20  04:51:20\n",
              "3 2013-01-01      Tallaght      Fire CAR  ...  04:50:48  05:10:48  05:30:48\n",
              "4 2013-01-01       Finglas  Fire DOM PER  ...  04:50:47  05:10:47  05:30:47\n",
              "\n",
              "[5 rows x 11 columns]"
            ]
          },
          "metadata": {
            "tags": []
          },
          "execution_count": 149
        }
      ]
    },
    {
      "cell_type": "code",
      "metadata": {
        "id": "xA5mLcpsg4Wf"
      },
      "source": [
        "#Time difference between TOC and ORD\r\n",
        "print(f\"Time difference:\\n{(FireBrigade['ORD'] - FireBrigade['TOC'])}\")\r\n",
        "print(f\"{min(FireBrigade['ORD'] -FireBrigade['TOC'])}\").seconds\r\n",
        "print(f\"this is the minimum time difference between TOC and ORD:\\n{FireBrigade['ORD'] -FireBrigade['TOC']} seconds\")"
      ],
      "execution_count": null,
      "outputs": []
    },
    {
      "cell_type": "code",
      "metadata": {
        "colab": {
          "base_uri": "https://localhost:8080/",
          "height": 441
        },
        "id": "dnUEzKhepYMt",
        "outputId": "0c96cce8-41f4-4dc5-87d3-b4ba29714311"
      },
      "source": [
        "##Add new Column that shows the time difference between TOC and ORD\r\n",
        "FireBrigade[\"Diff_ORD_TOC\"] = (FireBrigade['ORD'] -FireBrigade['TOC'])\r\n",
        "\r\n",
        "##Get the Minimum time difference\r\n",
        "Min_TOC_ORD = min(FireBrigade[\"Diff_ORD_TOC\"]).seconds\r\n",
        "print(f\"The Minimum time diffrence between time the call is received in the control centre and time the vehicle is mobilised to the incident by a control operator is : {Min_TOC_ORD} seconds\")"
      ],
      "execution_count": null,
      "outputs": [
        {
          "output_type": "error",
          "ename": "TypeError",
          "evalue": "ignored",
          "traceback": [
            "\u001b[0;31m---------------------------------------------------------------------------\u001b[0m",
            "\u001b[0;31mTypeError\u001b[0m                                 Traceback (most recent call last)",
            "\u001b[0;32m/usr/local/lib/python3.6/dist-packages/pandas/core/ops/array_ops.py\u001b[0m in \u001b[0;36mna_arithmetic_op\u001b[0;34m(left, right, op, is_cmp)\u001b[0m\n\u001b[1;32m    142\u001b[0m     \u001b[0;32mtry\u001b[0m\u001b[0;34m:\u001b[0m\u001b[0;34m\u001b[0m\u001b[0;34m\u001b[0m\u001b[0m\n\u001b[0;32m--> 143\u001b[0;31m         \u001b[0mresult\u001b[0m \u001b[0;34m=\u001b[0m \u001b[0mexpressions\u001b[0m\u001b[0;34m.\u001b[0m\u001b[0mevaluate\u001b[0m\u001b[0;34m(\u001b[0m\u001b[0mop\u001b[0m\u001b[0;34m,\u001b[0m \u001b[0mleft\u001b[0m\u001b[0;34m,\u001b[0m \u001b[0mright\u001b[0m\u001b[0;34m)\u001b[0m\u001b[0;34m\u001b[0m\u001b[0;34m\u001b[0m\u001b[0m\n\u001b[0m\u001b[1;32m    144\u001b[0m     \u001b[0;32mexcept\u001b[0m \u001b[0mTypeError\u001b[0m\u001b[0;34m:\u001b[0m\u001b[0;34m\u001b[0m\u001b[0;34m\u001b[0m\u001b[0m\n",
            "\u001b[0;32m/usr/local/lib/python3.6/dist-packages/pandas/core/computation/expressions.py\u001b[0m in \u001b[0;36mevaluate\u001b[0;34m(op, a, b, use_numexpr)\u001b[0m\n\u001b[1;32m    232\u001b[0m         \u001b[0;32mif\u001b[0m \u001b[0muse_numexpr\u001b[0m\u001b[0;34m:\u001b[0m\u001b[0;34m\u001b[0m\u001b[0;34m\u001b[0m\u001b[0m\n\u001b[0;32m--> 233\u001b[0;31m             \u001b[0;32mreturn\u001b[0m \u001b[0m_evaluate\u001b[0m\u001b[0;34m(\u001b[0m\u001b[0mop\u001b[0m\u001b[0;34m,\u001b[0m \u001b[0mop_str\u001b[0m\u001b[0;34m,\u001b[0m \u001b[0ma\u001b[0m\u001b[0;34m,\u001b[0m \u001b[0mb\u001b[0m\u001b[0;34m)\u001b[0m  \u001b[0;31m# type: ignore\u001b[0m\u001b[0;34m\u001b[0m\u001b[0;34m\u001b[0m\u001b[0m\n\u001b[0m\u001b[1;32m    234\u001b[0m     \u001b[0;32mreturn\u001b[0m \u001b[0m_evaluate_standard\u001b[0m\u001b[0;34m(\u001b[0m\u001b[0mop\u001b[0m\u001b[0;34m,\u001b[0m \u001b[0mop_str\u001b[0m\u001b[0;34m,\u001b[0m \u001b[0ma\u001b[0m\u001b[0;34m,\u001b[0m \u001b[0mb\u001b[0m\u001b[0;34m)\u001b[0m\u001b[0;34m\u001b[0m\u001b[0;34m\u001b[0m\u001b[0m\n",
            "\u001b[0;32m/usr/local/lib/python3.6/dist-packages/pandas/core/computation/expressions.py\u001b[0m in \u001b[0;36m_evaluate_numexpr\u001b[0;34m(op, op_str, a, b)\u001b[0m\n\u001b[1;32m    118\u001b[0m     \u001b[0;32mif\u001b[0m \u001b[0mresult\u001b[0m \u001b[0;32mis\u001b[0m \u001b[0;32mNone\u001b[0m\u001b[0;34m:\u001b[0m\u001b[0;34m\u001b[0m\u001b[0;34m\u001b[0m\u001b[0m\n\u001b[0;32m--> 119\u001b[0;31m         \u001b[0mresult\u001b[0m \u001b[0;34m=\u001b[0m \u001b[0m_evaluate_standard\u001b[0m\u001b[0;34m(\u001b[0m\u001b[0mop\u001b[0m\u001b[0;34m,\u001b[0m \u001b[0mop_str\u001b[0m\u001b[0;34m,\u001b[0m \u001b[0ma\u001b[0m\u001b[0;34m,\u001b[0m \u001b[0mb\u001b[0m\u001b[0;34m)\u001b[0m\u001b[0;34m\u001b[0m\u001b[0;34m\u001b[0m\u001b[0m\n\u001b[0m\u001b[1;32m    120\u001b[0m \u001b[0;34m\u001b[0m\u001b[0m\n",
            "\u001b[0;32m/usr/local/lib/python3.6/dist-packages/pandas/core/computation/expressions.py\u001b[0m in \u001b[0;36m_evaluate_standard\u001b[0;34m(op, op_str, a, b)\u001b[0m\n\u001b[1;32m     67\u001b[0m     \u001b[0;32mwith\u001b[0m \u001b[0mnp\u001b[0m\u001b[0;34m.\u001b[0m\u001b[0merrstate\u001b[0m\u001b[0;34m(\u001b[0m\u001b[0mall\u001b[0m\u001b[0;34m=\u001b[0m\u001b[0;34m\"ignore\"\u001b[0m\u001b[0;34m)\u001b[0m\u001b[0;34m:\u001b[0m\u001b[0;34m\u001b[0m\u001b[0;34m\u001b[0m\u001b[0m\n\u001b[0;32m---> 68\u001b[0;31m         \u001b[0;32mreturn\u001b[0m \u001b[0mop\u001b[0m\u001b[0;34m(\u001b[0m\u001b[0ma\u001b[0m\u001b[0;34m,\u001b[0m \u001b[0mb\u001b[0m\u001b[0;34m)\u001b[0m\u001b[0;34m\u001b[0m\u001b[0;34m\u001b[0m\u001b[0m\n\u001b[0m\u001b[1;32m     69\u001b[0m \u001b[0;34m\u001b[0m\u001b[0m\n",
            "\u001b[0;31mTypeError\u001b[0m: unsupported operand type(s) for -: 'str' and 'str'",
            "\nDuring handling of the above exception, another exception occurred:\n",
            "\u001b[0;31mTypeError\u001b[0m                                 Traceback (most recent call last)",
            "\u001b[0;32m<ipython-input-158-cd073f4a3650>\u001b[0m in \u001b[0;36m<module>\u001b[0;34m()\u001b[0m\n\u001b[1;32m      1\u001b[0m \u001b[0;31m##Add new Column that shows the time difference between TOC and ORD\u001b[0m\u001b[0;34m\u001b[0m\u001b[0;34m\u001b[0m\u001b[0;34m\u001b[0m\u001b[0m\n\u001b[0;32m----> 2\u001b[0;31m \u001b[0mFireBrigade\u001b[0m\u001b[0;34m[\u001b[0m\u001b[0;34m\"Diff_ORD_TOC\"\u001b[0m\u001b[0;34m]\u001b[0m \u001b[0;34m=\u001b[0m \u001b[0;34m(\u001b[0m\u001b[0mFireBrigade\u001b[0m\u001b[0;34m[\u001b[0m\u001b[0;34m'ORD'\u001b[0m\u001b[0;34m]\u001b[0m \u001b[0;34m-\u001b[0m\u001b[0mFireBrigade\u001b[0m\u001b[0;34m[\u001b[0m\u001b[0;34m'TOC'\u001b[0m\u001b[0;34m]\u001b[0m\u001b[0;34m)\u001b[0m\u001b[0;34m\u001b[0m\u001b[0;34m\u001b[0m\u001b[0m\n\u001b[0m\u001b[1;32m      3\u001b[0m \u001b[0;34m\u001b[0m\u001b[0m\n\u001b[1;32m      4\u001b[0m \u001b[0;31m##Get the Minimum time difference\u001b[0m\u001b[0;34m\u001b[0m\u001b[0;34m\u001b[0m\u001b[0;34m\u001b[0m\u001b[0m\n\u001b[1;32m      5\u001b[0m \u001b[0mMin_TOC_ORD\u001b[0m \u001b[0;34m=\u001b[0m \u001b[0mmin\u001b[0m\u001b[0;34m(\u001b[0m\u001b[0mFireBrigade\u001b[0m\u001b[0;34m[\u001b[0m\u001b[0;34m\"Diff_ORD_TOC\"\u001b[0m\u001b[0;34m]\u001b[0m\u001b[0;34m)\u001b[0m\u001b[0;34m.\u001b[0m\u001b[0mseconds\u001b[0m\u001b[0;34m\u001b[0m\u001b[0;34m\u001b[0m\u001b[0m\n",
            "\u001b[0;32m/usr/local/lib/python3.6/dist-packages/pandas/core/ops/common.py\u001b[0m in \u001b[0;36mnew_method\u001b[0;34m(self, other)\u001b[0m\n\u001b[1;32m     63\u001b[0m         \u001b[0mother\u001b[0m \u001b[0;34m=\u001b[0m \u001b[0mitem_from_zerodim\u001b[0m\u001b[0;34m(\u001b[0m\u001b[0mother\u001b[0m\u001b[0;34m)\u001b[0m\u001b[0;34m\u001b[0m\u001b[0;34m\u001b[0m\u001b[0m\n\u001b[1;32m     64\u001b[0m \u001b[0;34m\u001b[0m\u001b[0m\n\u001b[0;32m---> 65\u001b[0;31m         \u001b[0;32mreturn\u001b[0m \u001b[0mmethod\u001b[0m\u001b[0;34m(\u001b[0m\u001b[0mself\u001b[0m\u001b[0;34m,\u001b[0m \u001b[0mother\u001b[0m\u001b[0;34m)\u001b[0m\u001b[0;34m\u001b[0m\u001b[0;34m\u001b[0m\u001b[0m\n\u001b[0m\u001b[1;32m     66\u001b[0m \u001b[0;34m\u001b[0m\u001b[0m\n\u001b[1;32m     67\u001b[0m     \u001b[0;32mreturn\u001b[0m \u001b[0mnew_method\u001b[0m\u001b[0;34m\u001b[0m\u001b[0;34m\u001b[0m\u001b[0m\n",
            "\u001b[0;32m/usr/local/lib/python3.6/dist-packages/pandas/core/ops/__init__.py\u001b[0m in \u001b[0;36mwrapper\u001b[0;34m(left, right)\u001b[0m\n\u001b[1;32m    341\u001b[0m         \u001b[0mlvalues\u001b[0m \u001b[0;34m=\u001b[0m \u001b[0mextract_array\u001b[0m\u001b[0;34m(\u001b[0m\u001b[0mleft\u001b[0m\u001b[0;34m,\u001b[0m \u001b[0mextract_numpy\u001b[0m\u001b[0;34m=\u001b[0m\u001b[0;32mTrue\u001b[0m\u001b[0;34m)\u001b[0m\u001b[0;34m\u001b[0m\u001b[0;34m\u001b[0m\u001b[0m\n\u001b[1;32m    342\u001b[0m         \u001b[0mrvalues\u001b[0m \u001b[0;34m=\u001b[0m \u001b[0mextract_array\u001b[0m\u001b[0;34m(\u001b[0m\u001b[0mright\u001b[0m\u001b[0;34m,\u001b[0m \u001b[0mextract_numpy\u001b[0m\u001b[0;34m=\u001b[0m\u001b[0;32mTrue\u001b[0m\u001b[0;34m)\u001b[0m\u001b[0;34m\u001b[0m\u001b[0;34m\u001b[0m\u001b[0m\n\u001b[0;32m--> 343\u001b[0;31m         \u001b[0mresult\u001b[0m \u001b[0;34m=\u001b[0m \u001b[0marithmetic_op\u001b[0m\u001b[0;34m(\u001b[0m\u001b[0mlvalues\u001b[0m\u001b[0;34m,\u001b[0m \u001b[0mrvalues\u001b[0m\u001b[0;34m,\u001b[0m \u001b[0mop\u001b[0m\u001b[0;34m)\u001b[0m\u001b[0;34m\u001b[0m\u001b[0;34m\u001b[0m\u001b[0m\n\u001b[0m\u001b[1;32m    344\u001b[0m \u001b[0;34m\u001b[0m\u001b[0m\n\u001b[1;32m    345\u001b[0m         \u001b[0;32mreturn\u001b[0m \u001b[0mleft\u001b[0m\u001b[0;34m.\u001b[0m\u001b[0m_construct_result\u001b[0m\u001b[0;34m(\u001b[0m\u001b[0mresult\u001b[0m\u001b[0;34m,\u001b[0m \u001b[0mname\u001b[0m\u001b[0;34m=\u001b[0m\u001b[0mres_name\u001b[0m\u001b[0;34m)\u001b[0m\u001b[0;34m\u001b[0m\u001b[0;34m\u001b[0m\u001b[0m\n",
            "\u001b[0;32m/usr/local/lib/python3.6/dist-packages/pandas/core/ops/array_ops.py\u001b[0m in \u001b[0;36marithmetic_op\u001b[0;34m(left, right, op)\u001b[0m\n\u001b[1;32m    188\u001b[0m     \u001b[0;32melse\u001b[0m\u001b[0;34m:\u001b[0m\u001b[0;34m\u001b[0m\u001b[0;34m\u001b[0m\u001b[0m\n\u001b[1;32m    189\u001b[0m         \u001b[0;32mwith\u001b[0m \u001b[0mnp\u001b[0m\u001b[0;34m.\u001b[0m\u001b[0merrstate\u001b[0m\u001b[0;34m(\u001b[0m\u001b[0mall\u001b[0m\u001b[0;34m=\u001b[0m\u001b[0;34m\"ignore\"\u001b[0m\u001b[0;34m)\u001b[0m\u001b[0;34m:\u001b[0m\u001b[0;34m\u001b[0m\u001b[0;34m\u001b[0m\u001b[0m\n\u001b[0;32m--> 190\u001b[0;31m             \u001b[0mres_values\u001b[0m \u001b[0;34m=\u001b[0m \u001b[0mna_arithmetic_op\u001b[0m\u001b[0;34m(\u001b[0m\u001b[0mlvalues\u001b[0m\u001b[0;34m,\u001b[0m \u001b[0mrvalues\u001b[0m\u001b[0;34m,\u001b[0m \u001b[0mop\u001b[0m\u001b[0;34m)\u001b[0m\u001b[0;34m\u001b[0m\u001b[0;34m\u001b[0m\u001b[0m\n\u001b[0m\u001b[1;32m    191\u001b[0m \u001b[0;34m\u001b[0m\u001b[0m\n\u001b[1;32m    192\u001b[0m     \u001b[0;32mreturn\u001b[0m \u001b[0mres_values\u001b[0m\u001b[0;34m\u001b[0m\u001b[0;34m\u001b[0m\u001b[0m\n",
            "\u001b[0;32m/usr/local/lib/python3.6/dist-packages/pandas/core/ops/array_ops.py\u001b[0m in \u001b[0;36mna_arithmetic_op\u001b[0;34m(left, right, op, is_cmp)\u001b[0m\n\u001b[1;32m    148\u001b[0m             \u001b[0;31m#  will handle complex numbers incorrectly, see GH#32047\u001b[0m\u001b[0;34m\u001b[0m\u001b[0;34m\u001b[0m\u001b[0;34m\u001b[0m\u001b[0m\n\u001b[1;32m    149\u001b[0m             \u001b[0;32mraise\u001b[0m\u001b[0;34m\u001b[0m\u001b[0;34m\u001b[0m\u001b[0m\n\u001b[0;32m--> 150\u001b[0;31m         \u001b[0mresult\u001b[0m \u001b[0;34m=\u001b[0m \u001b[0mmasked_arith_op\u001b[0m\u001b[0;34m(\u001b[0m\u001b[0mleft\u001b[0m\u001b[0;34m,\u001b[0m \u001b[0mright\u001b[0m\u001b[0;34m,\u001b[0m \u001b[0mop\u001b[0m\u001b[0;34m)\u001b[0m\u001b[0;34m\u001b[0m\u001b[0;34m\u001b[0m\u001b[0m\n\u001b[0m\u001b[1;32m    151\u001b[0m \u001b[0;34m\u001b[0m\u001b[0m\n\u001b[1;32m    152\u001b[0m     \u001b[0;32mif\u001b[0m \u001b[0mis_cmp\u001b[0m \u001b[0;32mand\u001b[0m \u001b[0;34m(\u001b[0m\u001b[0mis_scalar\u001b[0m\u001b[0;34m(\u001b[0m\u001b[0mresult\u001b[0m\u001b[0;34m)\u001b[0m \u001b[0;32mor\u001b[0m \u001b[0mresult\u001b[0m \u001b[0;32mis\u001b[0m \u001b[0mNotImplemented\u001b[0m\u001b[0;34m)\u001b[0m\u001b[0;34m:\u001b[0m\u001b[0;34m\u001b[0m\u001b[0;34m\u001b[0m\u001b[0m\n",
            "\u001b[0;32m/usr/local/lib/python3.6/dist-packages/pandas/core/ops/array_ops.py\u001b[0m in \u001b[0;36mmasked_arith_op\u001b[0;34m(x, y, op)\u001b[0m\n\u001b[1;32m     90\u001b[0m         \u001b[0;32mif\u001b[0m \u001b[0mmask\u001b[0m\u001b[0;34m.\u001b[0m\u001b[0many\u001b[0m\u001b[0;34m(\u001b[0m\u001b[0;34m)\u001b[0m\u001b[0;34m:\u001b[0m\u001b[0;34m\u001b[0m\u001b[0;34m\u001b[0m\u001b[0m\n\u001b[1;32m     91\u001b[0m             \u001b[0;32mwith\u001b[0m \u001b[0mnp\u001b[0m\u001b[0;34m.\u001b[0m\u001b[0merrstate\u001b[0m\u001b[0;34m(\u001b[0m\u001b[0mall\u001b[0m\u001b[0;34m=\u001b[0m\u001b[0;34m\"ignore\"\u001b[0m\u001b[0;34m)\u001b[0m\u001b[0;34m:\u001b[0m\u001b[0;34m\u001b[0m\u001b[0;34m\u001b[0m\u001b[0m\n\u001b[0;32m---> 92\u001b[0;31m                 \u001b[0mresult\u001b[0m\u001b[0;34m[\u001b[0m\u001b[0mmask\u001b[0m\u001b[0;34m]\u001b[0m \u001b[0;34m=\u001b[0m \u001b[0mop\u001b[0m\u001b[0;34m(\u001b[0m\u001b[0mxrav\u001b[0m\u001b[0;34m[\u001b[0m\u001b[0mmask\u001b[0m\u001b[0;34m]\u001b[0m\u001b[0;34m,\u001b[0m \u001b[0myrav\u001b[0m\u001b[0;34m[\u001b[0m\u001b[0mmask\u001b[0m\u001b[0;34m]\u001b[0m\u001b[0;34m)\u001b[0m\u001b[0;34m\u001b[0m\u001b[0;34m\u001b[0m\u001b[0m\n\u001b[0m\u001b[1;32m     93\u001b[0m \u001b[0;34m\u001b[0m\u001b[0m\n\u001b[1;32m     94\u001b[0m     \u001b[0;32melse\u001b[0m\u001b[0;34m:\u001b[0m\u001b[0;34m\u001b[0m\u001b[0;34m\u001b[0m\u001b[0m\n",
            "\u001b[0;31mTypeError\u001b[0m: unsupported operand type(s) for -: 'str' and 'str'"
          ]
        }
      ]
    }
  ]
}