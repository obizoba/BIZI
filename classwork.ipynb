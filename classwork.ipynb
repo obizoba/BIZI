{
  "nbformat": 4,
  "nbformat_minor": 0,
  "metadata": {
    "colab": {
      "name": "Untitled5.ipynb",
      "provenance": [],
      "include_colab_link": true
    },
    "kernelspec": {
      "name": "python3",
      "display_name": "Python 3"
    }
  },
  "cells": [
    {
      "cell_type": "markdown",
      "metadata": {
        "id": "view-in-github",
        "colab_type": "text"
      },
      "source": [
        "<a href=\"https://colab.research.google.com/github/obizoba/BIZI/blob/master/classwork.ipynb\" target=\"_parent\"><img src=\"https://colab.research.google.com/assets/colab-badge.svg\" alt=\"Open In Colab\"/></a>"
      ]
    },
    {
      "cell_type": "code",
      "metadata": {
        "colab": {
          "base_uri": "https://localhost:8080/"
        },
        "id": "FnctMECLJArP",
        "outputId": "6371b463-b0d7-4ee8-d760-28fede09b491"
      },
      "source": [
        "list1 = [3,6,9,12,15,18,21]\r\n",
        "list2 = [4,8,12,16,20,24,28]\r\n",
        "#for i in range(3, 21, 3):\r\n",
        "  \r\n",
        "\r\n",
        "list1_odd = [list1[1], list1[3], list1[5]]\r\n",
        "list2_odd = [list2[0], list2[2], list2[4], list2[6]]\r\n",
        "print(f\"Elements at odd-index positions from list one \\n{list1_odd}\")\r\n",
        "print(f\"Elements at even-index positions from list two \\n{list2_odd}\")\r\n",
        "list1_odd.extend(list2_odd)\r\n",
        "print(f\"Printing Final third list \\n{list1_odd}\")\r\n",
        "#print(list1_odd)\r\n",
        "#print(list2_odd)"
      ],
      "execution_count": null,
      "outputs": [
        {
          "output_type": "stream",
          "text": [
            "Elements at odd-index positions from list one \n",
            "[6, 12, 18]\n",
            "Elements at even-index positions from list two \n",
            "[4, 12, 20, 28]\n",
            "Printing Final third list \n",
            "[6, 12, 18, 4, 12, 20, 28]\n"
          ],
          "name": "stdout"
        }
      ]
    },
    {
      "cell_type": "markdown",
      "metadata": {
        "id": "hbn-TdbvQokF"
      },
      "source": [
        "##No 2\r\n"
      ]
    },
    {
      "cell_type": "code",
      "metadata": {
        "colab": {
          "base_uri": "https://localhost:8080/"
        },
        "id": "icdhW3a3Qrz4",
        "outputId": "4b10109a-4a0f-4a33-9f0b-4625a64b6bdf"
      },
      "source": [
        "mylist = [34,54,67,89,11,43,94]\r\n",
        "print(f\"Original list {mylist}\")\r\n",
        "mylist.pop(4)\r\n",
        "print(f\"List after removing element at index 4 {mylist}\")\r\n",
        "mylist.insert(2,11)\r\n",
        "print(f\"List after Adding element at index 2 {mylist}\")\r\n",
        "mylist.append(11)\r\n",
        "print(f\"List after Adding element at last {mylist}\")"
      ],
      "execution_count": null,
      "outputs": [
        {
          "output_type": "stream",
          "text": [
            "Original list [34, 54, 67, 89, 11, 43, 94]\n",
            "List after removing element at index 4 [34, 54, 67, 89, 43, 94]\n",
            "List after Adding element at index 2 [34, 54, 11, 67, 89, 43, 94]\n",
            "List after Adding element at last [34, 54, 11, 67, 89, 43, 94, 11]\n"
          ],
          "name": "stdout"
        }
      ]
    },
    {
      "cell_type": "markdown",
      "metadata": {
        "id": "nE0sHUfSVZ0X"
      },
      "source": [
        "##No 3"
      ]
    },
    {
      "cell_type": "code",
      "metadata": {
        "colab": {
          "base_uri": "https://localhost:8080/"
        },
        "id": "mya9h3L0Vcnh",
        "outputId": "308e1c6f-3cd7-4bb9-ac8f-86f42e4fc6b3"
      },
      "source": [
        "samplelist = [11,45,8,23,14,12,78,45,89]\r\n",
        "print(f\"Original list {samplelist}\")\r\n",
        "samplelist[0:3]\r\n",
        "print(f\"Chunk 1 {samplelist[0:3]}\")\r\n",
        "mynewlist= samplelist[0:3]\r\n",
        "mynewlist.reverse()\r\n",
        "print(f\"After reversing it {mynewlist}\")\r\n",
        "\r\n",
        "print(f\"Chunk 2 {samplelist[3:6]}\")\r\n",
        "mynewlist2= samplelist[3:6]\r\n",
        "mynewlist2.reverse()\r\n",
        "print(f\"After reversing it {mynewlist2}\")\r\n",
        "\r\n",
        "print(f\"Chunk 3 {samplelist[6:9]}\")\r\n",
        "mynewlist3= samplelist[6:9]\r\n",
        "mynewlist3.reverse()\r\n",
        "print(f\"After reversing it {mynewlist3}\")\r\n"
      ],
      "execution_count": null,
      "outputs": [
        {
          "output_type": "stream",
          "text": [
            "Original list [11, 45, 8, 23, 14, 12, 78, 45, 89]\n",
            "Chunk 1 [11, 45, 8]\n",
            "After reversing it [8, 45, 11]\n",
            "Chunk 2 [23, 14, 12]\n",
            "After reversing it [12, 14, 23]\n",
            "Chunk 3 [78, 45, 89]\n",
            "After reversing it [89, 45, 78]\n"
          ],
          "name": "stdout"
        }
      ]
    },
    {
      "cell_type": "markdown",
      "metadata": {
        "id": "TALAxUwIkUd9"
      },
      "source": [
        "##No 4"
      ]
    },
    {
      "cell_type": "code",
      "metadata": {
        "colab": {
          "base_uri": "https://localhost:8080/"
        },
        "id": "P-ZcKTwCkW-D",
        "outputId": "222ab329-b484-4102-d9dc-a7c1e135236b"
      },
      "source": [
        "thislist =[11,45,8,11,23,45,23,45,89]\r\n",
        "print(f\"Original list {thislist}\")\r\n",
        "countlist = {\r\n",
        "    11 : thislist.count(11),\r\n",
        "    45 : thislist.count(45),\r\n",
        "    8 : thislist.count(8),\r\n",
        "    23 : thislist.count(23),\r\n",
        "    89 : thislist.count(89)\r\n",
        "}\r\n",
        "print(f\"Printing count of each item {countlist}\")"
      ],
      "execution_count": null,
      "outputs": [
        {
          "output_type": "stream",
          "text": [
            "Original list [11, 45, 8, 11, 23, 45, 23, 45, 89]\n",
            "Printing count of each item {11: 2, 45: 3, 8: 1, 23: 2, 89: 1}\n"
          ],
          "name": "stdout"
        }
      ]
    },
    {
      "cell_type": "markdown",
      "metadata": {
        "id": "be8203-cu5ME"
      },
      "source": [
        "##No 5"
      ]
    },
    {
      "cell_type": "code",
      "metadata": {
        "colab": {
          "base_uri": "https://localhost:8080/"
        },
        "id": "7Fjl5nugu7Jy",
        "outputId": "d1b4b116-8387-4ca4-8dc6-aecdd202b3f1"
      },
      "source": [
        "num1 = [2,3,4,5,6,7,8]\r\n",
        "print(f\"First list {num1}\")\r\n",
        "num2 = [4,9,16,25,36,49,64]\r\n",
        "print(f\"Second list {num2}\")\r\n",
        "thisset = [[a, b] for a in num1 for b in num2 if a*a == b]\r\n",
        "\r\n",
        "print(f\"Result is {thisset}\")          "
      ],
      "execution_count": null,
      "outputs": [
        {
          "output_type": "stream",
          "text": [
            "First list [2, 3, 4, 5, 6, 7, 8]\n",
            "Second list [4, 9, 16, 25, 36, 49, 64]\n",
            "Result is [[2, 4], [3, 9], [4, 16], [5, 25], [6, 36], [7, 49], [8, 64]]\n"
          ],
          "name": "stdout"
        }
      ]
    },
    {
      "cell_type": "markdown",
      "metadata": {
        "id": "vv4_UNWP3QAN"
      },
      "source": [
        "##No 6"
      ]
    },
    {
      "cell_type": "code",
      "metadata": {
        "colab": {
          "base_uri": "https://localhost:8080/"
        },
        "id": "HLrtk02C3Sjl",
        "outputId": "b8ca901c-f6e0-422a-b746-af692d1d0680"
      },
      "source": [
        "set1 = {65,42,78,83,23,57,29}\r\n",
        "print(f\"First set {set1}\")\r\n",
        "set2 = {67,73,43,48,83,57,29}\r\n",
        "print(f\"Second Set {set2}\")\r\n",
        "\r\n",
        "set3 = set1.intersection(set2)\r\n",
        "print(f\"\\nIntersection is {set3}\") #backslash n here is used to give a free line before the print\r\n",
        "\r\n",
        "newset = set1.symmetric_difference(set3)\r\n",
        "print(f\"First set after removing common element {newset}\")\r\n"
      ],
      "execution_count": null,
      "outputs": [
        {
          "output_type": "stream",
          "text": [
            "First set {65, 42, 78, 83, 23, 57, 29}\n",
            "Second Set {67, 73, 43, 48, 83, 57, 29}\n",
            "\n",
            "Intersection is {57, 83, 29}\n",
            "First set after removing common element {65, 42, 78, 23}\n"
          ],
          "name": "stdout"
        }
      ]
    },
    {
      "cell_type": "markdown",
      "metadata": {
        "id": "U8kGBkJc7qME"
      },
      "source": [
        "##No 7"
      ]
    },
    {
      "cell_type": "code",
      "metadata": {
        "colab": {
          "base_uri": "https://localhost:8080/"
        },
        "id": "1JNYzyMK7tF6",
        "outputId": "6364378c-6fa1-4c4c-ec68-50e22600c231"
      },
      "source": [
        "first_set = {27, 43, 34}\r\n",
        "print(f\"First set {first_set}\")\r\n",
        "second_set = {34, 93, 22, 27, 43, 53, 48}\r\n",
        "print(f\"Second set {second_set}\")\r\n",
        "\r\n",
        "# here we want to find out if first set is a can be fiund in second set\r\n",
        "print(f\"\\nFirst set is subset of Second set - {first_set.issubset(second_set)}\")\r\n",
        "#here we want to find out if second set can be found in first set\r\n",
        "print(f\"Second set is subset of First set - {second_set.issubset(first_set)}\")\r\n",
        "\r\n",
        "print(f\"\\nFirst set is superset of Second set - {first_set.issuperset(second_set)}\")\r\n",
        "print(f\"Second set is superset of First set - {second_set.issuperset(first_set)}\")\r\n",
        "\r\n",
        "if first_set.issubset(second_set):\r\n",
        "  first_set.clear()\r\n",
        "  print(f\"\\nFirst Set {first_set}\")\r\n",
        "print(f\"Second set {second_set}\")\r\n"
      ],
      "execution_count": null,
      "outputs": [
        {
          "output_type": "stream",
          "text": [
            "First set {43, 34, 27}\n",
            "Second set {34, 43, 48, 53, 22, 27, 93}\n",
            "\n",
            "First set is subset of Second set - True\n",
            "Second set is subset of First set - False\n",
            "\n",
            "First set is superset of Second set - False\n",
            "Second set is superset of First set - True\n",
            "\n",
            "First Set set()\n",
            "Second set {34, 43, 48, 53, 22, 27, 93}\n"
          ],
          "name": "stdout"
        }
      ]
    },
    {
      "cell_type": "markdown",
      "metadata": {
        "id": "u_Zin--DFyXk"
      },
      "source": [
        "##No 8"
      ]
    },
    {
      "cell_type": "code",
      "metadata": {
        "colab": {
          "base_uri": "https://localhost:8080/"
        },
        "id": "EIezy2ycF1tr",
        "outputId": "4499054f-6d11-44e1-b447-32d8b07c6770"
      },
      "source": [
        "rollNumber=[47,64,69,37,76,83,95,97]\r\n",
        "sampleDict={'jhon':47, 'emma':69, \"kelly\" :76, \"jason\": 97}\r\n",
        "print(rollNumber)\r\n",
        "print(sampleDict)\r\n",
        "for ro in rollNumber:\r\n",
        "    for sd in sampleDict:\r\n",
        "        if sampleDict[sd] == ro:\r\n",
        "            print(ro)\r\n",
        "            rollNumber.remove(ro)\r\n",
        "print(f\"The list after removal is: {rollNumber}\")\r\n",
        " "
      ],
      "execution_count": null,
      "outputs": [
        {
          "output_type": "stream",
          "text": [
            "[47, 64, 69, 37, 76, 83, 95, 97]\n",
            "{'jhon': 47, 'emma': 69, 'kelly': 76, 'jason': 97}\n",
            "47\n",
            "69\n",
            "76\n",
            "97\n",
            "The list after removal is: [64, 37, 83, 95]\n"
          ],
          "name": "stdout"
        }
      ]
    }
  ]
}