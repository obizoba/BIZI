{
  "nbformat": 4,
  "nbformat_minor": 0,
  "metadata": {
    "colab": {
      "name": "Make me happy.ipynb",
      "provenance": [],
      "collapsed_sections": [],
      "toc_visible": true,
      "authorship_tag": "ABX9TyNs6a0u9bwM9v4g2EBaRftp",
      "include_colab_link": true
    },
    "kernelspec": {
      "name": "python3",
      "display_name": "Python 3"
    }
  },
  "cells": [
    {
      "cell_type": "markdown",
      "metadata": {
        "id": "view-in-github",
        "colab_type": "text"
      },
      "source": [
        "<a href=\"https://colab.research.google.com/github/obizoba/BIZI/blob/master/Make_me_happy.ipynb\" target=\"_parent\"><img src=\"https://colab.research.google.com/assets/colab-badge.svg\" alt=\"Open In Colab\"/></a>"
      ]
    },
    {
      "cell_type": "markdown",
      "metadata": {
        "id": "6rOALZuROBD2"
      },
      "source": [
        "##Make me happy(class_work)"
      ]
    },
    {
      "cell_type": "code",
      "metadata": {
        "colab": {
          "base_uri": "https://localhost:8080/",
          "height": 239
        },
        "id": "pdmFmvJ_N-ht",
        "outputId": "5e28d62e-e351-4a3d-84a1-eed2ea56e02f"
      },
      "source": [
        "from PIL import Image\r\n",
        "import requests\r\n",
        "\r\n",
        "# This function will pass your text to the machine learning model\r\n",
        "# and return the top result with the highest confidence\r\n",
        "def classify(text):\r\n",
        "    key = \"f60a70c0-6a1c-11eb-bd33-31fcb5af633ccfff56a2-bf99-41db-9037-efe23ef6123c\"\r\n",
        "    url = \"https://machinelearningforkids.co.uk/api/scratch/\"+ key + \"/classify\"\r\n",
        "\r\n",
        "    response = requests.get(url, params={ \"data\" : text })\r\n",
        "\r\n",
        "    if response.ok:\r\n",
        "        responseData = response.json()\r\n",
        "        topMatch = responseData[0]\r\n",
        "        return topMatch\r\n",
        "    else:\r\n",
        "        response.raise_for_status()\r\n",
        "\r\n",
        "\r\n",
        "input = raw_input(\"What do you want to tell me? > \")\r\n",
        "recognized = classify(input)\r\n",
        "label = recognized[\"class_name\"]\r\n",
        "if label == \"kind_things\":\r\n",
        "  print (\"You're so nice!\")\r\n",
        "  img = Image.open(\"Happy_Face.jpg\")\r\n",
        "  img.show()\r\n",
        "else:\r\n",
        "  print (\"You're so mean!\")\r\n",
        "  img = Image.open(\"SAD_FACE.jpg\")\r\n",
        "  img.show()"
      ],
      "execution_count": 33,
      "outputs": [
        {
          "output_type": "error",
          "ename": "NameError",
          "evalue": "ignored",
          "traceback": [
            "\u001b[0;31m---------------------------------------------------------------------------\u001b[0m",
            "\u001b[0;31mNameError\u001b[0m                                 Traceback (most recent call last)",
            "\u001b[0;32m<ipython-input-33-656c6df0e009>\u001b[0m in \u001b[0;36m<module>\u001b[0;34m()\u001b[0m\n\u001b[1;32m     18\u001b[0m \u001b[0;34m\u001b[0m\u001b[0m\n\u001b[1;32m     19\u001b[0m \u001b[0;34m\u001b[0m\u001b[0m\n\u001b[0;32m---> 20\u001b[0;31m \u001b[0minput\u001b[0m \u001b[0;34m=\u001b[0m \u001b[0mraw_input\u001b[0m\u001b[0;34m(\u001b[0m\u001b[0;34m\"What do you want to tell me? > \"\u001b[0m\u001b[0;34m)\u001b[0m\u001b[0;34m\u001b[0m\u001b[0;34m\u001b[0m\u001b[0m\n\u001b[0m\u001b[1;32m     21\u001b[0m \u001b[0mrecognized\u001b[0m \u001b[0;34m=\u001b[0m \u001b[0mclassify\u001b[0m\u001b[0;34m(\u001b[0m\u001b[0minput\u001b[0m\u001b[0;34m)\u001b[0m\u001b[0;34m\u001b[0m\u001b[0;34m\u001b[0m\u001b[0m\n\u001b[1;32m     22\u001b[0m \u001b[0mlabel\u001b[0m \u001b[0;34m=\u001b[0m \u001b[0mrecognized\u001b[0m\u001b[0;34m[\u001b[0m\u001b[0;34m\"class_name\"\u001b[0m\u001b[0;34m]\u001b[0m\u001b[0;34m\u001b[0m\u001b[0;34m\u001b[0m\u001b[0m\n",
            "\u001b[0;31mNameError\u001b[0m: name 'raw_input' is not defined"
          ]
        }
      ]
    },
    {
      "cell_type": "code",
      "metadata": {
        "colab": {
          "base_uri": "https://localhost:8080/",
          "height": 381
        },
        "id": "4Yqd5Jz2bbmy",
        "outputId": "9fad911c-75ab-4691-bb30-d5935958a34b"
      },
      "source": [
        "from PIL import image\r\n",
        "import requests\r\n",
        "\r\n",
        "# This function will pass your text to the machine learning model\r\n",
        "# and return the top result with the highest confidence\r\n",
        "def classify(text):\r\n",
        "    key = \"f60a70c0-6a1c-11eb-bd33-31fcb5af633ccfff56a2-bf99-41db-9037-efe23ef6123c\"\r\n",
        "    url = \"https://machinelearningforkids.co.uk/api/scratch/\"+ key + \"/classify\"\r\n",
        "\r\n",
        "    response = requests.get(url, params={ \"data\" : text })\r\n",
        "\r\n",
        "    if response.ok:\r\n",
        "        responseData = response.json()\r\n",
        "        topMatch = responseData[0]\r\n",
        "        return topMatch\r\n",
        "    else:\r\n",
        "        response.raise_for_status()\r\n",
        "\r\n",
        "\r\n",
        "raw_input = input(\"What do you want to tell me? > \")\r\n",
        "recognized = classify(raw_input)\r\n",
        "label = recognized[\"class_name\"]\r\n",
        "if label == \"kind_things\":\r\n",
        "  print(\"You're so nice!\")\r\n",
        "  img = Image.open(\"Happy_Face.jpg\")\r\n",
        "  img.show()\r\n",
        "else:\r\n",
        "  print (\"You're so mean!\")\r\n",
        "  img = Image.open(\"SAD_FACE.jpg\")\r\n",
        "  img.show()"
      ],
      "execution_count": 32,
      "outputs": [
        {
          "output_type": "error",
          "ename": "ImportError",
          "evalue": "ignored",
          "traceback": [
            "\u001b[0;31m---------------------------------------------------------------------------\u001b[0m",
            "\u001b[0;31mImportError\u001b[0m                               Traceback (most recent call last)",
            "\u001b[0;32m<ipython-input-32-6d3a31e52682>\u001b[0m in \u001b[0;36m<module>\u001b[0;34m()\u001b[0m\n\u001b[0;32m----> 1\u001b[0;31m \u001b[0;32mfrom\u001b[0m \u001b[0mPIL\u001b[0m \u001b[0;32mimport\u001b[0m \u001b[0mimage\u001b[0m\u001b[0;34m\u001b[0m\u001b[0;34m\u001b[0m\u001b[0m\n\u001b[0m\u001b[1;32m      2\u001b[0m \u001b[0;32mimport\u001b[0m \u001b[0mrequests\u001b[0m\u001b[0;34m\u001b[0m\u001b[0;34m\u001b[0m\u001b[0m\n\u001b[1;32m      3\u001b[0m \u001b[0;34m\u001b[0m\u001b[0m\n\u001b[1;32m      4\u001b[0m \u001b[0;31m# This function will pass your text to the machine learning model\u001b[0m\u001b[0;34m\u001b[0m\u001b[0;34m\u001b[0m\u001b[0;34m\u001b[0m\u001b[0m\n\u001b[1;32m      5\u001b[0m \u001b[0;31m# and return the top result with the highest confidence\u001b[0m\u001b[0;34m\u001b[0m\u001b[0;34m\u001b[0m\u001b[0;34m\u001b[0m\u001b[0m\n",
            "\u001b[0;31mImportError\u001b[0m: cannot import name 'image'",
            "",
            "\u001b[0;31m---------------------------------------------------------------------------\u001b[0;32m\nNOTE: If your import is failing due to a missing package, you can\nmanually install dependencies using either !pip or !apt.\n\nTo view examples of installing some common dependencies, click the\n\"Open Examples\" button below.\n\u001b[0;31m---------------------------------------------------------------------------\u001b[0m\n"
          ]
        }
      ]
    }
  ]
}