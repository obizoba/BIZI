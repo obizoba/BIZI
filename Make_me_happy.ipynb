{
  "nbformat": 4,
  "nbformat_minor": 0,
  "metadata": {
    "colab": {
      "name": "Make me happy.ipynb",
      "provenance": [],
      "collapsed_sections": [],
      "toc_visible": true,
      "authorship_tag": "ABX9TyPrmcwKl+uMugyXmRmEMrhn",
      "include_colab_link": true
    },
    "kernelspec": {
      "name": "python3",
      "display_name": "Python 3"
    }
  },
  "cells": [
    {
      "cell_type": "markdown",
      "metadata": {
        "id": "view-in-github",
        "colab_type": "text"
      },
      "source": [
        "<a href=\"https://colab.research.google.com/github/obizoba/BIZI/blob/master/Make_me_happy.ipynb\" target=\"_parent\"><img src=\"https://colab.research.google.com/assets/colab-badge.svg\" alt=\"Open In Colab\"/></a>"
      ]
    },
    {
      "cell_type": "markdown",
      "metadata": {
        "id": "6rOALZuROBD2"
      },
      "source": [
        "##Make me happy(class_work)"
      ]
    },
    {
      "cell_type": "code",
      "metadata": {
        "colab": {
          "base_uri": "https://localhost:8080/"
        },
        "id": "pdmFmvJ_N-ht",
        "outputId": "75677240-7c89-4857-9734-0edf2ed290ac"
      },
      "source": [
        "import requests\r\n",
        "from PIL import Image\r\n",
        "# This function will pass your text to the machine learning model\r\n",
        "# and return the top result with the highest confidence\r\n",
        "def classify(text):\r\n",
        "    key = \"74d2a730-6a5c-11eb-ada9-51d64cec8ca7bde1eb4a-6d91-426c-82b1-c23af6a229e6\"\r\n",
        "    url = \"https://machinelearningforkids.co.uk/api/scratch/\"+ key + \"/classify\"\r\n",
        "\r\n",
        "    response = requests.get(url, params={ \"data\" : text })\r\n",
        "\r\n",
        "    if response.ok:\r\n",
        "        responseData = response.json()\r\n",
        "        topMatch = responseData[0]\r\n",
        "        return topMatch\r\n",
        "    else:\r\n",
        "        response.raise_for_status()\r\n",
        "\r\n",
        "input1 = input(\"What do you want to tell me? > \")\r\n",
        "recognized = classify(input1)\r\n",
        "label = recognized[\"class_name\"]\r\n",
        "if label == \"kind_things\":\r\n",
        "  print (\"You're so nice!\")\r\n",
        "  img = Image.open(\"happyface.png\")\r\n",
        "  img.show()\r\n",
        "else:\r\n",
        "  print (\"You're so mean!\")\r\n",
        "  img = Image.open(\"sadface.png\")\r\n",
        "  img.show()"
      ],
      "execution_count": 22,
      "outputs": [
        {
          "output_type": "stream",
          "text": [
            "What do you want to tell me? > i love you\n",
            "You're so mean!\n"
          ],
          "name": "stdout"
        }
      ]
    }
  ]
}