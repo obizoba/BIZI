{
  "nbformat": 4,
  "nbformat_minor": 0,
  "metadata": {
    "colab": {
      "name": "class 02/11/2020.ipynb",
      "provenance": [],
      "authorship_tag": "ABX9TyMgjZn/ia+J8lZX/EdCjYwm",
      "include_colab_link": true
    },
    "kernelspec": {
      "name": "python3",
      "display_name": "Python 3"
    }
  },
  "cells": [
    {
      "cell_type": "markdown",
      "metadata": {
        "id": "view-in-github",
        "colab_type": "text"
      },
      "source": [
        "<a href=\"https://colab.research.google.com/github/obizoba/BIZI/blob/master/class_02_11_2020.ipynb\" target=\"_parent\"><img src=\"https://colab.research.google.com/assets/colab-badge.svg\" alt=\"Open In Colab\"/></a>"
      ]
    },
    {
      "cell_type": "code",
      "metadata": {
        "id": "p6Iie1UhO9lA"
      },
      "source": [
        "marks=[50,60,70,90,60]"
      ],
      "execution_count": 1,
      "outputs": []
    },
    {
      "cell_type": "code",
      "metadata": {
        "id": "iJ7uSPYgSJlD",
        "outputId": "683a04a0-13df-4554-8b1f-fb366b251bf0",
        "colab": {
          "base_uri": "https://localhost:8080/"
        }
      },
      "source": [
        "marks[0]=\"Abhi\"\n",
        "print(marks)"
      ],
      "execution_count": 2,
      "outputs": [
        {
          "output_type": "stream",
          "text": [
            "['Abhi', 60, 70, 90, 60]\n"
          ],
          "name": "stdout"
        }
      ]
    },
    {
      "cell_type": "markdown",
      "metadata": {
        "id": "9dEXJzVSSy93"
      },
      "source": [
        "## List Operations\n",
        "### Append,Pop , Remove, extend, slicing"
      ]
    },
    {
      "cell_type": "code",
      "metadata": {
        "id": "n1wxcnn6S8QA",
        "outputId": "aa1f437b-ba94-4409-ef4e-b0c4efecec7c",
        "colab": {
          "base_uri": "https://localhost:8080/"
        }
      },
      "source": [
        "marks.append(\"kaushik\")\n",
        "print(marks)"
      ],
      "execution_count": 3,
      "outputs": [
        {
          "output_type": "stream",
          "text": [
            "['Abhi', 60, 70, 90, 60, 'kaushik']\n"
          ],
          "name": "stdout"
        }
      ]
    },
    {
      "cell_type": "code",
      "metadata": {
        "id": "D58dxihSTMuQ",
        "outputId": "89b5246d-7742-43b8-d1d3-2de1cf184d66",
        "colab": {
          "base_uri": "https://localhost:8080/"
        }
      },
      "source": [
        "height=[132,143,155,160,4]\n",
        "height.pop(4)\n",
        "print(height)"
      ],
      "execution_count": 4,
      "outputs": [
        {
          "output_type": "stream",
          "text": [
            "[132, 143, 155, 160]\n"
          ],
          "name": "stdout"
        }
      ]
    },
    {
      "cell_type": "code",
      "metadata": {
        "id": "ADgJN_DCTh6Y",
        "outputId": "456b4d91-e17e-4c89-ffd6-a827f746ba76",
        "colab": {
          "base_uri": "https://localhost:8080/"
        }
      },
      "source": [
        "height.remove(132)\n",
        "print(height)"
      ],
      "execution_count": 5,
      "outputs": [
        {
          "output_type": "stream",
          "text": [
            "[143, 155, 160]\n"
          ],
          "name": "stdout"
        }
      ]
    },
    {
      "cell_type": "code",
      "metadata": {
        "id": "JE1rfjqkUMoU",
        "outputId": "dbcd3efd-303a-44e6-d160-7ca3d985f2d7",
        "colab": {
          "base_uri": "https://localhost:8080/"
        }
      },
      "source": [
        "marks.extend(height)\n",
        "print(marks)"
      ],
      "execution_count": 6,
      "outputs": [
        {
          "output_type": "stream",
          "text": [
            "['Abhi', 60, 70, 90, 60, 'kaushik', 143, 155, 160]\n"
          ],
          "name": "stdout"
        }
      ]
    },
    {
      "cell_type": "code",
      "metadata": {
        "id": "YQipVbJsUrDy",
        "outputId": "3f1acb27-9b74-408b-c073-d0c28ba83910",
        "colab": {
          "base_uri": "https://localhost:8080/"
        }
      },
      "source": [
        "name=\"Abhishek Kasushik\"\n",
        "short=name[0:4]\n",
        "print(short)\n"
      ],
      "execution_count": 7,
      "outputs": [
        {
          "output_type": "stream",
          "text": [
            "Abhi\n"
          ],
          "name": "stdout"
        }
      ]
    },
    {
      "cell_type": "code",
      "metadata": {
        "id": "9trrIkGbU8En",
        "outputId": "cd2ba462-133f-4064-d043-9d1fb1c4005d",
        "colab": {
          "base_uri": "https://localhost:8080/"
        }
      },
      "source": [
        "short_list=marks[0:4]\n",
        "print(short_list)"
      ],
      "execution_count": 8,
      "outputs": [
        {
          "output_type": "stream",
          "text": [
            "['Abhi', 60, 70, 90]\n"
          ],
          "name": "stdout"
        }
      ]
    },
    {
      "cell_type": "code",
      "metadata": {
        "id": "KaVS5UGBVKtY",
        "outputId": "10b79d93-008d-4b06-b5c4-90cd7489556c",
        "colab": {
          "base_uri": "https://localhost:8080/"
        }
      },
      "source": [
        "name=\"Abhi\"\n",
        "name1=[\"A\",\"b\",\"h\",\"i\"]\n",
        "\n",
        "slic1=name[0:2]\n",
        "slic2=name[0:2]\n",
        "print(type(slic1))\n",
        "print(type(slic2))"
      ],
      "execution_count": 9,
      "outputs": [
        {
          "output_type": "stream",
          "text": [
            "<class 'str'>\n",
            "<class 'str'>\n"
          ],
          "name": "stdout"
        }
      ]
    },
    {
      "cell_type": "code",
      "metadata": {
        "id": "YJtSF2mbWD9p",
        "outputId": "7d6b3511-c751-4f04-92ff-e6153b5c73f3",
        "colab": {
          "base_uri": "https://localhost:8080/"
        }
      },
      "source": [
        "marks2=[45,54,67,87,54]\n",
        "print(len(marks))"
      ],
      "execution_count": 10,
      "outputs": [
        {
          "output_type": "stream",
          "text": [
            "9\n"
          ],
          "name": "stdout"
        }
      ]
    },
    {
      "cell_type": "code",
      "metadata": {
        "id": "DPtAZ91dWQmJ",
        "outputId": "a679a687-f8f1-4eec-db07-2c60d9f4c14c",
        "colab": {
          "base_uri": "https://localhost:8080/"
        }
      },
      "source": [
        "print(sum(marks2))"
      ],
      "execution_count": 11,
      "outputs": [
        {
          "output_type": "stream",
          "text": [
            "307\n"
          ],
          "name": "stdout"
        }
      ]
    },
    {
      "cell_type": "code",
      "metadata": {
        "id": "S3LZAQ0gWhop",
        "outputId": "773e0817-0784-4295-d648-87fc542ae525",
        "colab": {
          "base_uri": "https://localhost:8080/"
        }
      },
      "source": [
        "A=()\n",
        "print(type(A))"
      ],
      "execution_count": 12,
      "outputs": [
        {
          "output_type": "stream",
          "text": [
            "<class 'tuple'>\n"
          ],
          "name": "stdout"
        }
      ]
    },
    {
      "cell_type": "code",
      "metadata": {
        "id": "thzf8zEiWobA",
        "outputId": "718da306-72d6-4d7f-e596-b6e7318425de",
        "colab": {
          "base_uri": "https://localhost:8080/"
        }
      },
      "source": [
        "A=(\"A\",)\n",
        "print(type(A))"
      ],
      "execution_count": 13,
      "outputs": [
        {
          "output_type": "stream",
          "text": [
            "<class 'tuple'>\n"
          ],
          "name": "stdout"
        }
      ]
    },
    {
      "cell_type": "code",
      "metadata": {
        "id": "gRUejHTTW5-3",
        "outputId": "6344a135-1413-4c27-f4fb-2a7406a518cf",
        "colab": {
          "base_uri": "https://localhost:8080/"
        }
      },
      "source": [
        "marks=(45,65,76,43)\n",
        "print(type(marks))"
      ],
      "execution_count": 14,
      "outputs": [
        {
          "output_type": "stream",
          "text": [
            "<class 'tuple'>\n"
          ],
          "name": "stdout"
        }
      ]
    },
    {
      "cell_type": "code",
      "metadata": {
        "id": "wcyOHbrjXCYS",
        "outputId": "e66f7710-d15a-4cc4-ebc8-9b7fa0d0e0e0",
        "colab": {
          "base_uri": "https://localhost:8080/",
          "height": 168
        }
      },
      "source": [
        "marks[0]=76"
      ],
      "execution_count": 22,
      "outputs": [
        {
          "output_type": "error",
          "ename": "TypeError",
          "evalue": "ignored",
          "traceback": [
            "\u001b[0;31m---------------------------------------------------------------------------\u001b[0m",
            "\u001b[0;31mTypeError\u001b[0m                                 Traceback (most recent call last)",
            "\u001b[0;32m<ipython-input-22-90829e5d14d9>\u001b[0m in \u001b[0;36m<module>\u001b[0;34m()\u001b[0m\n\u001b[0;32m----> 1\u001b[0;31m \u001b[0mmarks\u001b[0m\u001b[0;34m[\u001b[0m\u001b[0;36m0\u001b[0m\u001b[0;34m]\u001b[0m\u001b[0;34m=\u001b[0m\u001b[0;36m76\u001b[0m\u001b[0;34m\u001b[0m\u001b[0;34m\u001b[0m\u001b[0m\n\u001b[0m",
            "\u001b[0;31mTypeError\u001b[0m: 'tuple' object does not support item assignment"
          ]
        }
      ]
    },
    {
      "cell_type": "code",
      "metadata": {
        "id": "9MYPupYcXKU0"
      },
      "source": [
        "phone_no={\"Rohan\":999999999,\"Mohan\":88888888,\"Sohan\":56094044}\n",
        "print(phone_no[\"Rohan\"])"
      ],
      "execution_count": null,
      "outputs": []
    },
    {
      "cell_type": "code",
      "metadata": {
        "id": "MM479FctXuyM"
      },
      "source": [
        "print(phone_no[999999999])"
      ],
      "execution_count": null,
      "outputs": []
    },
    {
      "cell_type": "code",
      "metadata": {
        "id": "Xo65yBaIX3vg",
        "outputId": "7fcbcf10-42ee-4729-c969-c456206c372e",
        "colab": {
          "base_uri": "https://localhost:8080/"
        }
      },
      "source": [
        "phone_no={\"Rohan\":999999999,\"Mohan\":88888888,\"Sohan\":56094044}\n",
        "print(phone_no.items)\n",
        "for x in phone_no.values():\n",
        "  print(x)"
      ],
      "execution_count": 21,
      "outputs": [
        {
          "output_type": "stream",
          "text": [
            "<built-in method items of dict object at 0x7effc738c0d8>\n",
            "999999999\n",
            "88888888\n",
            "56094044\n"
          ],
          "name": "stdout"
        }
      ]
    },
    {
      "cell_type": "code",
      "metadata": {
        "id": "bnMkGLq9YjJC"
      },
      "source": [
        "print(\"hello for your search query{} the number is {}\".fomat(quey,number))"
      ],
      "execution_count": null,
      "outputs": []
    },
    {
      "cell_type": "code",
      "metadata": {
        "id": "y5fZ_A1cZ2k9",
        "outputId": "55f6c771-e36b-4fbf-e4dc-27f4d44d8bc0",
        "colab": {
          "base_uri": "https://localhost:8080/",
          "height": 132
        }
      },
      "source": [
        "phone_no={\"Obizoba\":0806009989,\"Joseph\":0809999999,\"John\":9090909090,\"Ben\":0909099877}\n",
        "query=\"Ben\"\n",
        "number=phone_no[query]\n",
        "print(\"Hello for your search query {} the number is {}\".format(query,number))"
      ],
      "execution_count": 2,
      "outputs": [
        {
          "output_type": "error",
          "ename": "SyntaxError",
          "evalue": "ignored",
          "traceback": [
            "\u001b[0;36m  File \u001b[0;32m\"<ipython-input-2-554a146b7a9f>\"\u001b[0;36m, line \u001b[0;32m1\u001b[0m\n\u001b[0;31m    phone_no={\"Obizoba\":0806009989,\"Joseph\":0809999999,\"John\":9090909090,\"Ben\":0909099877}\u001b[0m\n\u001b[0m                                 ^\u001b[0m\n\u001b[0;31mSyntaxError\u001b[0m\u001b[0;31m:\u001b[0m invalid token\n"
          ]
        }
      ]
    },
    {
      "cell_type": "markdown",
      "metadata": {
        "id": "v7BV8of4ck5v"
      },
      "source": [
        "Boolean Operations\n"
      ]
    },
    {
      "cell_type": "code",
      "metadata": {
        "id": "GkzvcbVwcpKu"
      },
      "source": [
        "5>6"
      ],
      "execution_count": null,
      "outputs": []
    },
    {
      "cell_type": "code",
      "metadata": {
        "id": "FicT7zqedMfL"
      },
      "source": [
        "6>5"
      ],
      "execution_count": null,
      "outputs": []
    },
    {
      "cell_type": "code",
      "metadata": {
        "id": "ywlCsU0vdPnM"
      },
      "source": [
        "results=5+(5<6)\n",
        "print(results)"
      ],
      "execution_count": null,
      "outputs": []
    },
    {
      "cell_type": "markdown",
      "metadata": {
        "id": "iXgl_D-6fUmr"
      },
      "source": [
        "Functions\n"
      ]
    },
    {
      "cell_type": "code",
      "metadata": {
        "id": "qwGPLzOefaNx"
      },
      "source": [
        "def avg1():\n",
        "  A=50\n",
        "  B=60\n",
        "  Print=(\" The ave of {} and {} is {}\".format(A,B, (A+B)/2))\n"
      ],
      "execution_count": null,
      "outputs": []
    },
    {
      "cell_type": "code",
      "metadata": {
        "id": "sROyGXuIgYOM"
      },
      "source": [
        "avg1()"
      ],
      "execution_count": null,
      "outputs": []
    },
    {
      "cell_type": "code",
      "metadata": {
        "id": "dFkT1pxKgEls"
      },
      "source": [
        "def avg(A,B):\n",
        "   Print(\" The ave of {} and {} is {}\".format(A,B, (A+B)/2))"
      ],
      "execution_count": null,
      "outputs": []
    },
    {
      "cell_type": "code",
      "metadata": {
        "id": "WwavkXZZgqpZ"
      },
      "source": [
        "def name1():\n",
        "  A=\"Obizoba\"\n",
        "  B=\"Iloabachie\"\n",
        "  print(\"My full name is {}\",format(A+B))\n"
      ],
      "execution_count": 17,
      "outputs": []
    },
    {
      "cell_type": "code",
      "metadata": {
        "id": "1gWfCavNhq6s"
      },
      "source": [
        "def nickname(obizobailo):\n",
        "  slicnickname=name[0:5]\n",
        "print=(\"nickname\")"
      ],
      "execution_count": null,
      "outputs": []
    },
    {
      "cell_type": "markdown",
      "metadata": {
        "id": "Wk0QhO3-ksx4"
      },
      "source": [
        "write a program to calculate the monthly salary and tax. the formal parameter will Annual salary.tax salb is 32000 20% beyond 32000 till 60000 is 40%."
      ]
    },
    {
      "cell_type": "code",
      "metadata": {
        "id": "nlyVzfPKlGvx"
      },
      "source": [
        ""
      ],
      "execution_count": null,
      "outputs": []
    }
  ]
}