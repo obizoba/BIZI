{
  "nbformat": 4,
  "nbformat_minor": 0,
  "metadata": {
    "colab": {
      "name": "DATASET_02.ipynb",
      "provenance": [],
      "collapsed_sections": [],
      "toc_visible": true,
      "include_colab_link": true
    },
    "kernelspec": {
      "name": "python3",
      "display_name": "Python 3"
    },
    "language_info": {
      "name": "python"
    }
  },
  "cells": [
    {
      "cell_type": "markdown",
      "metadata": {
        "id": "view-in-github",
        "colab_type": "text"
      },
      "source": [
        "<a href=\"https://colab.research.google.com/github/obizoba/BIZI/blob/master/DATASET_02.ipynb\" target=\"_parent\"><img src=\"https://colab.research.google.com/assets/colab-badge.svg\" alt=\"Open In Colab\"/></a>"
      ]
    },
    {
      "cell_type": "code",
      "metadata": {
        "colab": {
          "base_uri": "https://localhost:8080/"
        },
        "id": "68MG2ev0No3m",
        "outputId": "dc69e07a-5b80-4ea2-c1dc-2cddd16ecaa8"
      },
      "source": [
        "import numpy as np # for linear algebra processing\n",
        "import pandas as pd # for processing of data  \n",
        "import matplotlib.pyplot as plt\n",
        "from sklearn.preprocessing import LabelEncoder \n",
        "from sklearn.preprocessing import StandardScaler \n",
        "!pip install umap-learn\n",
        "import umap\n",
        "import plotly.graph_objects as go\n",
        "import plotly.figure_factory as ff\n",
        "from sklearn.cluster import KMeans\n",
        "import seaborn as sns\n",
        "%matplotlib inline \n",
        "import lightgbm as lgb"
      ],
      "execution_count": 7,
      "outputs": [
        {
          "output_type": "stream",
          "text": [
            "Requirement already satisfied: umap-learn in /usr/local/lib/python3.7/dist-packages (0.5.1)\n",
            "Requirement already satisfied: numpy>=1.17 in /usr/local/lib/python3.7/dist-packages (from umap-learn) (1.19.5)\n",
            "Requirement already satisfied: scikit-learn>=0.22 in /usr/local/lib/python3.7/dist-packages (from umap-learn) (0.22.2.post1)\n",
            "Requirement already satisfied: pynndescent>=0.5 in /usr/local/lib/python3.7/dist-packages (from umap-learn) (0.5.2)\n",
            "Requirement already satisfied: numba>=0.49 in /usr/local/lib/python3.7/dist-packages (from umap-learn) (0.51.2)\n",
            "Requirement already satisfied: scipy>=1.0 in /usr/local/lib/python3.7/dist-packages (from umap-learn) (1.4.1)\n",
            "Requirement already satisfied: joblib>=0.11 in /usr/local/lib/python3.7/dist-packages (from scikit-learn>=0.22->umap-learn) (1.0.1)\n",
            "Requirement already satisfied: llvmlite>=0.30 in /usr/local/lib/python3.7/dist-packages (from pynndescent>=0.5->umap-learn) (0.34.0)\n",
            "Requirement already satisfied: setuptools in /usr/local/lib/python3.7/dist-packages (from numba>=0.49->umap-learn) (56.1.0)\n"
          ],
          "name": "stdout"
        }
      ]
    },
    {
      "cell_type": "code",
      "metadata": {
        "id": "6pVrHIvm0UHc"
      },
      "source": [
        "dataset = pd.read_csv(\"Collisions.csv\")"
      ],
      "execution_count": 8,
      "outputs": []
    },
    {
      "cell_type": "code",
      "metadata": {
        "id": "WfV5QZx4N_DS"
      },
      "source": [
        ""
      ],
      "execution_count": 8,
      "outputs": []
    },
    {
      "cell_type": "code",
      "metadata": {
        "id": "PTjbzJNmOMB4",
        "colab": {
          "base_uri": "https://localhost:8080/"
        },
        "outputId": "952f126b-1b5e-45f1-9d12-7449c631945e"
      },
      "source": [
        "dataset.shape"
      ],
      "execution_count": 9,
      "outputs": [
        {
          "output_type": "execute_result",
          "data": {
            "text/plain": [
              "(37869, 13)"
            ]
          },
          "metadata": {
            "tags": []
          },
          "execution_count": 9
        }
      ]
    },
    {
      "cell_type": "code",
      "metadata": {
        "id": "v-kxR2CLOUxH",
        "colab": {
          "base_uri": "https://localhost:8080/"
        },
        "outputId": "509e92a8-c01e-485c-e5dd-1d1b04b8438e"
      },
      "source": [
        "dataset.info()"
      ],
      "execution_count": 10,
      "outputs": [
        {
          "output_type": "stream",
          "text": [
            "<class 'pandas.core.frame.DataFrame'>\n",
            "RangeIndex: 37869 entries, 0 to 37868\n",
            "Data columns (total 13 columns):\n",
            " #   Column                   Non-Null Count  Dtype \n",
            "---  ------                   --------------  ----- \n",
            " 0   Number_of_Vehicles       37869 non-null  int64 \n",
            " 1   Road_Type                37869 non-null  object\n",
            " 2   Speed_limit              37869 non-null  int64 \n",
            " 3   Light_Conditions         37869 non-null  object\n",
            " 4   Weather_Conditions       37869 non-null  object\n",
            " 5   Road_Surface_Conditions  37869 non-null  object\n",
            " 6   Urban_or_Rural_Area      37869 non-null  object\n",
            " 7   Vehicle_Manoeuvre        37869 non-null  object\n",
            " 8   1st_Point_of_Impact      37869 non-null  object\n",
            " 9   Sex_of_Driver            37869 non-null  object\n",
            " 10  Age_of_Driver            37869 non-null  int64 \n",
            " 11  Engine_Capacity_(CC)     37869 non-null  int64 \n",
            " 12  Damage                   37869 non-null  object\n",
            "dtypes: int64(4), object(9)\n",
            "memory usage: 3.8+ MB\n"
          ],
          "name": "stdout"
        }
      ]
    },
    {
      "cell_type": "code",
      "metadata": {
        "id": "Q8KyS4DoOXos",
        "colab": {
          "base_uri": "https://localhost:8080/",
          "height": 297
        },
        "outputId": "87ed2b75-997c-453b-ea9f-badb40138df4"
      },
      "source": [
        "dataset.describe()"
      ],
      "execution_count": 11,
      "outputs": [
        {
          "output_type": "execute_result",
          "data": {
            "text/html": [
              "<div>\n",
              "<style scoped>\n",
              "    .dataframe tbody tr th:only-of-type {\n",
              "        vertical-align: middle;\n",
              "    }\n",
              "\n",
              "    .dataframe tbody tr th {\n",
              "        vertical-align: top;\n",
              "    }\n",
              "\n",
              "    .dataframe thead th {\n",
              "        text-align: right;\n",
              "    }\n",
              "</style>\n",
              "<table border=\"1\" class=\"dataframe\">\n",
              "  <thead>\n",
              "    <tr style=\"text-align: right;\">\n",
              "      <th></th>\n",
              "      <th>Number_of_Vehicles</th>\n",
              "      <th>Speed_limit</th>\n",
              "      <th>Age_of_Driver</th>\n",
              "      <th>Engine_Capacity_(CC)</th>\n",
              "    </tr>\n",
              "  </thead>\n",
              "  <tbody>\n",
              "    <tr>\n",
              "      <th>count</th>\n",
              "      <td>37869.000000</td>\n",
              "      <td>37869.000000</td>\n",
              "      <td>37869.000000</td>\n",
              "      <td>37869.000000</td>\n",
              "    </tr>\n",
              "    <tr>\n",
              "      <th>mean</th>\n",
              "      <td>2.231324</td>\n",
              "      <td>33.154031</td>\n",
              "      <td>38.381103</td>\n",
              "      <td>1929.625023</td>\n",
              "    </tr>\n",
              "    <tr>\n",
              "      <th>std</th>\n",
              "      <td>0.555507</td>\n",
              "      <td>9.532046</td>\n",
              "      <td>14.486654</td>\n",
              "      <td>1460.526046</td>\n",
              "    </tr>\n",
              "    <tr>\n",
              "      <th>min</th>\n",
              "      <td>2.000000</td>\n",
              "      <td>20.000000</td>\n",
              "      <td>16.000000</td>\n",
              "      <td>1086.000000</td>\n",
              "    </tr>\n",
              "    <tr>\n",
              "      <th>25%</th>\n",
              "      <td>2.000000</td>\n",
              "      <td>30.000000</td>\n",
              "      <td>27.000000</td>\n",
              "      <td>1388.000000</td>\n",
              "    </tr>\n",
              "    <tr>\n",
              "      <th>50%</th>\n",
              "      <td>2.000000</td>\n",
              "      <td>30.000000</td>\n",
              "      <td>36.000000</td>\n",
              "      <td>1598.000000</td>\n",
              "    </tr>\n",
              "    <tr>\n",
              "      <th>75%</th>\n",
              "      <td>2.000000</td>\n",
              "      <td>30.000000</td>\n",
              "      <td>47.000000</td>\n",
              "      <td>1991.000000</td>\n",
              "    </tr>\n",
              "    <tr>\n",
              "      <th>max</th>\n",
              "      <td>7.000000</td>\n",
              "      <td>70.000000</td>\n",
              "      <td>96.000000</td>\n",
              "      <td>76370.000000</td>\n",
              "    </tr>\n",
              "  </tbody>\n",
              "</table>\n",
              "</div>"
            ],
            "text/plain": [
              "       Number_of_Vehicles   Speed_limit  Age_of_Driver  Engine_Capacity_(CC)\n",
              "count        37869.000000  37869.000000   37869.000000          37869.000000\n",
              "mean             2.231324     33.154031      38.381103           1929.625023\n",
              "std              0.555507      9.532046      14.486654           1460.526046\n",
              "min              2.000000     20.000000      16.000000           1086.000000\n",
              "25%              2.000000     30.000000      27.000000           1388.000000\n",
              "50%              2.000000     30.000000      36.000000           1598.000000\n",
              "75%              2.000000     30.000000      47.000000           1991.000000\n",
              "max              7.000000     70.000000      96.000000          76370.000000"
            ]
          },
          "metadata": {
            "tags": []
          },
          "execution_count": 11
        }
      ]
    },
    {
      "cell_type": "markdown",
      "metadata": {
        "id": "25rsMXB3Ok1z"
      },
      "source": [
        "## Missing Values\n",
        "## There are no missing values in the dataset"
      ]
    },
    {
      "cell_type": "code",
      "metadata": {
        "id": "Hjnx9Bm2Oc8h",
        "colab": {
          "base_uri": "https://localhost:8080/"
        },
        "outputId": "4869a675-c3b1-4d22-c2df-01954214fec3"
      },
      "source": [
        "missing_values = dataset.isnull().sum()\n",
        "print(missing_values)"
      ],
      "execution_count": 12,
      "outputs": [
        {
          "output_type": "stream",
          "text": [
            "Number_of_Vehicles         0\n",
            "Road_Type                  0\n",
            "Speed_limit                0\n",
            "Light_Conditions           0\n",
            "Weather_Conditions         0\n",
            "Road_Surface_Conditions    0\n",
            "Urban_or_Rural_Area        0\n",
            "Vehicle_Manoeuvre          0\n",
            "1st_Point_of_Impact        0\n",
            "Sex_of_Driver              0\n",
            "Age_of_Driver              0\n",
            "Engine_Capacity_(CC)       0\n",
            "Damage                     0\n",
            "dtype: int64\n"
          ],
          "name": "stdout"
        }
      ]
    },
    {
      "cell_type": "markdown",
      "metadata": {
        "id": "8DFJFWj5OuJV"
      },
      "source": [
        "# Label Encoding for Categorical Data with binary attributes\n",
        "## Affected columns: insured_sex (female, male), fraud_reported (Y, N)"
      ]
    },
    {
      "cell_type": "code",
      "metadata": {
        "id": "g1Z276NpOvVV",
        "colab": {
          "base_uri": "https://localhost:8080/"
        },
        "outputId": "c10abc59-f65a-4818-81e8-6a3289875492"
      },
      "source": [
        "# Assign label encoder\n",
        "le = LabelEncoder()\n",
        "\n",
        "# count of columns to be encoded\n",
        "label_en_count = 0\n",
        "\n",
        "# Loop through the columns \n",
        "for col in dataset:\n",
        "  # if column is an object type\n",
        "  if dataset[col].dtype == 'object':\n",
        "    # and column has at most 2 unique categories\n",
        "    if len(list(dataset[col].unique())) <= 2:\n",
        "      # Train label encoder\n",
        "      le.fit(dataset[col])\n",
        "      print('Binary Data Detected!')\n",
        "      # Transform train and test data\n",
        "      dataset[col] = le.transform(dataset[col])\n",
        "      print(\"Column Data Encoded\")\n",
        "      # Update Counter of columns encoded\n",
        "      label_en_count += 1\n",
        "            \n",
        "print('%d columns got labels encoded.' % label_en_count)"
      ],
      "execution_count": 13,
      "outputs": [
        {
          "output_type": "stream",
          "text": [
            "Binary Data Detected!\n",
            "Column Data Encoded\n",
            "Binary Data Detected!\n",
            "Column Data Encoded\n",
            "Binary Data Detected!\n",
            "Column Data Encoded\n",
            "3 columns got labels encoded.\n"
          ],
          "name": "stdout"
        }
      ]
    },
    {
      "cell_type": "code",
      "metadata": {
        "id": "D27yVWBuPAKZ",
        "colab": {
          "base_uri": "https://localhost:8080/"
        },
        "outputId": "a5010fc7-e61e-4207-c32e-1f78bf7a7e18"
      },
      "source": [
        "dataset.info() #Damage,Urban_or_Rural_Area and Sex_of_Driver were encoded from object to binary integer."
      ],
      "execution_count": 14,
      "outputs": [
        {
          "output_type": "stream",
          "text": [
            "<class 'pandas.core.frame.DataFrame'>\n",
            "RangeIndex: 37869 entries, 0 to 37868\n",
            "Data columns (total 13 columns):\n",
            " #   Column                   Non-Null Count  Dtype \n",
            "---  ------                   --------------  ----- \n",
            " 0   Number_of_Vehicles       37869 non-null  int64 \n",
            " 1   Road_Type                37869 non-null  object\n",
            " 2   Speed_limit              37869 non-null  int64 \n",
            " 3   Light_Conditions         37869 non-null  object\n",
            " 4   Weather_Conditions       37869 non-null  object\n",
            " 5   Road_Surface_Conditions  37869 non-null  object\n",
            " 6   Urban_or_Rural_Area      37869 non-null  int64 \n",
            " 7   Vehicle_Manoeuvre        37869 non-null  object\n",
            " 8   1st_Point_of_Impact      37869 non-null  object\n",
            " 9   Sex_of_Driver            37869 non-null  int64 \n",
            " 10  Age_of_Driver            37869 non-null  int64 \n",
            " 11  Engine_Capacity_(CC)     37869 non-null  int64 \n",
            " 12  Damage                   37869 non-null  int64 \n",
            "dtypes: int64(7), object(6)\n",
            "memory usage: 3.8+ MB\n"
          ],
          "name": "stdout"
        }
      ]
    },
    {
      "cell_type": "code",
      "metadata": {
        "id": "EflYA0T8Q6Cl",
        "colab": {
          "base_uri": "https://localhost:8080/"
        },
        "outputId": "fbaeb70d-d5fa-4d19-83e5-bb685bf8878e"
      },
      "source": [
        "encoded_columns = dataset[['Damage', 'Urban_or_Rural_Area','Sex_of_Driver']]\n",
        "print(encoded_columns)"
      ],
      "execution_count": 15,
      "outputs": [
        {
          "output_type": "stream",
          "text": [
            "       Damage  Urban_or_Rural_Area  Sex_of_Driver\n",
            "0           0                    1              1\n",
            "1           0                    1              0\n",
            "2           0                    1              1\n",
            "3           0                    1              1\n",
            "4           0                    1              1\n",
            "...       ...                  ...            ...\n",
            "37864       1                    0              1\n",
            "37865       1                    0              1\n",
            "37866       1                    0              1\n",
            "37867       0                    0              1\n",
            "37868       0                    0              1\n",
            "\n",
            "[37869 rows x 3 columns]\n"
          ],
          "name": "stdout"
        }
      ]
    },
    {
      "cell_type": "markdown",
      "metadata": {
        "id": "bIsvw0hV2xPZ"
      },
      "source": [
        "# Correlation Matrix using Heatmap"
      ]
    },
    {
      "cell_type": "code",
      "metadata": {
        "id": "EQkA6DUmxnig",
        "colab": {
          "base_uri": "https://localhost:8080/",
          "height": 542
        },
        "outputId": "4983ddb8-b5fa-41a3-f5a1-5c4d4da73371"
      },
      "source": [
        "correlation = dataset.corr()\n",
        "figure = ff.create_annotated_heatmap(\n",
        "    z=correlation.values,\n",
        "    x=list(correlation.columns),\n",
        "    y=list(correlation.index),\n",
        "    annotation_text=correlation.round(2).values,\n",
        "    showscale=True)\n",
        "figure.show()"
      ],
      "execution_count": 16,
      "outputs": [
        {
          "output_type": "display_data",
          "data": {
            "text/html": [
              "<html>\n",
              "<head><meta charset=\"utf-8\" /></head>\n",
              "<body>\n",
              "    <div>\n",
              "            <script src=\"https://cdnjs.cloudflare.com/ajax/libs/mathjax/2.7.5/MathJax.js?config=TeX-AMS-MML_SVG\"></script><script type=\"text/javascript\">if (window.MathJax) {MathJax.Hub.Config({SVG: {font: \"STIX-Web\"}});}</script>\n",
              "                <script type=\"text/javascript\">window.PlotlyConfig = {MathJaxConfig: 'local'};</script>\n",
              "        <script src=\"https://cdn.plot.ly/plotly-latest.min.js\"></script>    \n",
              "            <div id=\"937a9706-17f5-4590-88bb-94274c245ab9\" class=\"plotly-graph-div\" style=\"height:525px; width:100%;\"></div>\n",
              "            <script type=\"text/javascript\">\n",
              "                \n",
              "                    window.PLOTLYENV=window.PLOTLYENV || {};\n",
              "                    \n",
              "                if (document.getElementById(\"937a9706-17f5-4590-88bb-94274c245ab9\")) {\n",
              "                    Plotly.newPlot(\n",
              "                        '937a9706-17f5-4590-88bb-94274c245ab9',\n",
              "                        [{\"colorscale\": [[0.0, \"#0d0887\"], [0.1111111111111111, \"#46039f\"], [0.2222222222222222, \"#7201a8\"], [0.3333333333333333, \"#9c179e\"], [0.4444444444444444, \"#bd3786\"], [0.5555555555555556, \"#d8576b\"], [0.6666666666666666, \"#ed7953\"], [0.7777777777777778, \"#fb9f3a\"], [0.8888888888888888, \"#fdca26\"], [1.0, \"#f0f921\"]], \"reversescale\": false, \"showscale\": true, \"type\": \"heatmap\", \"x\": [\"Number_of_Vehicles\", \"Speed_limit\", \"Urban_or_Rural_Area\", \"Sex_of_Driver\", \"Age_of_Driver\", \"Engine_Capacity_(CC)\", \"Damage\"], \"y\": [\"Number_of_Vehicles\", \"Speed_limit\", \"Urban_or_Rural_Area\", \"Sex_of_Driver\", \"Age_of_Driver\", \"Engine_Capacity_(CC)\", \"Damage\"], \"z\": [[1.0, 0.16353196503278486, -0.0872304740628802, 0.007748622099625837, 0.012166213521076788, -0.00319921612219938, 0.0173354518090551], [0.16353196503278486, 1.0, -0.5365304519846705, 0.0050687566315824025, 0.016660820700081222, 0.08004741398285459, -0.01197748674894942], [-0.0872304740628802, -0.5365304519846705, 1.0, -0.00021221547225134366, -0.022449208574962395, -0.0525486525393365, -0.01403647033824919], [0.007748622099625837, 0.0050687566315824025, -0.00021221547225134366, 1.0, 0.030018324363894955, 0.16723526339043113, 0.034845957676993916], [0.012166213521076788, 0.016660820700081222, -0.022449208574962395, 0.030018324363894955, 1.0, 0.08930248702604628, 0.022676555445986443], [-0.00319921612219938, 0.08004741398285459, -0.0525486525393365, 0.16723526339043113, 0.08930248702604628, 1.0, 0.008066795520600103], [0.0173354518090551, -0.01197748674894942, -0.01403647033824919, 0.034845957676993916, 0.022676555445986443, 0.008066795520600103, 1.0]]}],\n",
              "                        {\"annotations\": [{\"font\": {\"color\": \"#000000\"}, \"showarrow\": false, \"text\": \"1.0\", \"x\": \"Number_of_Vehicles\", \"xref\": \"x\", \"y\": \"Number_of_Vehicles\", \"yref\": \"y\"}, {\"font\": {\"color\": \"#FFFFFF\"}, \"showarrow\": false, \"text\": \"0.16\", \"x\": \"Speed_limit\", \"xref\": \"x\", \"y\": \"Number_of_Vehicles\", \"yref\": \"y\"}, {\"font\": {\"color\": \"#FFFFFF\"}, \"showarrow\": false, \"text\": \"-0.09\", \"x\": \"Urban_or_Rural_Area\", \"xref\": \"x\", \"y\": \"Number_of_Vehicles\", \"yref\": \"y\"}, {\"font\": {\"color\": \"#FFFFFF\"}, \"showarrow\": false, \"text\": \"0.01\", \"x\": \"Sex_of_Driver\", \"xref\": \"x\", \"y\": \"Number_of_Vehicles\", \"yref\": \"y\"}, {\"font\": {\"color\": \"#FFFFFF\"}, \"showarrow\": false, \"text\": \"0.01\", \"x\": \"Age_of_Driver\", \"xref\": \"x\", \"y\": \"Number_of_Vehicles\", \"yref\": \"y\"}, {\"font\": {\"color\": \"#FFFFFF\"}, \"showarrow\": false, \"text\": \"-0.0\", \"x\": \"Engine_Capacity_(CC)\", \"xref\": \"x\", \"y\": \"Number_of_Vehicles\", \"yref\": \"y\"}, {\"font\": {\"color\": \"#FFFFFF\"}, \"showarrow\": false, \"text\": \"0.02\", \"x\": \"Damage\", \"xref\": \"x\", \"y\": \"Number_of_Vehicles\", \"yref\": \"y\"}, {\"font\": {\"color\": \"#FFFFFF\"}, \"showarrow\": false, \"text\": \"0.16\", \"x\": \"Number_of_Vehicles\", \"xref\": \"x\", \"y\": \"Speed_limit\", \"yref\": \"y\"}, {\"font\": {\"color\": \"#000000\"}, \"showarrow\": false, \"text\": \"1.0\", \"x\": \"Speed_limit\", \"xref\": \"x\", \"y\": \"Speed_limit\", \"yref\": \"y\"}, {\"font\": {\"color\": \"#FFFFFF\"}, \"showarrow\": false, \"text\": \"-0.54\", \"x\": \"Urban_or_Rural_Area\", \"xref\": \"x\", \"y\": \"Speed_limit\", \"yref\": \"y\"}, {\"font\": {\"color\": \"#FFFFFF\"}, \"showarrow\": false, \"text\": \"0.01\", \"x\": \"Sex_of_Driver\", \"xref\": \"x\", \"y\": \"Speed_limit\", \"yref\": \"y\"}, {\"font\": {\"color\": \"#FFFFFF\"}, \"showarrow\": false, \"text\": \"0.02\", \"x\": \"Age_of_Driver\", \"xref\": \"x\", \"y\": \"Speed_limit\", \"yref\": \"y\"}, {\"font\": {\"color\": \"#FFFFFF\"}, \"showarrow\": false, \"text\": \"0.08\", \"x\": \"Engine_Capacity_(CC)\", \"xref\": \"x\", \"y\": \"Speed_limit\", \"yref\": \"y\"}, {\"font\": {\"color\": \"#FFFFFF\"}, \"showarrow\": false, \"text\": \"-0.01\", \"x\": \"Damage\", \"xref\": \"x\", \"y\": \"Speed_limit\", \"yref\": \"y\"}, {\"font\": {\"color\": \"#FFFFFF\"}, \"showarrow\": false, \"text\": \"-0.09\", \"x\": \"Number_of_Vehicles\", \"xref\": \"x\", \"y\": \"Urban_or_Rural_Area\", \"yref\": \"y\"}, {\"font\": {\"color\": \"#FFFFFF\"}, \"showarrow\": false, \"text\": \"-0.54\", \"x\": \"Speed_limit\", \"xref\": \"x\", \"y\": \"Urban_or_Rural_Area\", \"yref\": \"y\"}, {\"font\": {\"color\": \"#000000\"}, \"showarrow\": false, \"text\": \"1.0\", \"x\": \"Urban_or_Rural_Area\", \"xref\": \"x\", \"y\": \"Urban_or_Rural_Area\", \"yref\": \"y\"}, {\"font\": {\"color\": \"#FFFFFF\"}, \"showarrow\": false, \"text\": \"-0.0\", \"x\": \"Sex_of_Driver\", \"xref\": \"x\", \"y\": \"Urban_or_Rural_Area\", \"yref\": \"y\"}, {\"font\": {\"color\": \"#FFFFFF\"}, \"showarrow\": false, \"text\": \"-0.02\", \"x\": \"Age_of_Driver\", \"xref\": \"x\", \"y\": \"Urban_or_Rural_Area\", \"yref\": \"y\"}, {\"font\": {\"color\": \"#FFFFFF\"}, \"showarrow\": false, \"text\": \"-0.05\", \"x\": \"Engine_Capacity_(CC)\", \"xref\": \"x\", \"y\": \"Urban_or_Rural_Area\", \"yref\": \"y\"}, {\"font\": {\"color\": \"#FFFFFF\"}, \"showarrow\": false, \"text\": \"-0.01\", \"x\": \"Damage\", \"xref\": \"x\", \"y\": \"Urban_or_Rural_Area\", \"yref\": \"y\"}, {\"font\": {\"color\": \"#FFFFFF\"}, \"showarrow\": false, \"text\": \"0.01\", \"x\": \"Number_of_Vehicles\", \"xref\": \"x\", \"y\": \"Sex_of_Driver\", \"yref\": \"y\"}, {\"font\": {\"color\": \"#FFFFFF\"}, \"showarrow\": false, \"text\": \"0.01\", \"x\": \"Speed_limit\", \"xref\": \"x\", \"y\": \"Sex_of_Driver\", \"yref\": \"y\"}, {\"font\": {\"color\": \"#FFFFFF\"}, \"showarrow\": false, \"text\": \"-0.0\", \"x\": \"Urban_or_Rural_Area\", \"xref\": \"x\", \"y\": \"Sex_of_Driver\", \"yref\": \"y\"}, {\"font\": {\"color\": \"#000000\"}, \"showarrow\": false, \"text\": \"1.0\", \"x\": \"Sex_of_Driver\", \"xref\": \"x\", \"y\": \"Sex_of_Driver\", \"yref\": \"y\"}, {\"font\": {\"color\": \"#FFFFFF\"}, \"showarrow\": false, \"text\": \"0.03\", \"x\": \"Age_of_Driver\", \"xref\": \"x\", \"y\": \"Sex_of_Driver\", \"yref\": \"y\"}, {\"font\": {\"color\": \"#FFFFFF\"}, \"showarrow\": false, \"text\": \"0.17\", \"x\": \"Engine_Capacity_(CC)\", \"xref\": \"x\", \"y\": \"Sex_of_Driver\", \"yref\": \"y\"}, {\"font\": {\"color\": \"#FFFFFF\"}, \"showarrow\": false, \"text\": \"0.03\", \"x\": \"Damage\", \"xref\": \"x\", \"y\": \"Sex_of_Driver\", \"yref\": \"y\"}, {\"font\": {\"color\": \"#FFFFFF\"}, \"showarrow\": false, \"text\": \"0.01\", \"x\": \"Number_of_Vehicles\", \"xref\": \"x\", \"y\": \"Age_of_Driver\", \"yref\": \"y\"}, {\"font\": {\"color\": \"#FFFFFF\"}, \"showarrow\": false, \"text\": \"0.02\", \"x\": \"Speed_limit\", \"xref\": \"x\", \"y\": \"Age_of_Driver\", \"yref\": \"y\"}, {\"font\": {\"color\": \"#FFFFFF\"}, \"showarrow\": false, \"text\": \"-0.02\", \"x\": \"Urban_or_Rural_Area\", \"xref\": \"x\", \"y\": \"Age_of_Driver\", \"yref\": \"y\"}, {\"font\": {\"color\": \"#FFFFFF\"}, \"showarrow\": false, \"text\": \"0.03\", \"x\": \"Sex_of_Driver\", \"xref\": \"x\", \"y\": \"Age_of_Driver\", \"yref\": \"y\"}, {\"font\": {\"color\": \"#000000\"}, \"showarrow\": false, \"text\": \"1.0\", \"x\": \"Age_of_Driver\", \"xref\": \"x\", \"y\": \"Age_of_Driver\", \"yref\": \"y\"}, {\"font\": {\"color\": \"#FFFFFF\"}, \"showarrow\": false, \"text\": \"0.09\", \"x\": \"Engine_Capacity_(CC)\", \"xref\": \"x\", \"y\": \"Age_of_Driver\", \"yref\": \"y\"}, {\"font\": {\"color\": \"#FFFFFF\"}, \"showarrow\": false, \"text\": \"0.02\", \"x\": \"Damage\", \"xref\": \"x\", \"y\": \"Age_of_Driver\", \"yref\": \"y\"}, {\"font\": {\"color\": \"#FFFFFF\"}, \"showarrow\": false, \"text\": \"-0.0\", \"x\": \"Number_of_Vehicles\", \"xref\": \"x\", \"y\": \"Engine_Capacity_(CC)\", \"yref\": \"y\"}, {\"font\": {\"color\": \"#FFFFFF\"}, \"showarrow\": false, \"text\": \"0.08\", \"x\": \"Speed_limit\", \"xref\": \"x\", \"y\": \"Engine_Capacity_(CC)\", \"yref\": \"y\"}, {\"font\": {\"color\": \"#FFFFFF\"}, \"showarrow\": false, \"text\": \"-0.05\", \"x\": \"Urban_or_Rural_Area\", \"xref\": \"x\", \"y\": \"Engine_Capacity_(CC)\", \"yref\": \"y\"}, {\"font\": {\"color\": \"#FFFFFF\"}, \"showarrow\": false, \"text\": \"0.17\", \"x\": \"Sex_of_Driver\", \"xref\": \"x\", \"y\": \"Engine_Capacity_(CC)\", \"yref\": \"y\"}, {\"font\": {\"color\": \"#FFFFFF\"}, \"showarrow\": false, \"text\": \"0.09\", \"x\": \"Age_of_Driver\", \"xref\": \"x\", \"y\": \"Engine_Capacity_(CC)\", \"yref\": \"y\"}, {\"font\": {\"color\": \"#000000\"}, \"showarrow\": false, \"text\": \"1.0\", \"x\": \"Engine_Capacity_(CC)\", \"xref\": \"x\", \"y\": \"Engine_Capacity_(CC)\", \"yref\": \"y\"}, {\"font\": {\"color\": \"#FFFFFF\"}, \"showarrow\": false, \"text\": \"0.01\", \"x\": \"Damage\", \"xref\": \"x\", \"y\": \"Engine_Capacity_(CC)\", \"yref\": \"y\"}, {\"font\": {\"color\": \"#FFFFFF\"}, \"showarrow\": false, \"text\": \"0.02\", \"x\": \"Number_of_Vehicles\", \"xref\": \"x\", \"y\": \"Damage\", \"yref\": \"y\"}, {\"font\": {\"color\": \"#FFFFFF\"}, \"showarrow\": false, \"text\": \"-0.01\", \"x\": \"Speed_limit\", \"xref\": \"x\", \"y\": \"Damage\", \"yref\": \"y\"}, {\"font\": {\"color\": \"#FFFFFF\"}, \"showarrow\": false, \"text\": \"-0.01\", \"x\": \"Urban_or_Rural_Area\", \"xref\": \"x\", \"y\": \"Damage\", \"yref\": \"y\"}, {\"font\": {\"color\": \"#FFFFFF\"}, \"showarrow\": false, \"text\": \"0.03\", \"x\": \"Sex_of_Driver\", \"xref\": \"x\", \"y\": \"Damage\", \"yref\": \"y\"}, {\"font\": {\"color\": \"#FFFFFF\"}, \"showarrow\": false, \"text\": \"0.02\", \"x\": \"Age_of_Driver\", \"xref\": \"x\", \"y\": \"Damage\", \"yref\": \"y\"}, {\"font\": {\"color\": \"#FFFFFF\"}, \"showarrow\": false, \"text\": \"0.01\", \"x\": \"Engine_Capacity_(CC)\", \"xref\": \"x\", \"y\": \"Damage\", \"yref\": \"y\"}, {\"font\": {\"color\": \"#000000\"}, \"showarrow\": false, \"text\": \"1.0\", \"x\": \"Damage\", \"xref\": \"x\", \"y\": \"Damage\", \"yref\": \"y\"}], \"template\": {\"data\": {\"bar\": [{\"error_x\": {\"color\": \"#2a3f5f\"}, \"error_y\": {\"color\": \"#2a3f5f\"}, \"marker\": {\"line\": {\"color\": \"#E5ECF6\", \"width\": 0.5}}, \"type\": \"bar\"}], \"barpolar\": [{\"marker\": {\"line\": {\"color\": \"#E5ECF6\", \"width\": 0.5}}, \"type\": \"barpolar\"}], \"carpet\": [{\"aaxis\": {\"endlinecolor\": \"#2a3f5f\", \"gridcolor\": \"white\", \"linecolor\": \"white\", \"minorgridcolor\": \"white\", \"startlinecolor\": \"#2a3f5f\"}, \"baxis\": {\"endlinecolor\": \"#2a3f5f\", \"gridcolor\": \"white\", \"linecolor\": \"white\", \"minorgridcolor\": \"white\", \"startlinecolor\": \"#2a3f5f\"}, \"type\": \"carpet\"}], \"choropleth\": [{\"colorbar\": {\"outlinewidth\": 0, \"ticks\": \"\"}, \"type\": \"choropleth\"}], \"contour\": [{\"colorbar\": {\"outlinewidth\": 0, \"ticks\": \"\"}, \"colorscale\": [[0.0, \"#0d0887\"], [0.1111111111111111, \"#46039f\"], [0.2222222222222222, \"#7201a8\"], [0.3333333333333333, \"#9c179e\"], [0.4444444444444444, \"#bd3786\"], [0.5555555555555556, \"#d8576b\"], [0.6666666666666666, \"#ed7953\"], [0.7777777777777778, \"#fb9f3a\"], [0.8888888888888888, \"#fdca26\"], [1.0, \"#f0f921\"]], \"type\": \"contour\"}], \"contourcarpet\": [{\"colorbar\": {\"outlinewidth\": 0, \"ticks\": \"\"}, \"type\": \"contourcarpet\"}], \"heatmap\": [{\"colorbar\": {\"outlinewidth\": 0, \"ticks\": \"\"}, \"colorscale\": [[0.0, \"#0d0887\"], [0.1111111111111111, \"#46039f\"], [0.2222222222222222, \"#7201a8\"], [0.3333333333333333, \"#9c179e\"], [0.4444444444444444, \"#bd3786\"], [0.5555555555555556, \"#d8576b\"], [0.6666666666666666, \"#ed7953\"], [0.7777777777777778, \"#fb9f3a\"], [0.8888888888888888, \"#fdca26\"], [1.0, \"#f0f921\"]], \"type\": \"heatmap\"}], \"heatmapgl\": [{\"colorbar\": {\"outlinewidth\": 0, \"ticks\": \"\"}, \"colorscale\": [[0.0, \"#0d0887\"], [0.1111111111111111, \"#46039f\"], [0.2222222222222222, \"#7201a8\"], [0.3333333333333333, \"#9c179e\"], [0.4444444444444444, \"#bd3786\"], [0.5555555555555556, \"#d8576b\"], [0.6666666666666666, \"#ed7953\"], [0.7777777777777778, \"#fb9f3a\"], [0.8888888888888888, \"#fdca26\"], [1.0, \"#f0f921\"]], \"type\": \"heatmapgl\"}], \"histogram\": [{\"marker\": {\"colorbar\": {\"outlinewidth\": 0, \"ticks\": \"\"}}, \"type\": \"histogram\"}], \"histogram2d\": [{\"colorbar\": {\"outlinewidth\": 0, \"ticks\": \"\"}, \"colorscale\": [[0.0, \"#0d0887\"], [0.1111111111111111, \"#46039f\"], [0.2222222222222222, \"#7201a8\"], [0.3333333333333333, \"#9c179e\"], [0.4444444444444444, \"#bd3786\"], [0.5555555555555556, \"#d8576b\"], [0.6666666666666666, \"#ed7953\"], [0.7777777777777778, \"#fb9f3a\"], [0.8888888888888888, \"#fdca26\"], [1.0, \"#f0f921\"]], \"type\": \"histogram2d\"}], \"histogram2dcontour\": [{\"colorbar\": {\"outlinewidth\": 0, \"ticks\": \"\"}, \"colorscale\": [[0.0, \"#0d0887\"], [0.1111111111111111, \"#46039f\"], [0.2222222222222222, \"#7201a8\"], [0.3333333333333333, \"#9c179e\"], [0.4444444444444444, \"#bd3786\"], [0.5555555555555556, \"#d8576b\"], [0.6666666666666666, \"#ed7953\"], [0.7777777777777778, \"#fb9f3a\"], [0.8888888888888888, \"#fdca26\"], [1.0, \"#f0f921\"]], \"type\": \"histogram2dcontour\"}], \"mesh3d\": [{\"colorbar\": {\"outlinewidth\": 0, \"ticks\": \"\"}, \"type\": \"mesh3d\"}], \"parcoords\": [{\"line\": {\"colorbar\": {\"outlinewidth\": 0, \"ticks\": \"\"}}, \"type\": \"parcoords\"}], \"pie\": [{\"automargin\": true, \"type\": \"pie\"}], \"scatter\": [{\"marker\": {\"colorbar\": {\"outlinewidth\": 0, \"ticks\": \"\"}}, \"type\": \"scatter\"}], \"scatter3d\": [{\"line\": {\"colorbar\": {\"outlinewidth\": 0, \"ticks\": \"\"}}, \"marker\": {\"colorbar\": {\"outlinewidth\": 0, \"ticks\": \"\"}}, \"type\": \"scatter3d\"}], \"scattercarpet\": [{\"marker\": {\"colorbar\": {\"outlinewidth\": 0, \"ticks\": \"\"}}, \"type\": \"scattercarpet\"}], \"scattergeo\": [{\"marker\": {\"colorbar\": {\"outlinewidth\": 0, \"ticks\": \"\"}}, \"type\": \"scattergeo\"}], \"scattergl\": [{\"marker\": {\"colorbar\": {\"outlinewidth\": 0, \"ticks\": \"\"}}, \"type\": \"scattergl\"}], \"scattermapbox\": [{\"marker\": {\"colorbar\": {\"outlinewidth\": 0, \"ticks\": \"\"}}, \"type\": \"scattermapbox\"}], \"scatterpolar\": [{\"marker\": {\"colorbar\": {\"outlinewidth\": 0, \"ticks\": \"\"}}, \"type\": \"scatterpolar\"}], \"scatterpolargl\": [{\"marker\": {\"colorbar\": {\"outlinewidth\": 0, \"ticks\": \"\"}}, \"type\": \"scatterpolargl\"}], \"scatterternary\": [{\"marker\": {\"colorbar\": {\"outlinewidth\": 0, \"ticks\": \"\"}}, \"type\": \"scatterternary\"}], \"surface\": [{\"colorbar\": {\"outlinewidth\": 0, \"ticks\": \"\"}, \"colorscale\": [[0.0, \"#0d0887\"], [0.1111111111111111, \"#46039f\"], [0.2222222222222222, \"#7201a8\"], [0.3333333333333333, \"#9c179e\"], [0.4444444444444444, \"#bd3786\"], [0.5555555555555556, \"#d8576b\"], [0.6666666666666666, \"#ed7953\"], [0.7777777777777778, \"#fb9f3a\"], [0.8888888888888888, \"#fdca26\"], [1.0, \"#f0f921\"]], \"type\": \"surface\"}], \"table\": [{\"cells\": {\"fill\": {\"color\": \"#EBF0F8\"}, \"line\": {\"color\": \"white\"}}, \"header\": {\"fill\": {\"color\": \"#C8D4E3\"}, \"line\": {\"color\": \"white\"}}, \"type\": \"table\"}]}, \"layout\": {\"annotationdefaults\": {\"arrowcolor\": \"#2a3f5f\", \"arrowhead\": 0, \"arrowwidth\": 1}, \"coloraxis\": {\"colorbar\": {\"outlinewidth\": 0, \"ticks\": \"\"}}, \"colorscale\": {\"diverging\": [[0, \"#8e0152\"], [0.1, \"#c51b7d\"], [0.2, \"#de77ae\"], [0.3, \"#f1b6da\"], [0.4, \"#fde0ef\"], [0.5, \"#f7f7f7\"], [0.6, \"#e6f5d0\"], [0.7, \"#b8e186\"], [0.8, \"#7fbc41\"], [0.9, \"#4d9221\"], [1, \"#276419\"]], \"sequential\": [[0.0, \"#0d0887\"], [0.1111111111111111, \"#46039f\"], [0.2222222222222222, \"#7201a8\"], [0.3333333333333333, \"#9c179e\"], [0.4444444444444444, \"#bd3786\"], [0.5555555555555556, \"#d8576b\"], [0.6666666666666666, \"#ed7953\"], [0.7777777777777778, \"#fb9f3a\"], [0.8888888888888888, \"#fdca26\"], [1.0, \"#f0f921\"]], \"sequentialminus\": [[0.0, \"#0d0887\"], [0.1111111111111111, \"#46039f\"], [0.2222222222222222, \"#7201a8\"], [0.3333333333333333, \"#9c179e\"], [0.4444444444444444, \"#bd3786\"], [0.5555555555555556, \"#d8576b\"], [0.6666666666666666, \"#ed7953\"], [0.7777777777777778, \"#fb9f3a\"], [0.8888888888888888, \"#fdca26\"], [1.0, \"#f0f921\"]]}, \"colorway\": [\"#636efa\", \"#EF553B\", \"#00cc96\", \"#ab63fa\", \"#FFA15A\", \"#19d3f3\", \"#FF6692\", \"#B6E880\", \"#FF97FF\", \"#FECB52\"], \"font\": {\"color\": \"#2a3f5f\"}, \"geo\": {\"bgcolor\": \"white\", \"lakecolor\": \"white\", \"landcolor\": \"#E5ECF6\", \"showlakes\": true, \"showland\": true, \"subunitcolor\": \"white\"}, \"hoverlabel\": {\"align\": \"left\"}, \"hovermode\": \"closest\", \"mapbox\": {\"style\": \"light\"}, \"paper_bgcolor\": \"white\", \"plot_bgcolor\": \"#E5ECF6\", \"polar\": {\"angularaxis\": {\"gridcolor\": \"white\", \"linecolor\": \"white\", \"ticks\": \"\"}, \"bgcolor\": \"#E5ECF6\", \"radialaxis\": {\"gridcolor\": \"white\", \"linecolor\": \"white\", \"ticks\": \"\"}}, \"scene\": {\"xaxis\": {\"backgroundcolor\": \"#E5ECF6\", \"gridcolor\": \"white\", \"gridwidth\": 2, \"linecolor\": \"white\", \"showbackground\": true, \"ticks\": \"\", \"zerolinecolor\": \"white\"}, \"yaxis\": {\"backgroundcolor\": \"#E5ECF6\", \"gridcolor\": \"white\", \"gridwidth\": 2, \"linecolor\": \"white\", \"showbackground\": true, \"ticks\": \"\", \"zerolinecolor\": \"white\"}, \"zaxis\": {\"backgroundcolor\": \"#E5ECF6\", \"gridcolor\": \"white\", \"gridwidth\": 2, \"linecolor\": \"white\", \"showbackground\": true, \"ticks\": \"\", \"zerolinecolor\": \"white\"}}, \"shapedefaults\": {\"line\": {\"color\": \"#2a3f5f\"}}, \"ternary\": {\"aaxis\": {\"gridcolor\": \"white\", \"linecolor\": \"white\", \"ticks\": \"\"}, \"baxis\": {\"gridcolor\": \"white\", \"linecolor\": \"white\", \"ticks\": \"\"}, \"bgcolor\": \"#E5ECF6\", \"caxis\": {\"gridcolor\": \"white\", \"linecolor\": \"white\", \"ticks\": \"\"}}, \"title\": {\"x\": 0.05}, \"xaxis\": {\"automargin\": true, \"gridcolor\": \"white\", \"linecolor\": \"white\", \"ticks\": \"\", \"title\": {\"standoff\": 15}, \"zerolinecolor\": \"white\", \"zerolinewidth\": 2}, \"yaxis\": {\"automargin\": true, \"gridcolor\": \"white\", \"linecolor\": \"white\", \"ticks\": \"\", \"title\": {\"standoff\": 15}, \"zerolinecolor\": \"white\", \"zerolinewidth\": 2}}}, \"xaxis\": {\"dtick\": 1, \"gridcolor\": \"rgb(0, 0, 0)\", \"side\": \"top\", \"ticks\": \"\"}, \"yaxis\": {\"dtick\": 1, \"ticks\": \"\", \"ticksuffix\": \"  \"}},\n",
              "                        {\"responsive\": true}\n",
              "                    ).then(function(){\n",
              "                            \n",
              "var gd = document.getElementById('937a9706-17f5-4590-88bb-94274c245ab9');\n",
              "var x = new MutationObserver(function (mutations, observer) {{\n",
              "        var display = window.getComputedStyle(gd).display;\n",
              "        if (!display || display === 'none') {{\n",
              "            console.log([gd, 'removed!']);\n",
              "            Plotly.purge(gd);\n",
              "            observer.disconnect();\n",
              "        }}\n",
              "}});\n",
              "\n",
              "// Listen for the removal of the full notebook cells\n",
              "var notebookContainer = gd.closest('#notebook-container');\n",
              "if (notebookContainer) {{\n",
              "    x.observe(notebookContainer, {childList: true});\n",
              "}}\n",
              "\n",
              "// Listen for the clearing of the current output cell\n",
              "var outputEl = gd.closest('.output');\n",
              "if (outputEl) {{\n",
              "    x.observe(outputEl, {childList: true});\n",
              "}}\n",
              "\n",
              "                        })\n",
              "                };\n",
              "                \n",
              "            </script>\n",
              "        </div>\n",
              "</body>\n",
              "</html>"
            ]
          },
          "metadata": {
            "tags": []
          }
        }
      ]
    },
    {
      "cell_type": "code",
      "metadata": {
        "id": "RPTiHnH45lYR",
        "colab": {
          "base_uri": "https://localhost:8080/",
          "height": 235
        },
        "outputId": "6e5c8877-b701-4bca-ad53-885c6b0faa2e"
      },
      "source": [
        "# Features value count table for columns with object data type\n",
        "\n",
        "col_name =[]\n",
        "unique_value=[]\n",
        "# Loop through columns\n",
        "for col in dataset:\n",
        "  # if column data type is object\n",
        "    if dataset[col].dtype == 'object':\n",
        "        # append column name to col_name list\n",
        "        col_name.append(str(col)) \n",
        "        # append count of unique column values to unique_value list\n",
        "        unique_value.append(dataset[col].nunique())\n",
        "\n",
        "table= pd.DataFrame()\n",
        "table['Col_name'] = col_name\n",
        "table['Value']= unique_value\n",
        "            \n",
        "table=table.sort_values('Value',ascending=False)\n",
        "table\n"
      ],
      "execution_count": 17,
      "outputs": [
        {
          "output_type": "execute_result",
          "data": {
            "text/html": [
              "<div>\n",
              "<style scoped>\n",
              "    .dataframe tbody tr th:only-of-type {\n",
              "        vertical-align: middle;\n",
              "    }\n",
              "\n",
              "    .dataframe tbody tr th {\n",
              "        vertical-align: top;\n",
              "    }\n",
              "\n",
              "    .dataframe thead th {\n",
              "        text-align: right;\n",
              "    }\n",
              "</style>\n",
              "<table border=\"1\" class=\"dataframe\">\n",
              "  <thead>\n",
              "    <tr style=\"text-align: right;\">\n",
              "      <th></th>\n",
              "      <th>Col_name</th>\n",
              "      <th>Value</th>\n",
              "    </tr>\n",
              "  </thead>\n",
              "  <tbody>\n",
              "    <tr>\n",
              "      <th>4</th>\n",
              "      <td>Vehicle_Manoeuvre</td>\n",
              "      <td>10</td>\n",
              "    </tr>\n",
              "    <tr>\n",
              "      <th>2</th>\n",
              "      <td>Weather_Conditions</td>\n",
              "      <td>7</td>\n",
              "    </tr>\n",
              "    <tr>\n",
              "      <th>0</th>\n",
              "      <td>Road_Type</td>\n",
              "      <td>5</td>\n",
              "    </tr>\n",
              "    <tr>\n",
              "      <th>3</th>\n",
              "      <td>Road_Surface_Conditions</td>\n",
              "      <td>5</td>\n",
              "    </tr>\n",
              "    <tr>\n",
              "      <th>1</th>\n",
              "      <td>Light_Conditions</td>\n",
              "      <td>4</td>\n",
              "    </tr>\n",
              "    <tr>\n",
              "      <th>5</th>\n",
              "      <td>1st_Point_of_Impact</td>\n",
              "      <td>4</td>\n",
              "    </tr>\n",
              "  </tbody>\n",
              "</table>\n",
              "</div>"
            ],
            "text/plain": [
              "                  Col_name  Value\n",
              "4        Vehicle_Manoeuvre     10\n",
              "2       Weather_Conditions      7\n",
              "0                Road_Type      5\n",
              "3  Road_Surface_Conditions      5\n",
              "1         Light_Conditions      4\n",
              "5      1st_Point_of_Impact      4"
            ]
          },
          "metadata": {
            "tags": []
          },
          "execution_count": 17
        }
      ]
    },
    {
      "cell_type": "code",
      "metadata": {
        "id": "m672ST0g9NaK",
        "colab": {
          "base_uri": "https://localhost:8080/",
          "height": 266
        },
        "outputId": "86d83718-51dd-4a20-959e-09f4c1bb8472"
      },
      "source": [
        "# Features value table for columns with integer data type\n",
        "\n",
        "col_name =[]\n",
        "unique_value=[]\n",
        "# Loop through columns\n",
        "for col in dataset:\n",
        "  # if column data type is object\n",
        "    if dataset[col].dtype == 'int64':\n",
        "        # append column name to col_name list\n",
        "        col_name.append(str(col)) \n",
        "        # append count of unique column values to unique_value list\n",
        "        unique_value.append(dataset[col].nunique())\n",
        "\n",
        "table= pd.DataFrame()\n",
        "table['Col_name'] = col_name\n",
        "table['Value']= unique_value\n",
        "            \n",
        "table=table.sort_values('Value',ascending=False)\n",
        "table\n"
      ],
      "execution_count": 18,
      "outputs": [
        {
          "output_type": "execute_result",
          "data": {
            "text/html": [
              "<div>\n",
              "<style scoped>\n",
              "    .dataframe tbody tr th:only-of-type {\n",
              "        vertical-align: middle;\n",
              "    }\n",
              "\n",
              "    .dataframe tbody tr th {\n",
              "        vertical-align: top;\n",
              "    }\n",
              "\n",
              "    .dataframe thead th {\n",
              "        text-align: right;\n",
              "    }\n",
              "</style>\n",
              "<table border=\"1\" class=\"dataframe\">\n",
              "  <thead>\n",
              "    <tr style=\"text-align: right;\">\n",
              "      <th></th>\n",
              "      <th>Col_name</th>\n",
              "      <th>Value</th>\n",
              "    </tr>\n",
              "  </thead>\n",
              "  <tbody>\n",
              "    <tr>\n",
              "      <th>5</th>\n",
              "      <td>Engine_Capacity_(CC)</td>\n",
              "      <td>643</td>\n",
              "    </tr>\n",
              "    <tr>\n",
              "      <th>4</th>\n",
              "      <td>Age_of_Driver</td>\n",
              "      <td>81</td>\n",
              "    </tr>\n",
              "    <tr>\n",
              "      <th>0</th>\n",
              "      <td>Number_of_Vehicles</td>\n",
              "      <td>6</td>\n",
              "    </tr>\n",
              "    <tr>\n",
              "      <th>1</th>\n",
              "      <td>Speed_limit</td>\n",
              "      <td>6</td>\n",
              "    </tr>\n",
              "    <tr>\n",
              "      <th>2</th>\n",
              "      <td>Urban_or_Rural_Area</td>\n",
              "      <td>2</td>\n",
              "    </tr>\n",
              "    <tr>\n",
              "      <th>3</th>\n",
              "      <td>Sex_of_Driver</td>\n",
              "      <td>2</td>\n",
              "    </tr>\n",
              "    <tr>\n",
              "      <th>6</th>\n",
              "      <td>Damage</td>\n",
              "      <td>2</td>\n",
              "    </tr>\n",
              "  </tbody>\n",
              "</table>\n",
              "</div>"
            ],
            "text/plain": [
              "               Col_name  Value\n",
              "5  Engine_Capacity_(CC)    643\n",
              "4         Age_of_Driver     81\n",
              "0    Number_of_Vehicles      6\n",
              "1           Speed_limit      6\n",
              "2   Urban_or_Rural_Area      2\n",
              "3         Sex_of_Driver      2\n",
              "6                Damage      2"
            ]
          },
          "metadata": {
            "tags": []
          },
          "execution_count": 18
        }
      ]
    },
    {
      "cell_type": "code",
      "metadata": {
        "id": "7YT3HUkMuGPk",
        "colab": {
          "base_uri": "https://localhost:8080/",
          "height": 309
        },
        "outputId": "ba3f76ef-8fdd-4825-ba19-3d8e11c5d50d"
      },
      "source": [
        "# dropping columns with high correlation\n",
        "dropped_columns = dataset.drop(['Urban_or_Rural_Area'],axis=1,inplace=True)\n",
        "dataset.head()"
      ],
      "execution_count": 19,
      "outputs": [
        {
          "output_type": "execute_result",
          "data": {
            "text/html": [
              "<div>\n",
              "<style scoped>\n",
              "    .dataframe tbody tr th:only-of-type {\n",
              "        vertical-align: middle;\n",
              "    }\n",
              "\n",
              "    .dataframe tbody tr th {\n",
              "        vertical-align: top;\n",
              "    }\n",
              "\n",
              "    .dataframe thead th {\n",
              "        text-align: right;\n",
              "    }\n",
              "</style>\n",
              "<table border=\"1\" class=\"dataframe\">\n",
              "  <thead>\n",
              "    <tr style=\"text-align: right;\">\n",
              "      <th></th>\n",
              "      <th>Number_of_Vehicles</th>\n",
              "      <th>Road_Type</th>\n",
              "      <th>Speed_limit</th>\n",
              "      <th>Light_Conditions</th>\n",
              "      <th>Weather_Conditions</th>\n",
              "      <th>Road_Surface_Conditions</th>\n",
              "      <th>Vehicle_Manoeuvre</th>\n",
              "      <th>1st_Point_of_Impact</th>\n",
              "      <th>Sex_of_Driver</th>\n",
              "      <th>Age_of_Driver</th>\n",
              "      <th>Engine_Capacity_(CC)</th>\n",
              "      <th>Damage</th>\n",
              "    </tr>\n",
              "  </thead>\n",
              "  <tbody>\n",
              "    <tr>\n",
              "      <th>0</th>\n",
              "      <td>2</td>\n",
              "      <td>Dual carriageway</td>\n",
              "      <td>40</td>\n",
              "      <td>Daylight</td>\n",
              "      <td>Fine no high winds</td>\n",
              "      <td>Dry</td>\n",
              "      <td>Going ahead</td>\n",
              "      <td>Front</td>\n",
              "      <td>1</td>\n",
              "      <td>26</td>\n",
              "      <td>2496</td>\n",
              "      <td>0</td>\n",
              "    </tr>\n",
              "    <tr>\n",
              "      <th>1</th>\n",
              "      <td>2</td>\n",
              "      <td>Dual carriageway</td>\n",
              "      <td>40</td>\n",
              "      <td>Daylight</td>\n",
              "      <td>Fine no high winds</td>\n",
              "      <td>Dry</td>\n",
              "      <td>Waiting</td>\n",
              "      <td>Back</td>\n",
              "      <td>0</td>\n",
              "      <td>20</td>\n",
              "      <td>1198</td>\n",
              "      <td>0</td>\n",
              "    </tr>\n",
              "    <tr>\n",
              "      <th>2</th>\n",
              "      <td>2</td>\n",
              "      <td>Single carriageway</td>\n",
              "      <td>30</td>\n",
              "      <td>Daylight</td>\n",
              "      <td>Fine no high winds</td>\n",
              "      <td>Dry</td>\n",
              "      <td>Going ahead</td>\n",
              "      <td>Front</td>\n",
              "      <td>1</td>\n",
              "      <td>54</td>\n",
              "      <td>1199</td>\n",
              "      <td>0</td>\n",
              "    </tr>\n",
              "    <tr>\n",
              "      <th>3</th>\n",
              "      <td>2</td>\n",
              "      <td>Single carriageway</td>\n",
              "      <td>30</td>\n",
              "      <td>Daylight</td>\n",
              "      <td>Fine no high winds</td>\n",
              "      <td>Dry</td>\n",
              "      <td>Turning</td>\n",
              "      <td>Offside</td>\n",
              "      <td>1</td>\n",
              "      <td>39</td>\n",
              "      <td>1998</td>\n",
              "      <td>0</td>\n",
              "    </tr>\n",
              "    <tr>\n",
              "      <th>4</th>\n",
              "      <td>2</td>\n",
              "      <td>Single carriageway</td>\n",
              "      <td>30</td>\n",
              "      <td>Daylight</td>\n",
              "      <td>Fine no high winds</td>\n",
              "      <td>Dry</td>\n",
              "      <td>Turning</td>\n",
              "      <td>Front</td>\n",
              "      <td>1</td>\n",
              "      <td>38</td>\n",
              "      <td>1762</td>\n",
              "      <td>0</td>\n",
              "    </tr>\n",
              "  </tbody>\n",
              "</table>\n",
              "</div>"
            ],
            "text/plain": [
              "   Number_of_Vehicles           Road_Type  ...  Engine_Capacity_(CC) Damage\n",
              "0                   2    Dual carriageway  ...                  2496      0\n",
              "1                   2    Dual carriageway  ...                  1198      0\n",
              "2                   2  Single carriageway  ...                  1199      0\n",
              "3                   2  Single carriageway  ...                  1998      0\n",
              "4                   2  Single carriageway  ...                  1762      0\n",
              "\n",
              "[5 rows x 12 columns]"
            ]
          },
          "metadata": {
            "tags": []
          },
          "execution_count": 19
        }
      ]
    },
    {
      "cell_type": "code",
      "metadata": {
        "id": "bPlO5wEdTNqs",
        "colab": {
          "base_uri": "https://localhost:8080/"
        },
        "outputId": "49443565-d984-4187-cb5e-a3e64481bb87"
      },
      "source": [
        "dataset.info()"
      ],
      "execution_count": 20,
      "outputs": [
        {
          "output_type": "stream",
          "text": [
            "<class 'pandas.core.frame.DataFrame'>\n",
            "RangeIndex: 37869 entries, 0 to 37868\n",
            "Data columns (total 12 columns):\n",
            " #   Column                   Non-Null Count  Dtype \n",
            "---  ------                   --------------  ----- \n",
            " 0   Number_of_Vehicles       37869 non-null  int64 \n",
            " 1   Road_Type                37869 non-null  object\n",
            " 2   Speed_limit              37869 non-null  int64 \n",
            " 3   Light_Conditions         37869 non-null  object\n",
            " 4   Weather_Conditions       37869 non-null  object\n",
            " 5   Road_Surface_Conditions  37869 non-null  object\n",
            " 6   Vehicle_Manoeuvre        37869 non-null  object\n",
            " 7   1st_Point_of_Impact      37869 non-null  object\n",
            " 8   Sex_of_Driver            37869 non-null  int64 \n",
            " 9   Age_of_Driver            37869 non-null  int64 \n",
            " 10  Engine_Capacity_(CC)     37869 non-null  int64 \n",
            " 11  Damage                   37869 non-null  int64 \n",
            "dtypes: int64(6), object(6)\n",
            "memory usage: 3.5+ MB\n"
          ],
          "name": "stdout"
        }
      ]
    },
    {
      "cell_type": "markdown",
      "metadata": {
        "id": "LjwrElnmBg37"
      },
      "source": [
        "# Convert Categorical Variables to dummies"
      ]
    },
    {
      "cell_type": "code",
      "metadata": {
        "id": "8CIKw8OIBm8-",
        "colab": {
          "base_uri": "https://localhost:8080/"
        },
        "outputId": "496f174e-75d1-4a61-8f61-84fccc11edb1"
      },
      "source": [
        "# Creating dummy columns\n",
        "categorical_features = ['Vehicle_Manoeuvre', 'Weather_Conditions', 'Road_Type', 'Road_Surface_Conditions', 'Light_Conditions','1st_Point_of_Impact']\n",
        "final_data = pd.get_dummies(dataset, columns = categorical_features)\n",
        "print(final_data.info())\n",
        "print(final_data.head(2))"
      ],
      "execution_count": 21,
      "outputs": [
        {
          "output_type": "stream",
          "text": [
            "<class 'pandas.core.frame.DataFrame'>\n",
            "RangeIndex: 37869 entries, 0 to 37868\n",
            "Data columns (total 41 columns):\n",
            " #   Column                                       Non-Null Count  Dtype\n",
            "---  ------                                       --------------  -----\n",
            " 0   Number_of_Vehicles                           37869 non-null  int64\n",
            " 1   Speed_limit                                  37869 non-null  int64\n",
            " 2   Sex_of_Driver                                37869 non-null  int64\n",
            " 3   Age_of_Driver                                37869 non-null  int64\n",
            " 4   Engine_Capacity_(CC)                         37869 non-null  int64\n",
            " 5   Damage                                       37869 non-null  int64\n",
            " 6   Vehicle_Manoeuvre_Changing lane              37869 non-null  uint8\n",
            " 7   Vehicle_Manoeuvre_Going ahead                37869 non-null  uint8\n",
            " 8   Vehicle_Manoeuvre_Moving off                 37869 non-null  uint8\n",
            " 9   Vehicle_Manoeuvre_Overtaking                 37869 non-null  uint8\n",
            " 10  Vehicle_Manoeuvre_Parked                     37869 non-null  uint8\n",
            " 11  Vehicle_Manoeuvre_Reversing                  37869 non-null  uint8\n",
            " 12  Vehicle_Manoeuvre_Slowing or stopping        37869 non-null  uint8\n",
            " 13  Vehicle_Manoeuvre_Turning                    37869 non-null  uint8\n",
            " 14  Vehicle_Manoeuvre_U turn                     37869 non-null  uint8\n",
            " 15  Vehicle_Manoeuvre_Waiting                    37869 non-null  uint8\n",
            " 16  Weather_Conditions_Fine and high winds       37869 non-null  uint8\n",
            " 17  Weather_Conditions_Fine no high winds        37869 non-null  uint8\n",
            " 18  Weather_Conditions_Fog or mist               37869 non-null  uint8\n",
            " 19  Weather_Conditions_Raining and high winds    37869 non-null  uint8\n",
            " 20  Weather_Conditions_Raining no high winds     37869 non-null  uint8\n",
            " 21  Weather_Conditions_Snowing and high winds    37869 non-null  uint8\n",
            " 22  Weather_Conditions_Snowing no high winds     37869 non-null  uint8\n",
            " 23  Road_Type_Dual carriageway                   37869 non-null  uint8\n",
            " 24  Road_Type_One way street                     37869 non-null  uint8\n",
            " 25  Road_Type_Roundabout                         37869 non-null  uint8\n",
            " 26  Road_Type_Single carriageway                 37869 non-null  uint8\n",
            " 27  Road_Type_Slip road                          37869 non-null  uint8\n",
            " 28  Road_Surface_Conditions_Dry                  37869 non-null  uint8\n",
            " 29  Road_Surface_Conditions_Flood over 3cm deep  37869 non-null  uint8\n",
            " 30  Road_Surface_Conditions_Frost or ice         37869 non-null  uint8\n",
            " 31  Road_Surface_Conditions_Snow                 37869 non-null  uint8\n",
            " 32  Road_Surface_Conditions_Wet or damp          37869 non-null  uint8\n",
            " 33  Light_Conditions_Darkness lights lit         37869 non-null  uint8\n",
            " 34  Light_Conditions_Darkness lights unlit       37869 non-null  uint8\n",
            " 35  Light_Conditions_Darkness no lighting        37869 non-null  uint8\n",
            " 36  Light_Conditions_Daylight                    37869 non-null  uint8\n",
            " 37  1st_Point_of_Impact_Back                     37869 non-null  uint8\n",
            " 38  1st_Point_of_Impact_Front                    37869 non-null  uint8\n",
            " 39  1st_Point_of_Impact_Nearside                 37869 non-null  uint8\n",
            " 40  1st_Point_of_Impact_Offside                  37869 non-null  uint8\n",
            "dtypes: int64(6), uint8(35)\n",
            "memory usage: 3.0 MB\n",
            "None\n",
            "   Number_of_Vehicles  ...  1st_Point_of_Impact_Offside\n",
            "0                   2  ...                            0\n",
            "1                   2  ...                            0\n",
            "\n",
            "[2 rows x 41 columns]\n"
          ],
          "name": "stdout"
        }
      ]
    },
    {
      "cell_type": "code",
      "metadata": {
        "id": "zYagLBM5XZQB",
        "colab": {
          "base_uri": "https://localhost:8080/"
        },
        "outputId": "5c11c9fc-46aa-4840-d958-6590e1102e32"
      },
      "source": [
        "#Vehicle_Manoeuvre and Weather_Conditions\n",
        "subset1 = final_data[['Vehicle_Manoeuvre_Changing lane','Vehicle_Manoeuvre_Going ahead','Vehicle_Manoeuvre_Moving off','Vehicle_Manoeuvre_Overtaking','Vehicle_Manoeuvre_Parked','Vehicle_Manoeuvre_Reversing','Vehicle_Manoeuvre_Slowing or stopping','Vehicle_Manoeuvre_Turning','Vehicle_Manoeuvre_Turning','Vehicle_Manoeuvre_U turn','Vehicle_Manoeuvre_Waiting']]\n",
        "subset1.info()"
      ],
      "execution_count": 22,
      "outputs": [
        {
          "output_type": "stream",
          "text": [
            "<class 'pandas.core.frame.DataFrame'>\n",
            "RangeIndex: 37869 entries, 0 to 37868\n",
            "Data columns (total 11 columns):\n",
            " #   Column                                 Non-Null Count  Dtype\n",
            "---  ------                                 --------------  -----\n",
            " 0   Vehicle_Manoeuvre_Changing lane        37869 non-null  uint8\n",
            " 1   Vehicle_Manoeuvre_Going ahead          37869 non-null  uint8\n",
            " 2   Vehicle_Manoeuvre_Moving off           37869 non-null  uint8\n",
            " 3   Vehicle_Manoeuvre_Overtaking           37869 non-null  uint8\n",
            " 4   Vehicle_Manoeuvre_Parked               37869 non-null  uint8\n",
            " 5   Vehicle_Manoeuvre_Reversing            37869 non-null  uint8\n",
            " 6   Vehicle_Manoeuvre_Slowing or stopping  37869 non-null  uint8\n",
            " 7   Vehicle_Manoeuvre_Turning              37869 non-null  uint8\n",
            " 8   Vehicle_Manoeuvre_Turning              37869 non-null  uint8\n",
            " 9   Vehicle_Manoeuvre_U turn               37869 non-null  uint8\n",
            " 10  Vehicle_Manoeuvre_Waiting              37869 non-null  uint8\n",
            "dtypes: uint8(11)\n",
            "memory usage: 406.9 KB\n"
          ],
          "name": "stdout"
        }
      ]
    },
    {
      "cell_type": "code",
      "metadata": {
        "id": "3oD-oiGQmAxg",
        "colab": {
          "base_uri": "https://localhost:8080/"
        },
        "outputId": "eb15dd12-4ee7-4828-bc11-5bfa86564edd"
      },
      "source": [
        "#Weather_Conditions\n",
        "subset2 = final_data[['Weather_Conditions_Fine and high winds','Weather_Conditions_Fine no high winds','Weather_Conditions_Fog or mist','Weather_Conditions_Raining and high winds','Weather_Conditions_Raining no high winds','Weather_Conditions_Snowing and high winds','Weather_Conditions_Snowing no high winds']]\n",
        "subset2.info()"
      ],
      "execution_count": 23,
      "outputs": [
        {
          "output_type": "stream",
          "text": [
            "<class 'pandas.core.frame.DataFrame'>\n",
            "RangeIndex: 37869 entries, 0 to 37868\n",
            "Data columns (total 7 columns):\n",
            " #   Column                                     Non-Null Count  Dtype\n",
            "---  ------                                     --------------  -----\n",
            " 0   Weather_Conditions_Fine and high winds     37869 non-null  uint8\n",
            " 1   Weather_Conditions_Fine no high winds      37869 non-null  uint8\n",
            " 2   Weather_Conditions_Fog or mist             37869 non-null  uint8\n",
            " 3   Weather_Conditions_Raining and high winds  37869 non-null  uint8\n",
            " 4   Weather_Conditions_Raining no high winds   37869 non-null  uint8\n",
            " 5   Weather_Conditions_Snowing and high winds  37869 non-null  uint8\n",
            " 6   Weather_Conditions_Snowing no high winds   37869 non-null  uint8\n",
            "dtypes: uint8(7)\n",
            "memory usage: 259.0 KB\n"
          ],
          "name": "stdout"
        }
      ]
    },
    {
      "cell_type": "code",
      "metadata": {
        "id": "aCEbR2XG_Dd9",
        "colab": {
          "base_uri": "https://localhost:8080/"
        },
        "outputId": "3caeb6a4-ab42-4f82-fb18-5565041cefc8"
      },
      "source": [
        "#Road_Type and Road_Surface\n",
        "subset3 = final_data[['Road_Type_Dual carriageway','Road_Type_One way street','Road_Type_Roundabout','Road_Type_Single carriageway','Road_Type_Slip road','Road_Surface_Conditions_Dry','Road_Surface_Conditions_Flood over 3cm deep','Road_Surface_Conditions_Frost or ice','Road_Surface_Conditions_Snow','Road_Surface_Conditions_Wet or damp']]\n",
        "subset3.info()"
      ],
      "execution_count": 24,
      "outputs": [
        {
          "output_type": "stream",
          "text": [
            "<class 'pandas.core.frame.DataFrame'>\n",
            "RangeIndex: 37869 entries, 0 to 37868\n",
            "Data columns (total 10 columns):\n",
            " #   Column                                       Non-Null Count  Dtype\n",
            "---  ------                                       --------------  -----\n",
            " 0   Road_Type_Dual carriageway                   37869 non-null  uint8\n",
            " 1   Road_Type_One way street                     37869 non-null  uint8\n",
            " 2   Road_Type_Roundabout                         37869 non-null  uint8\n",
            " 3   Road_Type_Single carriageway                 37869 non-null  uint8\n",
            " 4   Road_Type_Slip road                          37869 non-null  uint8\n",
            " 5   Road_Surface_Conditions_Dry                  37869 non-null  uint8\n",
            " 6   Road_Surface_Conditions_Flood over 3cm deep  37869 non-null  uint8\n",
            " 7   Road_Surface_Conditions_Frost or ice         37869 non-null  uint8\n",
            " 8   Road_Surface_Conditions_Snow                 37869 non-null  uint8\n",
            " 9   Road_Surface_Conditions_Wet or damp          37869 non-null  uint8\n",
            "dtypes: uint8(10)\n",
            "memory usage: 369.9 KB\n"
          ],
          "name": "stdout"
        }
      ]
    },
    {
      "cell_type": "code",
      "metadata": {
        "id": "p8ER-97t_VlM",
        "colab": {
          "base_uri": "https://localhost:8080/"
        },
        "outputId": "fe56beb2-0469-46eb-886f-3059d9e09b5c"
      },
      "source": [
        "#Light_Conditions and 1st_Point and other likly collsion factors\n",
        "subset4 = final_data[['Speed_limit','Sex_of_Driver','Age_of_Driver','Engine_Capacity_(CC)','Damage','Light_Conditions_Darkness lights lit','Light_Conditions_Darkness lights unlit','Light_Conditions_Darkness no lighting','Light_Conditions_Daylight','1st_Point_of_Impact_Back','1st_Point_of_Impact_Front','1st_Point_of_Impact_Nearside','1st_Point_of_Impact_Offside']]\n",
        "subset4.info()"
      ],
      "execution_count": 25,
      "outputs": [
        {
          "output_type": "stream",
          "text": [
            "<class 'pandas.core.frame.DataFrame'>\n",
            "RangeIndex: 37869 entries, 0 to 37868\n",
            "Data columns (total 13 columns):\n",
            " #   Column                                  Non-Null Count  Dtype\n",
            "---  ------                                  --------------  -----\n",
            " 0   Speed_limit                             37869 non-null  int64\n",
            " 1   Sex_of_Driver                           37869 non-null  int64\n",
            " 2   Age_of_Driver                           37869 non-null  int64\n",
            " 3   Engine_Capacity_(CC)                    37869 non-null  int64\n",
            " 4   Damage                                  37869 non-null  int64\n",
            " 5   Light_Conditions_Darkness lights lit    37869 non-null  uint8\n",
            " 6   Light_Conditions_Darkness lights unlit  37869 non-null  uint8\n",
            " 7   Light_Conditions_Darkness no lighting   37869 non-null  uint8\n",
            " 8   Light_Conditions_Daylight               37869 non-null  uint8\n",
            " 9   1st_Point_of_Impact_Back                37869 non-null  uint8\n",
            " 10  1st_Point_of_Impact_Front               37869 non-null  uint8\n",
            " 11  1st_Point_of_Impact_Nearside            37869 non-null  uint8\n",
            " 12  1st_Point_of_Impact_Offside             37869 non-null  uint8\n",
            "dtypes: int64(5), uint8(8)\n",
            "memory usage: 1.7 MB\n"
          ],
          "name": "stdout"
        }
      ]
    },
    {
      "cell_type": "code",
      "metadata": {
        "id": "JWOflrYw_S2_"
      },
      "source": [
        "# Normalizing numerical features so that each feature has mean 0 and variance 1\n",
        "feature_scaler = StandardScaler()\n",
        "X1 = feature_scaler.fit_transform(subset1)\n",
        "X2 = feature_scaler.fit_transform(subset2)\n",
        "X3 = feature_scaler.fit_transform(subset3)\n",
        "X4 = feature_scaler.fit_transform(subset4)"
      ],
      "execution_count": 26,
      "outputs": []
    },
    {
      "cell_type": "markdown",
      "metadata": {
        "id": "nizAd2KJrORW"
      },
      "source": [
        "# Analysis on subset 1\n",
        "\n"
      ]
    },
    {
      "cell_type": "code",
      "metadata": {
        "id": "Isw0EqIIHKuO"
      },
      "source": [
        "# Analysis on subset1 - Personal Data\n",
        "# Implementing UMAP to visualize dataset\n",
        "u = umap.UMAP(n_neighbors=150, min_dist=0.4)\n",
        "x_umap = u.fit_transform(X1)"
      ],
      "execution_count": null,
      "outputs": []
    },
    {
      "cell_type": "code",
      "metadata": {
        "id": "puZrHgawHZn3"
      },
      "source": [
        "# Finding the number of clusters (K) - Elbow Plot Method\n",
        "inertia = []\n",
        "for i in range(1,11):\n",
        "    kmeans = KMeans(n_clusters = i, random_state = 100)\n",
        "    kmeans.fit(x_umap)\n",
        "    inertia.append(kmeans.inertia_)\n",
        "\n",
        "plt.plot(range(1, 11), inertia)\n",
        "plt.title('The Elbow Plot')\n",
        "plt.xlabel('Number of clusters')\n",
        "plt.ylabel('Inertia')\n",
        "plt.show()"
      ],
      "execution_count": null,
      "outputs": []
    },
    {
      "cell_type": "code",
      "metadata": {
        "id": "H7NuF8Pdre8P"
      },
      "source": [
        "subset1.info()"
      ],
      "execution_count": null,
      "outputs": []
    },
    {
      "cell_type": "code",
      "metadata": {
        "id": "EWVOem_QJXLl"
      },
      "source": [
        "# Running KMeans to generate labels\n",
        "kmeans = KMeans(n_clusters = 2)\n",
        "kmeans.fit(x_umap)\n",
        "\n",
        "Vehicle_Manoeuvre = list(dataset['Vehicle_Manoeuvre'])\n",
        "\n",
        "data = [go.Scatter(x=x_umap[:,0], y=x_umap[:,1], mode='markers',\n",
        "                    marker = dict(color=kmeans.labels_, colorscale='Rainbow', opacity=0.4),\n",
        "                                text=[f'Vehicle_Manoeuvre: {a};' for a in list(zip(Vehicle_Manoeuvre))],\n",
        "                                hoverinfo='text')]\n",
        "\n",
        "layout = go.Layout(title = 'UMAP Dimensionality Reduction', width = 700, height = 700,\n",
        "                    xaxis = dict(title='First Dimension'),\n",
        "                    yaxis = dict(title='Second Dimension'))\n",
        "fig = go.Figure(data=data, layout=layout)\n",
        "fig.show()"
      ],
      "execution_count": null,
      "outputs": []
    },
    {
      "cell_type": "markdown",
      "metadata": {
        "id": "0kjZRTeOK2Ut"
      },
      "source": [
        "# Analysis on subset 2"
      ]
    },
    {
      "cell_type": "code",
      "metadata": {
        "id": "-yr1QptUyCrr"
      },
      "source": [
        "# Implementing UMAP to visualize subset2\n",
        "u = umap.UMAP(n_neighbors=150, min_dist=0.4)\n",
        "x_umap = u.fit_transform(X2)"
      ],
      "execution_count": null,
      "outputs": []
    },
    {
      "cell_type": "code",
      "metadata": {
        "id": "p-M1TSTSyFqq"
      },
      "source": [
        "# Finding the number of clusters (K) - Elbow Plot Method\n",
        "inertia = []\n",
        "for i in range(1,11):\n",
        "    kmeans = KMeans(n_clusters = i, random_state = 100)\n",
        "    kmeans.fit(x_umap)\n",
        "    inertia.append(kmeans.inertia_)\n",
        "\n",
        "plt.plot(range(1, 11), inertia)\n",
        "plt.title('The Elbow Plot')\n",
        "plt.xlabel('Number of clusters')\n",
        "plt.ylabel('Inertia')\n",
        "plt.show()"
      ],
      "execution_count": null,
      "outputs": []
    },
    {
      "cell_type": "code",
      "metadata": {
        "id": "5-4qu_t1yHns"
      },
      "source": [
        "subset2.info()"
      ],
      "execution_count": null,
      "outputs": []
    },
    {
      "cell_type": "code",
      "metadata": {
        "id": "g_7504jdyKQF"
      },
      "source": [
        "# Running KMeans to generate labels for subset2\n",
        "kmeans = KMeans(n_clusters = 2)\n",
        "kmeans.fit(x_umap)\n",
        "\n",
        "Weather_Conditions = list(dataset['Weather_Conditions'])\n",
        "\n",
        "data = [go.Scatter(x=x_umap[:,0], y=x_umap[:,1], mode='markers',\n",
        "                    marker = dict(color=kmeans.labels_, colorscale='Rainbow', opacity=0.4),\n",
        "                                text=[f'Weather_Conditions: {a}' for a in list(zip(Weather_Conditions))],\n",
        "                                hoverinfo='text')]\n",
        "\n",
        "layout = go.Layout(title = 'UMAP Dimensionality Reduction', width = 700, height = 700,\n",
        "                    xaxis = dict(title='First Dimension'),\n",
        "                    yaxis = dict(title='Second Dimension'))\n",
        "fig = go.Figure(data=data, layout=layout)\n",
        "fig.show()"
      ],
      "execution_count": null,
      "outputs": []
    }
  ]
}