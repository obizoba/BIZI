{
  "nbformat": 4,
  "nbformat_minor": 0,
  "metadata": {
    "colab": {
      "name": "Week1batB.ipynb",
      "provenance": [],
      "authorship_tag": "ABX9TyPotcc6FzarcEmATIJTSLo0",
      "include_colab_link": true
    },
    "kernelspec": {
      "name": "python3",
      "display_name": "Python 3"
    }
  },
  "cells": [
    {
      "cell_type": "markdown",
      "metadata": {
        "id": "view-in-github",
        "colab_type": "text"
      },
      "source": [
        "<a href=\"https://colab.research.google.com/github/obizoba/BIZI/blob/master/Week1batB.ipynb\" target=\"_parent\"><img src=\"https://colab.research.google.com/assets/colab-badge.svg\" alt=\"Open In Colab\"/></a>"
      ]
    },
    {
      "cell_type": "markdown",
      "metadata": {
        "id": "vUS4K3-vmPjU"
      },
      "source": [
        ""
      ]
    },
    {
      "cell_type": "markdown",
      "metadata": {
        "id": "BBoRMdJvmZiZ"
      },
      "source": [
        "#Variable ~\n",
        "##contaniers, save space, save reference of the value\n"
      ]
    },
    {
      "cell_type": "code",
      "metadata": {
        "id": "f2_2MV4NmujD",
        "outputId": "f3a29273-9962-49e7-9dc2-ccc0323254ef",
        "colab": {
          "base_uri": "https://localhost:8080/",
          "height": 235
        }
      },
      "source": [
        "Var1=5\n",
        "Var2=6\n",
        "Var3=\"abhi\"\n",
        "Var4=5.6\n",
        "Sum1= Var+Var2\n",
        "diff1=Var1-Var2\n",
        "print(Sum1)\n",
        "print(diff1)\n"
      ],
      "execution_count": 14,
      "outputs": [
        {
          "output_type": "error",
          "ename": "NameError",
          "evalue": "ignored",
          "traceback": [
            "\u001b[0;31m---------------------------------------------------------------------------\u001b[0m",
            "\u001b[0;31mNameError\u001b[0m                                 Traceback (most recent call last)",
            "\u001b[0;32m<ipython-input-14-5d3c466c9c4e>\u001b[0m in \u001b[0;36m<module>\u001b[0;34m()\u001b[0m\n\u001b[1;32m      3\u001b[0m \u001b[0mVar3\u001b[0m\u001b[0;34m=\u001b[0m\u001b[0;34m\"abhi\"\u001b[0m\u001b[0;34m\u001b[0m\u001b[0;34m\u001b[0m\u001b[0m\n\u001b[1;32m      4\u001b[0m \u001b[0mVar4\u001b[0m\u001b[0;34m=\u001b[0m\u001b[0;36m5.6\u001b[0m\u001b[0;34m\u001b[0m\u001b[0;34m\u001b[0m\u001b[0m\n\u001b[0;32m----> 5\u001b[0;31m \u001b[0mSum1\u001b[0m\u001b[0;34m=\u001b[0m \u001b[0mVar\u001b[0m\u001b[0;34m+\u001b[0m\u001b[0mVar2\u001b[0m\u001b[0;34m\u001b[0m\u001b[0;34m\u001b[0m\u001b[0m\n\u001b[0m\u001b[1;32m      6\u001b[0m \u001b[0mdiff1\u001b[0m\u001b[0;34m=\u001b[0m\u001b[0mVar1\u001b[0m\u001b[0;34m-\u001b[0m\u001b[0mVar2\u001b[0m\u001b[0;34m\u001b[0m\u001b[0;34m\u001b[0m\u001b[0m\n\u001b[1;32m      7\u001b[0m \u001b[0mprint\u001b[0m\u001b[0;34m(\u001b[0m\u001b[0mSum1\u001b[0m\u001b[0;34m)\u001b[0m\u001b[0;34m\u001b[0m\u001b[0;34m\u001b[0m\u001b[0m\n",
            "\u001b[0;31mNameError\u001b[0m: name 'Var' is not defined"
          ]
        }
      ]
    },
    {
      "cell_type": "code",
      "metadata": {
        "id": "5yzNlaeToZO8",
        "outputId": "b9ff7787-2e2e-4118-848e-e2e7c2d0ceed",
        "colab": {
          "base_uri": "https://localhost:8080/",
          "height": 35
        }
      },
      "source": [
        "print(3*5)\n"
      ],
      "execution_count": 15,
      "outputs": [
        {
          "output_type": "stream",
          "text": [
            "15\n"
          ],
          "name": "stdout"
        }
      ]
    },
    {
      "cell_type": "code",
      "metadata": {
        "id": "G19R0u7xroa2",
        "outputId": "ed6023f2-0816-41d9-adc4-0436c20fcbb0",
        "colab": {
          "base_uri": "https://localhost:8080/",
          "height": 35
        }
      },
      "source": [
        "fullname= \"obizobailo\"\n",
        "short_name= fullname[-1:-5]\n",
        "print(short_name)"
      ],
      "execution_count": 21,
      "outputs": [
        {
          "output_type": "stream",
          "text": [
            "\n"
          ],
          "name": "stdout"
        }
      ]
    },
    {
      "cell_type": "code",
      "metadata": {
        "id": "nEOBsPNgyF8K",
        "outputId": "6f55db7d-8658-4128-b723-e44c1ca826bc",
        "colab": {
          "base_uri": "https://localhost:8080/",
          "height": 131
        }
      },
      "source": [
        "print(fullname+str5))\n",
        "\n"
      ],
      "execution_count": 22,
      "outputs": [
        {
          "output_type": "error",
          "ename": "SyntaxError",
          "evalue": "ignored",
          "traceback": [
            "\u001b[0;36m  File \u001b[0;32m\"<ipython-input-22-702ac8637436>\"\u001b[0;36m, line \u001b[0;32m1\u001b[0m\n\u001b[0;31m    print(fullname+str5))\u001b[0m\n\u001b[0m                        ^\u001b[0m\n\u001b[0;31mSyntaxError\u001b[0m\u001b[0;31m:\u001b[0m invalid syntax\n"
          ]
        }
      ]
    },
    {
      "cell_type": "code",
      "metadata": {
        "id": "kB5n-bETy8cW",
        "outputId": "c991a6db-3ea6-4f0e-ad4e-528a506e3d8a",
        "colab": {
          "base_uri": "https://localhost:8080/",
          "height": 52
        }
      },
      "source": [
        "value=5<6\n",
        "print(value)\n",
        "print(type(value))"
      ],
      "execution_count": 26,
      "outputs": [
        {
          "output_type": "stream",
          "text": [
            "True\n",
            "<class 'bool'>\n"
          ],
          "name": "stdout"
        }
      ]
    },
    {
      "cell_type": "code",
      "metadata": {
        "id": "KJdzYxQezkos",
        "outputId": "e9246d2c-f8f5-42c5-c4c0-4b008740b06d",
        "colab": {
          "base_uri": "https://localhost:8080/",
          "height": 35
        }
      },
      "source": [
        "sum=5.6+(5<6)\n",
        "print(sum)"
      ],
      "execution_count": 28,
      "outputs": [
        {
          "output_type": "stream",
          "text": [
            "6.6\n"
          ],
          "name": "stdout"
        }
      ]
    },
    {
      "cell_type": "code",
      "metadata": {
        "id": "-lHH0n8wz64v",
        "outputId": "861605a2-a183-4b2a-d723-f324ede63e66",
        "colab": {
          "base_uri": "https://localhost:8080/",
          "height": 87
        }
      },
      "source": [
        "print(sum)\n",
        "print(int(sum))\n",
        "a=5\n",
        "print(float(a))\n",
        "print(int(a))\n"
      ],
      "execution_count": 30,
      "outputs": [
        {
          "output_type": "stream",
          "text": [
            "6.6\n",
            "6\n",
            "5.0\n",
            "5\n"
          ],
          "name": "stdout"
        }
      ]
    }
  ]
}