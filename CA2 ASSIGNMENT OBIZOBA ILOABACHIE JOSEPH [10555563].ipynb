{
  "nbformat": 4,
  "nbformat_minor": 0,
  "metadata": {
    "colab": {
      "name": "CA2 ASSIGNMENT-OBIZOBA ILOABACHIE JOSEPH [10555563].ipynb",
      "provenance": [],
      "collapsed_sections": [],
      "toc_visible": true,
      "authorship_tag": "ABX9TyNRFt16MjONMF/HjmBjtSyr",
      "include_colab_link": true
    },
    "kernelspec": {
      "name": "python3",
      "display_name": "Python 3"
    }
  },
  "cells": [
    {
      "cell_type": "markdown",
      "metadata": {
        "id": "view-in-github",
        "colab_type": "text"
      },
      "source": [
        "<a href=\"https://colab.research.google.com/github/obizoba/BIZI/blob/master/CA2%20ASSIGNMENT%20OBIZOBA%20ILOABACHIE%20JOSEPH%20%5B10555563%5D.ipynb\" target=\"_parent\"><img src=\"https://colab.research.google.com/assets/colab-badge.svg\" alt=\"Open In Colab\"/></a>"
      ]
    },
    {
      "cell_type": "markdown",
      "metadata": {
        "id": "-DimAUq3s2FO"
      },
      "source": [
        "#ETL (Extract, Transform, Load) Technique on FireBrigadeAndAmbulanceCallOuts.csv"
      ]
    },
    {
      "cell_type": "markdown",
      "metadata": {
        "id": "kZZDtzA0vfat"
      },
      "source": [
        "##[1] Load the CSV file (using Python)."
      ]
    },
    {
      "cell_type": "code",
      "metadata": {
        "colab": {
          "base_uri": "https://localhost:8080/",
          "height": 930
        },
        "id": "wXfRWy6gsyjd",
        "outputId": "62c0ce79-1b9e-4036-ce0f-169662ca3fb2"
      },
      "source": [
        "import pandas as pd#importing panda libery\r\n",
        "import numpy as np#importing numpy libery \r\n",
        "FireBrigade = pd.read_csv(\"FireBrigadeAndAmbulanceCallOuts (1) (1).csv\")#Loading the CSV file and establishing path way(using Python).\r\n",
        "print(f\"Here is the details of the dataset:\\n{FireBrigade}\")#Showing complete view of the data.\r\n",
        "FireBrigade.head(21)#showing the first 20 rows in the dataset."
      ],
      "execution_count": 5,
      "outputs": [
        {
          "output_type": "stream",
          "text": [
            "Here is the details of the dataset:\n",
            "             Date    Station Area   Description  ...        AH       MAV        CD\n",
            "0      01/01/2013     Rathfarnham     S/S OTHER  ...  02:28:54  02:48:54  03:08:54\n",
            "1      01/01/2013        Tallaght      Fire CAR  ...  02:25:43  02:45:43  03:05:43\n",
            "2      01/01/2013    North Strand       S/S RTA  ...  04:11:20  04:31:20  04:51:20\n",
            "3      01/01/2013        Tallaght      Fire CAR  ...  04:50:48  05:10:48  05:30:48\n",
            "4      01/01/2013         Finglas  Fire DOM PER  ...  04:50:47  05:10:47  05:30:47\n",
            "...           ...             ...           ...  ...       ...       ...       ...\n",
            "38551  28/04/2018  Blanchardstown    Fire ALARM  ...       NaN  00:20:00  00:40:00\n",
            "38552  09/10/2018      Kilbarrack      Fire CAR  ...       NaN  00:20:00  00:40:00\n",
            "38553  07/06/2018        Skerries    Fire SMALL  ...       NaN         -         -\n",
            "38554  21/11/2018      Donnybrook    Fire ALARM  ...       NaN         -         -\n",
            "38555  01/01/2019      Kilbarrack    Fire ALARM  ...       NaN         -         -\n",
            "\n",
            "[38556 rows x 11 columns]\n"
          ],
          "name": "stdout"
        },
        {
          "output_type": "execute_result",
          "data": {
            "text/html": [
              "<div>\n",
              "<style scoped>\n",
              "    .dataframe tbody tr th:only-of-type {\n",
              "        vertical-align: middle;\n",
              "    }\n",
              "\n",
              "    .dataframe tbody tr th {\n",
              "        vertical-align: top;\n",
              "    }\n",
              "\n",
              "    .dataframe thead th {\n",
              "        text-align: right;\n",
              "    }\n",
              "</style>\n",
              "<table border=\"1\" class=\"dataframe\">\n",
              "  <thead>\n",
              "    <tr style=\"text-align: right;\">\n",
              "      <th></th>\n",
              "      <th>Date</th>\n",
              "      <th>Station Area</th>\n",
              "      <th>Description</th>\n",
              "      <th>TOC</th>\n",
              "      <th>ORD</th>\n",
              "      <th>MOB</th>\n",
              "      <th>IA</th>\n",
              "      <th>LS</th>\n",
              "      <th>AH</th>\n",
              "      <th>MAV</th>\n",
              "      <th>CD</th>\n",
              "    </tr>\n",
              "  </thead>\n",
              "  <tbody>\n",
              "    <tr>\n",
              "      <th>0</th>\n",
              "      <td>01/01/2013</td>\n",
              "      <td>Rathfarnham</td>\n",
              "      <td>S/S OTHER</td>\n",
              "      <td>01:27:19</td>\n",
              "      <td>01:28:58</td>\n",
              "      <td>01:30:47</td>\n",
              "      <td>01:58:54</td>\n",
              "      <td>02:08:54</td>\n",
              "      <td>02:28:54</td>\n",
              "      <td>02:48:54</td>\n",
              "      <td>03:08:54</td>\n",
              "    </tr>\n",
              "    <tr>\n",
              "      <th>1</th>\n",
              "      <td>01/01/2013</td>\n",
              "      <td>Tallaght</td>\n",
              "      <td>Fire CAR</td>\n",
              "      <td>01:49:57</td>\n",
              "      <td>01:50:40</td>\n",
              "      <td>01:51:47</td>\n",
              "      <td>01:55:43</td>\n",
              "      <td>02:05:43</td>\n",
              "      <td>02:25:43</td>\n",
              "      <td>02:45:43</td>\n",
              "      <td>03:05:43</td>\n",
              "    </tr>\n",
              "    <tr>\n",
              "      <th>2</th>\n",
              "      <td>01/01/2013</td>\n",
              "      <td>North Strand</td>\n",
              "      <td>S/S RTA</td>\n",
              "      <td>03:35:24</td>\n",
              "      <td>03:36:14</td>\n",
              "      <td>03:38:28</td>\n",
              "      <td>03:41:20</td>\n",
              "      <td>03:51:20</td>\n",
              "      <td>04:11:20</td>\n",
              "      <td>04:31:20</td>\n",
              "      <td>04:51:20</td>\n",
              "    </tr>\n",
              "    <tr>\n",
              "      <th>3</th>\n",
              "      <td>01/01/2013</td>\n",
              "      <td>Tallaght</td>\n",
              "      <td>Fire CAR</td>\n",
              "      <td>04:12:51</td>\n",
              "      <td>04:13:56</td>\n",
              "      <td>04:14:32</td>\n",
              "      <td>04:20:48</td>\n",
              "      <td>04:30:48</td>\n",
              "      <td>04:50:48</td>\n",
              "      <td>05:10:48</td>\n",
              "      <td>05:30:48</td>\n",
              "    </tr>\n",
              "    <tr>\n",
              "      <th>4</th>\n",
              "      <td>01/01/2013</td>\n",
              "      <td>Finglas</td>\n",
              "      <td>Fire DOM PER</td>\n",
              "      <td>04:14:24</td>\n",
              "      <td>04:15:36</td>\n",
              "      <td>04:17:37</td>\n",
              "      <td>04:20:47</td>\n",
              "      <td>04:30:47</td>\n",
              "      <td>04:50:47</td>\n",
              "      <td>05:10:47</td>\n",
              "      <td>05:30:47</td>\n",
              "    </tr>\n",
              "    <tr>\n",
              "      <th>5</th>\n",
              "      <td>01/01/2013</td>\n",
              "      <td>Tallaght</td>\n",
              "      <td>S/S OTHER</td>\n",
              "      <td>04:54:30</td>\n",
              "      <td>04:59:08</td>\n",
              "      <td>05:02:07</td>\n",
              "      <td>05:09:48</td>\n",
              "      <td>05:19:48</td>\n",
              "      <td>05:39:48</td>\n",
              "      <td>05:59:48</td>\n",
              "      <td>06:19:48</td>\n",
              "    </tr>\n",
              "    <tr>\n",
              "      <th>6</th>\n",
              "      <td>01/01/2013</td>\n",
              "      <td>Dun Laoghaire</td>\n",
              "      <td>Fire ALARM</td>\n",
              "      <td>05:12:03</td>\n",
              "      <td>05:15:00</td>\n",
              "      <td>05:17:23</td>\n",
              "      <td>05:25:13</td>\n",
              "      <td>05:35:13</td>\n",
              "      <td>05:55:13</td>\n",
              "      <td>06:15:13</td>\n",
              "      <td>06:35:13</td>\n",
              "    </tr>\n",
              "    <tr>\n",
              "      <th>7</th>\n",
              "      <td>01/01/2013</td>\n",
              "      <td>Tara St</td>\n",
              "      <td>Fire ALARM</td>\n",
              "      <td>05:45:45</td>\n",
              "      <td>05:47:55</td>\n",
              "      <td>05:51:19</td>\n",
              "      <td>NaN</td>\n",
              "      <td>00:10:00</td>\n",
              "      <td>00:30:00</td>\n",
              "      <td>00:50:00</td>\n",
              "      <td>01:10:00</td>\n",
              "    </tr>\n",
              "    <tr>\n",
              "      <th>8</th>\n",
              "      <td>01/01/2013</td>\n",
              "      <td>Balbriggan</td>\n",
              "      <td>Fire ALARM</td>\n",
              "      <td>05:59:23</td>\n",
              "      <td>06:00:13</td>\n",
              "      <td>06:03:34</td>\n",
              "      <td>06:10:10</td>\n",
              "      <td>06:20:10</td>\n",
              "      <td>06:40:10</td>\n",
              "      <td>07:00:10</td>\n",
              "      <td>07:20:10</td>\n",
              "    </tr>\n",
              "    <tr>\n",
              "      <th>9</th>\n",
              "      <td>01/01/2013</td>\n",
              "      <td>Kilbarrack</td>\n",
              "      <td>Fire ALARM</td>\n",
              "      <td>06:07:42</td>\n",
              "      <td>06:08:51</td>\n",
              "      <td>06:10:41</td>\n",
              "      <td>06:13:47</td>\n",
              "      <td>06:23:47</td>\n",
              "      <td>06:43:47</td>\n",
              "      <td>07:03:47</td>\n",
              "      <td>07:23:47</td>\n",
              "    </tr>\n",
              "    <tr>\n",
              "      <th>10</th>\n",
              "      <td>01/01/2013</td>\n",
              "      <td>Dolphins Barn</td>\n",
              "      <td>S/S GRDASS</td>\n",
              "      <td>06:25:31</td>\n",
              "      <td>06:26:38</td>\n",
              "      <td>06:28:58</td>\n",
              "      <td>06:32:39</td>\n",
              "      <td>06:42:39</td>\n",
              "      <td>07:02:39</td>\n",
              "      <td>07:22:39</td>\n",
              "      <td>07:42:39</td>\n",
              "    </tr>\n",
              "    <tr>\n",
              "      <th>11</th>\n",
              "      <td>01/01/2013</td>\n",
              "      <td>Tara St</td>\n",
              "      <td>Fire HIGHRISE</td>\n",
              "      <td>07:46:08</td>\n",
              "      <td>07:46:57</td>\n",
              "      <td>07:49:38</td>\n",
              "      <td>07:52:22</td>\n",
              "      <td>08:02:22</td>\n",
              "      <td>08:22:22</td>\n",
              "      <td>08:42:22</td>\n",
              "      <td>09:02:22</td>\n",
              "    </tr>\n",
              "    <tr>\n",
              "      <th>12</th>\n",
              "      <td>01/01/2013</td>\n",
              "      <td>Blanchardstown</td>\n",
              "      <td>Fire CAR</td>\n",
              "      <td>08:08:46</td>\n",
              "      <td>08:09:54</td>\n",
              "      <td>08:12:19</td>\n",
              "      <td>08:16:20</td>\n",
              "      <td>08:26:20</td>\n",
              "      <td>08:46:20</td>\n",
              "      <td>09:06:20</td>\n",
              "      <td>09:26:20</td>\n",
              "    </tr>\n",
              "    <tr>\n",
              "      <th>13</th>\n",
              "      <td>01/01/2013</td>\n",
              "      <td>Kilbarrack</td>\n",
              "      <td>Fire CAR</td>\n",
              "      <td>09:34:57</td>\n",
              "      <td>09:36:33</td>\n",
              "      <td>09:37:40</td>\n",
              "      <td>09:44:22</td>\n",
              "      <td>09:54:22</td>\n",
              "      <td>10:14:22</td>\n",
              "      <td>10:34:22</td>\n",
              "      <td>10:54:22</td>\n",
              "    </tr>\n",
              "    <tr>\n",
              "      <th>14</th>\n",
              "      <td>01/01/2013</td>\n",
              "      <td>Balbriggan</td>\n",
              "      <td>Fire CAR</td>\n",
              "      <td>12:29:22</td>\n",
              "      <td>12:32:07</td>\n",
              "      <td>12:33:41</td>\n",
              "      <td>12:44:18</td>\n",
              "      <td>12:54:18</td>\n",
              "      <td>13:14:18</td>\n",
              "      <td>13:34:18</td>\n",
              "      <td>13:54:18</td>\n",
              "    </tr>\n",
              "    <tr>\n",
              "      <th>15</th>\n",
              "      <td>01/01/2013</td>\n",
              "      <td>Dun Laoghaire</td>\n",
              "      <td>Fire CHIMNEY</td>\n",
              "      <td>12:36:48</td>\n",
              "      <td>12:37:20</td>\n",
              "      <td>12:38:56</td>\n",
              "      <td>NaN</td>\n",
              "      <td>00:10:00</td>\n",
              "      <td>00:30:00</td>\n",
              "      <td>00:50:00</td>\n",
              "      <td>01:10:00</td>\n",
              "    </tr>\n",
              "    <tr>\n",
              "      <th>16</th>\n",
              "      <td>01/01/2013</td>\n",
              "      <td>Tallaght</td>\n",
              "      <td>S/S RTA</td>\n",
              "      <td>13:46:56</td>\n",
              "      <td>13:47:34</td>\n",
              "      <td>13:48:46</td>\n",
              "      <td>13:50:35</td>\n",
              "      <td>14:00:35</td>\n",
              "      <td>14:20:35</td>\n",
              "      <td>14:40:35</td>\n",
              "      <td>15:00:35</td>\n",
              "    </tr>\n",
              "    <tr>\n",
              "      <th>17</th>\n",
              "      <td>01/01/2013</td>\n",
              "      <td>Kilbarrack</td>\n",
              "      <td>S/S OTHER</td>\n",
              "      <td>14:55:07</td>\n",
              "      <td>14:56:41</td>\n",
              "      <td>14:59:09</td>\n",
              "      <td>15:02:47</td>\n",
              "      <td>15:12:47</td>\n",
              "      <td>15:32:47</td>\n",
              "      <td>15:52:47</td>\n",
              "      <td>16:12:47</td>\n",
              "    </tr>\n",
              "    <tr>\n",
              "      <th>18</th>\n",
              "      <td>01/01/2013</td>\n",
              "      <td>Tallaght</td>\n",
              "      <td>Fire DOMESTIC</td>\n",
              "      <td>15:08:32</td>\n",
              "      <td>15:09:21</td>\n",
              "      <td>15:10:26</td>\n",
              "      <td>15:18:37</td>\n",
              "      <td>15:28:37</td>\n",
              "      <td>15:48:37</td>\n",
              "      <td>16:08:37</td>\n",
              "      <td>16:28:37</td>\n",
              "    </tr>\n",
              "    <tr>\n",
              "      <th>19</th>\n",
              "      <td>01/01/2013</td>\n",
              "      <td>Tallaght</td>\n",
              "      <td>Fire DOMESTIC</td>\n",
              "      <td>15:13:42</td>\n",
              "      <td>15:16:26</td>\n",
              "      <td>15:17:46</td>\n",
              "      <td>15:22:52</td>\n",
              "      <td>15:32:52</td>\n",
              "      <td>15:52:52</td>\n",
              "      <td>16:12:52</td>\n",
              "      <td>16:32:52</td>\n",
              "    </tr>\n",
              "    <tr>\n",
              "      <th>20</th>\n",
              "      <td>01/01/2013</td>\n",
              "      <td>Tallaght</td>\n",
              "      <td>Fire FIRE</td>\n",
              "      <td>16:02:36</td>\n",
              "      <td>16:03:42</td>\n",
              "      <td>16:04:36</td>\n",
              "      <td>16:08:27</td>\n",
              "      <td>16:18:27</td>\n",
              "      <td>16:38:27</td>\n",
              "      <td>16:58:27</td>\n",
              "      <td>17:18:27</td>\n",
              "    </tr>\n",
              "  </tbody>\n",
              "</table>\n",
              "</div>"
            ],
            "text/plain": [
              "          Date    Station Area    Description  ...        AH       MAV        CD\n",
              "0   01/01/2013     Rathfarnham      S/S OTHER  ...  02:28:54  02:48:54  03:08:54\n",
              "1   01/01/2013        Tallaght       Fire CAR  ...  02:25:43  02:45:43  03:05:43\n",
              "2   01/01/2013    North Strand        S/S RTA  ...  04:11:20  04:31:20  04:51:20\n",
              "3   01/01/2013        Tallaght       Fire CAR  ...  04:50:48  05:10:48  05:30:48\n",
              "4   01/01/2013         Finglas   Fire DOM PER  ...  04:50:47  05:10:47  05:30:47\n",
              "5   01/01/2013        Tallaght      S/S OTHER  ...  05:39:48  05:59:48  06:19:48\n",
              "6   01/01/2013   Dun Laoghaire     Fire ALARM  ...  05:55:13  06:15:13  06:35:13\n",
              "7   01/01/2013         Tara St     Fire ALARM  ...  00:30:00  00:50:00  01:10:00\n",
              "8   01/01/2013      Balbriggan     Fire ALARM  ...  06:40:10  07:00:10  07:20:10\n",
              "9   01/01/2013      Kilbarrack     Fire ALARM  ...  06:43:47  07:03:47  07:23:47\n",
              "10  01/01/2013   Dolphins Barn     S/S GRDASS  ...  07:02:39  07:22:39  07:42:39\n",
              "11  01/01/2013         Tara St  Fire HIGHRISE  ...  08:22:22  08:42:22  09:02:22\n",
              "12  01/01/2013  Blanchardstown       Fire CAR  ...  08:46:20  09:06:20  09:26:20\n",
              "13  01/01/2013      Kilbarrack       Fire CAR  ...  10:14:22  10:34:22  10:54:22\n",
              "14  01/01/2013      Balbriggan       Fire CAR  ...  13:14:18  13:34:18  13:54:18\n",
              "15  01/01/2013   Dun Laoghaire   Fire CHIMNEY  ...  00:30:00  00:50:00  01:10:00\n",
              "16  01/01/2013        Tallaght        S/S RTA  ...  14:20:35  14:40:35  15:00:35\n",
              "17  01/01/2013      Kilbarrack      S/S OTHER  ...  15:32:47  15:52:47  16:12:47\n",
              "18  01/01/2013        Tallaght  Fire DOMESTIC  ...  15:48:37  16:08:37  16:28:37\n",
              "19  01/01/2013        Tallaght  Fire DOMESTIC  ...  15:52:52  16:12:52  16:32:52\n",
              "20  01/01/2013        Tallaght      Fire FIRE  ...  16:38:27  16:58:27  17:18:27\n",
              "\n",
              "[21 rows x 11 columns]"
            ]
          },
          "metadata": {
            "tags": []
          },
          "execution_count": 5
        }
      ]
    },
    {
      "cell_type": "markdown",
      "metadata": {
        "id": "VZz1kfjgxsk2"
      },
      "source": [
        "##[2] Output the total number of rows and columns."
      ]
    },
    {
      "cell_type": "code",
      "metadata": {
        "colab": {
          "base_uri": "https://localhost:8080/"
        },
        "id": "zSqFdI7ux1mg",
        "outputId": "5a3318f9-e1ea-4d82-a9a0-071770b7829d"
      },
      "source": [
        "print(f\"The total number of rows and columns in the dataset are:\\n{FireBrigade.shape}.\")#Outputing the total number of rows and columns of the dataset."
      ],
      "execution_count": 6,
      "outputs": [
        {
          "output_type": "stream",
          "text": [
            "The total number of rows and columns in the dataset are:\n",
            "(38556, 11).\n"
          ],
          "name": "stdout"
        }
      ]
    },
    {
      "cell_type": "markdown",
      "metadata": {
        "id": "Qw8oSMfayV4P"
      },
      "source": [
        "##[3] Output the number of non-null rows (by column)."
      ]
    },
    {
      "cell_type": "code",
      "metadata": {
        "colab": {
          "base_uri": "https://localhost:8080/"
        },
        "id": "ogjA7IJMyiy3",
        "outputId": "cd7da5ef-899f-4936-c3d8-77d57242c8ed"
      },
      "source": [
        "print(f\"The output for null-null rows is:\\n{FireBrigade.count()}\")#Outputing the number of non-null rows (by column)."
      ],
      "execution_count": 7,
      "outputs": [
        {
          "output_type": "stream",
          "text": [
            "The output for null-null rows is:\n",
            "Date            38556\n",
            "Station Area    38556\n",
            "Description     38556\n",
            "TOC             38556\n",
            "ORD             38556\n",
            "MOB             37311\n",
            "IA              30962\n",
            "LS              38556\n",
            "AH                153\n",
            "MAV             38530\n",
            "CD              38530\n",
            "dtype: int64\n"
          ],
          "name": "stdout"
        }
      ]
    },
    {
      "cell_type": "markdown",
      "metadata": {
        "id": "GfsZkB1EzPmF"
      },
      "source": [
        "##[4] Output the number of null values (by column)."
      ]
    },
    {
      "cell_type": "code",
      "metadata": {
        "colab": {
          "base_uri": "https://localhost:8080/"
        },
        "id": "3MtSum4Szblg",
        "outputId": "466a11ed-7900-40a8-c7b8-65cd12b2297e"
      },
      "source": [
        "print(f\"The number of null values in the dataset is:\\n{FireBrigade.isnull().sum()}\")#Outputing the number of null values (by column)."
      ],
      "execution_count": 8,
      "outputs": [
        {
          "output_type": "stream",
          "text": [
            "The number of null values in the dataset is:\n",
            "Date                0\n",
            "Station Area        0\n",
            "Description         0\n",
            "TOC                 0\n",
            "ORD                 0\n",
            "MOB              1245\n",
            "IA               7594\n",
            "LS                  0\n",
            "AH              38403\n",
            "MAV                26\n",
            "CD                 26\n",
            "dtype: int64\n"
          ],
          "name": "stdout"
        }
      ]
    },
    {
      "cell_type": "markdown",
      "metadata": {
        "id": "FXtUb05i2ilA"
      },
      "source": [
        "##[5] Output the number of null values for all columns"
      ]
    },
    {
      "cell_type": "code",
      "metadata": {
        "colab": {
          "base_uri": "https://localhost:8080/"
        },
        "id": "gIgK7BQh2n7I",
        "outputId": "5a26f4c1-828c-44f2-d5f2-ec9c813ac4a8"
      },
      "source": [
        "print(f\"The number of null values for all columns is:\\n{FireBrigade.isnull().sum().sum()}\")#To get the number of null values, we re-sum the number of null values in (question 4) to get for all columns. "
      ],
      "execution_count": 9,
      "outputs": [
        {
          "output_type": "stream",
          "text": [
            "The number of null values for all columns is:\n",
            "47294\n"
          ],
          "name": "stdout"
        }
      ]
    },
    {
      "cell_type": "markdown",
      "metadata": {
        "id": "lQeLYenU4J8w"
      },
      "source": [
        "##[6] Output the total number of call outs by Station Area."
      ]
    },
    {
      "cell_type": "code",
      "metadata": {
        "colab": {
          "base_uri": "https://localhost:8080/"
        },
        "id": "hLarJicb5CLR",
        "outputId": "4863ba90-2e7d-4e68-e1f9-fd8cf6b52148"
      },
      "source": [
        "print(f\"Total number of callout by Station Area is:\\n{FireBrigade.groupby('Station Area').Date.agg(['count'])}\")#showing total call out by station Area by using the \"groupby method\"."
      ],
      "execution_count": 10,
      "outputs": [
        {
          "output_type": "stream",
          "text": [
            "Total number of callout by Station Area is:\n",
            "                count\n",
            "Station Area         \n",
            "Balbriggan        688\n",
            "Blanchardstown   2089\n",
            "Dolphins Barn    4018\n",
            "Donnybrook       1787\n",
            "Dun Laoghaire    3271\n",
            "Dunshaughlin        2\n",
            "Finglas          3030\n",
            "Kilbarrack       3548\n",
            "MH14                1\n",
            "North Strand     1645\n",
            "Phibsborough     3160\n",
            "Rathfarnham      2129\n",
            "Skerries          449\n",
            "Swords           2614\n",
            "Tallaght         6525\n",
            "Tara St          3600\n"
          ],
          "name": "stdout"
        }
      ]
    },
    {
      "cell_type": "markdown",
      "metadata": {
        "id": "oB1XHlmp64hG"
      },
      "source": [
        "##[7] Output the total number of call outs by Date and Station Area."
      ]
    },
    {
      "cell_type": "code",
      "metadata": {
        "colab": {
          "base_uri": "https://localhost:8080/"
        },
        "id": "O1WpF8iJ65D8",
        "outputId": "056d9645-a898-420b-fd71-9f6cf0dab943"
      },
      "source": [
        "print(f\"The Total number of call outs by date and Station Area is:\\n {FireBrigade.groupby(['Station Area','Date']).TOC.agg(['count'])}\")#sorting call out by date and Station Area."
      ],
      "execution_count": 11,
      "outputs": [
        {
          "output_type": "stream",
          "text": [
            "The Total number of call outs by date and Station Area is:\n",
            "                          count\n",
            "Station Area Date             \n",
            "Balbriggan   01/01/2013      3\n",
            "             01/01/2014      1\n",
            "             01/02/2014      2\n",
            "             01/03/2013      1\n",
            "             01/03/2014      1\n",
            "...                        ...\n",
            "Tara St      31/10/2013      9\n",
            "             31/10/2014     11\n",
            "             31/10/2015      5\n",
            "             31/12/2013      4\n",
            "             31/12/2014      3\n",
            "\n",
            "[12483 rows x 1 columns]\n"
          ],
          "name": "stdout"
        }
      ]
    },
    {
      "cell_type": "markdown",
      "metadata": {
        "id": "RzPteCU079Wo"
      },
      "source": [
        "##[8] Output the total number of call outs by Station Area and Date where the description is either Fire Car or Fire Alarm."
      ]
    },
    {
      "cell_type": "code",
      "metadata": {
        "colab": {
          "base_uri": "https://localhost:8080/"
        },
        "id": "s1PTLLG8782R",
        "outputId": "d590b69c-c74c-45cf-ff6f-92e116dec19b"
      },
      "source": [
        "print(f\"Sorting Total number of call outs by station Area and Date:\\n{FireBrigade[(FireBrigade.Description == 'Fire CAR')|(FireBrigade.Description == 'Fire ALARM')].groupby(['Station Area','Date']).TOC.agg(['count'])}\")#"
      ],
      "execution_count": 12,
      "outputs": [
        {
          "output_type": "stream",
          "text": [
            "Sorting Total number of call outs by station Area and Date:\n",
            "                         count\n",
            "Station Area Date             \n",
            "Balbriggan   01/01/2013      3\n",
            "             01/01/2014      1\n",
            "             01/04/2013      1\n",
            "             01/05/2013      1\n",
            "             01/11/2015      1\n",
            "...                        ...\n",
            "Tara St      31/07/2015      2\n",
            "             31/08/2013      1\n",
            "             31/10/2014      2\n",
            "             31/10/2015      2\n",
            "             31/12/2013      1\n",
            "\n",
            "[6792 rows x 1 columns]\n"
          ],
          "name": "stdout"
        }
      ]
    },
    {
      "cell_type": "markdown",
      "metadata": {
        "id": "0vYaamZa_YQD"
      },
      "source": [
        "##[9] Replace any instance of “,” (in any column) with an empty string."
      ]
    },
    {
      "cell_type": "code",
      "metadata": {
        "colab": {
          "base_uri": "https://localhost:8080/"
        },
        "id": "Mxcs-bqE_bBk",
        "outputId": "f5605555-c9f9-4dff-c670-18330e0e1d30"
      },
      "source": [
        "if_comma_is = ',' in FireBrigade.values#Here, we are making a statement to check if there is ','.\r\n",
        "FireBrigade = FireBrigade.replace(',','')#We intende to replace ',' with ''.\r\n",
        "if_comma_is = ',' in FireBrigade.values#last tesing to comfirm our results if its true or fales.\r\n",
        "print(f\"Here is our confirmation:\\n{if_comma_is}.\")"
      ],
      "execution_count": 13,
      "outputs": [
        {
          "output_type": "stream",
          "text": [
            "Here is our confirmation:\n",
            "False.\n"
          ],
          "name": "stdout"
        }
      ]
    },
    {
      "cell_type": "markdown",
      "metadata": {
        "id": "dYPvHypSFblf"
      },
      "source": [
        "##[10] Replace any instance of “-” (in any column) with an empty string."
      ]
    },
    {
      "cell_type": "code",
      "metadata": {
        "colab": {
          "base_uri": "https://localhost:8080/"
        },
        "id": "pJD_TYGtFecU",
        "outputId": "2f12200b-a253-442e-d7d3-742983970564"
      },
      "source": [
        "if_dash_is = ',' in FireBrigade.values#Here,we repeat the same process in (question 9)by making a statement to check if there is '-'.\r\n",
        "FireBrigade = FireBrigade.replace('-','')#we intend to replace '-' with ''.\r\n",
        "if_dash_is = '-' in FireBrigade.values# finally testing if our result is true or false\r\n",
        "print(f\"Here is our confirmation:\\n{if_dash_is}.\")"
      ],
      "execution_count": 14,
      "outputs": [
        {
          "output_type": "stream",
          "text": [
            "Here is our confirmation:\n",
            "False.\n"
          ],
          "name": "stdout"
        }
      ]
    },
    {
      "cell_type": "markdown",
      "metadata": {
        "id": "o59GZsKVGtjW"
      },
      "source": [
        "##[11] Drop rows for the columns (AH, MAV, CD) where at least one row value is NULL."
      ]
    },
    {
      "cell_type": "code",
      "metadata": {
        "colab": {
          "base_uri": "https://localhost:8080/"
        },
        "id": "2hEZ7tflGt4u",
        "outputId": "e3973d00-be15-4361-f0de-c58cc15a5619"
      },
      "source": [
        "FireBrigade = FireBrigade.dropna(subset=['AH', 'MAV','CD'])#Dropping rows with nulls.\r\n",
        "print(f\"Here are the rows that are dropped due to removed null:\\n{FireBrigade}\")#viewing the dataset after removal of nulls.\r\n",
        "print(f\"Here are the total number of rows after Null removal:\\n{FireBrigade.shape[0]}\")#showing the number of rows by setting shape to 0."
      ],
      "execution_count": 15,
      "outputs": [
        {
          "output_type": "stream",
          "text": [
            "Here are the rows that are dropped due to removed null:\n",
            "             Date    Station Area   Description  ...        AH       MAV        CD\n",
            "0      01/01/2013     Rathfarnham     S/S OTHER  ...  02:28:54  02:48:54  03:08:54\n",
            "1      01/01/2013        Tallaght      Fire CAR  ...  02:25:43  02:45:43  03:05:43\n",
            "2      01/01/2013    North Strand       S/S RTA  ...  04:11:20  04:31:20  04:51:20\n",
            "3      01/01/2013        Tallaght      Fire CAR  ...  04:50:48  05:10:48  05:30:48\n",
            "4      01/01/2013         Finglas  Fire DOM PER  ...  04:50:47  05:10:47  05:30:47\n",
            "...           ...             ...           ...  ...       ...       ...       ...\n",
            "38490  16/10/2015        Tallaght    Fire SMALL  ...            00:20:00  00:40:00\n",
            "38491  13/08/2015        Tallaght    Fire GRASS  ...            00:20:00  00:40:00\n",
            "38496  23/06/2015         Finglas    Fire SMALL  ...            00:20:00  00:40:00\n",
            "38497  23/12/2015   Dun Laoghaire    S/S TREEDN  ...            00:20:00  00:40:00\n",
            "38500  30/09/2015  Blanchardstown    Fire SMALL  ...            00:20:00  00:40:00\n",
            "\n",
            "[153 rows x 11 columns]\n",
            "Here are the total number of rows after Null removal:\n",
            "153\n"
          ],
          "name": "stdout"
        }
      ]
    },
    {
      "cell_type": "markdown",
      "metadata": {
        "id": "E2cVGpaxOJmR"
      },
      "source": [
        "##[12] Drop any duplicate rows (except for the first occurrence)."
      ]
    },
    {
      "cell_type": "code",
      "metadata": {
        "colab": {
          "base_uri": "https://localhost:8080/"
        },
        "id": "j5DcwWwyOJ-G",
        "outputId": "b6b191d5-a3df-46a5-d83a-af5779741f31"
      },
      "source": [
        "print(f\"Here is the data with dupicates dropped:\\n{FireBrigade.drop_duplicates(keep='first')}\")#Removal of Dupicated rows but keeping only the First occurance.\r\n",
        "FireBrigade = FireBrigade.drop_duplicates(keep='first')\r\n",
        "print(f\"This is new row number:\\n{FireBrigade.shape[0]}\")#showing New Row number after removal of dulpicate."
      ],
      "execution_count": 16,
      "outputs": [
        {
          "output_type": "stream",
          "text": [
            "Here is the data with dupicates dropped:\n",
            "             Date    Station Area   Description  ...        AH       MAV        CD\n",
            "0      01/01/2013     Rathfarnham     S/S OTHER  ...  02:28:54  02:48:54  03:08:54\n",
            "1      01/01/2013        Tallaght      Fire CAR  ...  02:25:43  02:45:43  03:05:43\n",
            "2      01/01/2013    North Strand       S/S RTA  ...  04:11:20  04:31:20  04:51:20\n",
            "3      01/01/2013        Tallaght      Fire CAR  ...  04:50:48  05:10:48  05:30:48\n",
            "4      01/01/2013         Finglas  Fire DOM PER  ...  04:50:47  05:10:47  05:30:47\n",
            "...           ...             ...           ...  ...       ...       ...       ...\n",
            "38490  16/10/2015        Tallaght    Fire SMALL  ...            00:20:00  00:40:00\n",
            "38491  13/08/2015        Tallaght    Fire GRASS  ...            00:20:00  00:40:00\n",
            "38496  23/06/2015         Finglas    Fire SMALL  ...            00:20:00  00:40:00\n",
            "38497  23/12/2015   Dun Laoghaire    S/S TREEDN  ...            00:20:00  00:40:00\n",
            "38500  30/09/2015  Blanchardstown    Fire SMALL  ...            00:20:00  00:40:00\n",
            "\n",
            "[152 rows x 11 columns]\n",
            "This is new row number:\n",
            "152\n"
          ],
          "name": "stdout"
        }
      ]
    },
    {
      "cell_type": "markdown",
      "metadata": {
        "id": "nmPoE-jBSDuh"
      },
      "source": [
        "##[13] Output the minimum time difference between TOC and ORD."
      ]
    },
    {
      "cell_type": "code",
      "metadata": {
        "colab": {
          "base_uri": "https://localhost:8080/",
          "height": 194
        },
        "id": "8l2oTM0VZSbJ",
        "outputId": "316a451f-3b77-4c9a-8143-864a825b62ac"
      },
      "source": [
        "#we can not calculate the time differnce by subtracting \"TOC\" and \"ORD\" because it will give an error so we convert/format them to datetime in other to calculate the time difference.\r\n",
        "FireBrigade['TOC'] = pd.to_datetime(FireBrigade['Date'] + ' ' + FireBrigade['TOC'])#coverting \"TOC\" to date time format.\r\n",
        "FireBrigade['ORD'] = pd.to_datetime(FireBrigade['Date'] + ' ' + FireBrigade['ORD'])#Converting \"ORD\" to date time format\r\n",
        "adf = FireBrigade['Date']\r\n",
        "FireBrigade['Date'] =  pd.to_datetime(FireBrigade['Date'])\r\n",
        "FireBrigade.head()"
      ],
      "execution_count": 17,
      "outputs": [
        {
          "output_type": "execute_result",
          "data": {
            "text/html": [
              "<div>\n",
              "<style scoped>\n",
              "    .dataframe tbody tr th:only-of-type {\n",
              "        vertical-align: middle;\n",
              "    }\n",
              "\n",
              "    .dataframe tbody tr th {\n",
              "        vertical-align: top;\n",
              "    }\n",
              "\n",
              "    .dataframe thead th {\n",
              "        text-align: right;\n",
              "    }\n",
              "</style>\n",
              "<table border=\"1\" class=\"dataframe\">\n",
              "  <thead>\n",
              "    <tr style=\"text-align: right;\">\n",
              "      <th></th>\n",
              "      <th>Date</th>\n",
              "      <th>Station Area</th>\n",
              "      <th>Description</th>\n",
              "      <th>TOC</th>\n",
              "      <th>ORD</th>\n",
              "      <th>MOB</th>\n",
              "      <th>IA</th>\n",
              "      <th>LS</th>\n",
              "      <th>AH</th>\n",
              "      <th>MAV</th>\n",
              "      <th>CD</th>\n",
              "    </tr>\n",
              "  </thead>\n",
              "  <tbody>\n",
              "    <tr>\n",
              "      <th>0</th>\n",
              "      <td>2013-01-01</td>\n",
              "      <td>Rathfarnham</td>\n",
              "      <td>S/S OTHER</td>\n",
              "      <td>2013-01-01 01:27:19</td>\n",
              "      <td>2013-01-01 01:28:58</td>\n",
              "      <td>01:30:47</td>\n",
              "      <td>01:58:54</td>\n",
              "      <td>02:08:54</td>\n",
              "      <td>02:28:54</td>\n",
              "      <td>02:48:54</td>\n",
              "      <td>03:08:54</td>\n",
              "    </tr>\n",
              "    <tr>\n",
              "      <th>1</th>\n",
              "      <td>2013-01-01</td>\n",
              "      <td>Tallaght</td>\n",
              "      <td>Fire CAR</td>\n",
              "      <td>2013-01-01 01:49:57</td>\n",
              "      <td>2013-01-01 01:50:40</td>\n",
              "      <td>01:51:47</td>\n",
              "      <td>01:55:43</td>\n",
              "      <td>02:05:43</td>\n",
              "      <td>02:25:43</td>\n",
              "      <td>02:45:43</td>\n",
              "      <td>03:05:43</td>\n",
              "    </tr>\n",
              "    <tr>\n",
              "      <th>2</th>\n",
              "      <td>2013-01-01</td>\n",
              "      <td>North Strand</td>\n",
              "      <td>S/S RTA</td>\n",
              "      <td>2013-01-01 03:35:24</td>\n",
              "      <td>2013-01-01 03:36:14</td>\n",
              "      <td>03:38:28</td>\n",
              "      <td>03:41:20</td>\n",
              "      <td>03:51:20</td>\n",
              "      <td>04:11:20</td>\n",
              "      <td>04:31:20</td>\n",
              "      <td>04:51:20</td>\n",
              "    </tr>\n",
              "    <tr>\n",
              "      <th>3</th>\n",
              "      <td>2013-01-01</td>\n",
              "      <td>Tallaght</td>\n",
              "      <td>Fire CAR</td>\n",
              "      <td>2013-01-01 04:12:51</td>\n",
              "      <td>2013-01-01 04:13:56</td>\n",
              "      <td>04:14:32</td>\n",
              "      <td>04:20:48</td>\n",
              "      <td>04:30:48</td>\n",
              "      <td>04:50:48</td>\n",
              "      <td>05:10:48</td>\n",
              "      <td>05:30:48</td>\n",
              "    </tr>\n",
              "    <tr>\n",
              "      <th>4</th>\n",
              "      <td>2013-01-01</td>\n",
              "      <td>Finglas</td>\n",
              "      <td>Fire DOM PER</td>\n",
              "      <td>2013-01-01 04:14:24</td>\n",
              "      <td>2013-01-01 04:15:36</td>\n",
              "      <td>04:17:37</td>\n",
              "      <td>04:20:47</td>\n",
              "      <td>04:30:47</td>\n",
              "      <td>04:50:47</td>\n",
              "      <td>05:10:47</td>\n",
              "      <td>05:30:47</td>\n",
              "    </tr>\n",
              "  </tbody>\n",
              "</table>\n",
              "</div>"
            ],
            "text/plain": [
              "        Date  Station Area   Description  ...        AH       MAV        CD\n",
              "0 2013-01-01   Rathfarnham     S/S OTHER  ...  02:28:54  02:48:54  03:08:54\n",
              "1 2013-01-01      Tallaght      Fire CAR  ...  02:25:43  02:45:43  03:05:43\n",
              "2 2013-01-01  North Strand       S/S RTA  ...  04:11:20  04:31:20  04:51:20\n",
              "3 2013-01-01      Tallaght      Fire CAR  ...  04:50:48  05:10:48  05:30:48\n",
              "4 2013-01-01       Finglas  Fire DOM PER  ...  04:50:47  05:10:47  05:30:47\n",
              "\n",
              "[5 rows x 11 columns]"
            ]
          },
          "metadata": {
            "tags": []
          },
          "execution_count": 17
        }
      ]
    },
    {
      "cell_type": "code",
      "metadata": {
        "id": "xA5mLcpsg4Wf",
        "colab": {
          "base_uri": "https://localhost:8080/"
        },
        "outputId": "cf8250e3-ad04-4630-ea18-600089b119a0"
      },
      "source": [
        "#Time difference between TOC and ORD\r\n",
        "print(f\"The time difference is:\\n{min((FireBrigade['ORD'] - FireBrigade['TOC'])).seconds} seconds\")"
      ],
      "execution_count": 18,
      "outputs": [
        {
          "output_type": "stream",
          "text": [
            "The time difference is:\n",
            "30 seconds\n"
          ],
          "name": "stdout"
        }
      ]
    },
    {
      "cell_type": "markdown",
      "metadata": {
        "id": "jpvoLYhJewnm"
      },
      "source": [
        "## [14] Using the resulting data set, post implementing the previous cleansing steps, load the data into a table in SQL Server. (Note: you must create the physical table in SQL Server to complete this task. Use the same column names as the columns in the CSV File.)"
      ]
    },
    {
      "cell_type": "code",
      "metadata": {
        "id": "wvQuHsc8exAa",
        "colab": {
          "base_uri": "https://localhost:8080/",
          "height": 278
        },
        "outputId": "0bcb96eb-85c3-4239-f5f8-c3d9cd77b6c5"
      },
      "source": [
        "#Formatting the remaining columns for upload into an SQLite database.\r\n",
        "FireBrigade['MOB'] = pd.to_datetime(adf + ' ' + FireBrigade['MOB'])\r\n",
        "FireBrigade['IA'] = pd.to_datetime(adf + ' ' + FireBrigade['IA'])\r\n",
        "FireBrigade['LS'] = pd.to_datetime(adf + ' ' + FireBrigade['LS'])\r\n",
        "FireBrigade['AH'] = pd.to_datetime(adf + ' ' + FireBrigade['AH'])\r\n",
        "FireBrigade['MAV'] = pd.to_datetime(adf + ' ' + FireBrigade['MAV'])\r\n",
        "FireBrigade['CD'] = pd.to_datetime(adf + ' ' + FireBrigade['CD'])\r\n",
        "FireBrigade = FireBrigade.rename(columns = {'Station Area':'Station_Area'})\r\n",
        "FireBrigade.head()"
      ],
      "execution_count": 19,
      "outputs": [
        {
          "output_type": "execute_result",
          "data": {
            "text/html": [
              "<div>\n",
              "<style scoped>\n",
              "    .dataframe tbody tr th:only-of-type {\n",
              "        vertical-align: middle;\n",
              "    }\n",
              "\n",
              "    .dataframe tbody tr th {\n",
              "        vertical-align: top;\n",
              "    }\n",
              "\n",
              "    .dataframe thead th {\n",
              "        text-align: right;\n",
              "    }\n",
              "</style>\n",
              "<table border=\"1\" class=\"dataframe\">\n",
              "  <thead>\n",
              "    <tr style=\"text-align: right;\">\n",
              "      <th></th>\n",
              "      <th>Date</th>\n",
              "      <th>Station_Area</th>\n",
              "      <th>Description</th>\n",
              "      <th>TOC</th>\n",
              "      <th>ORD</th>\n",
              "      <th>MOB</th>\n",
              "      <th>IA</th>\n",
              "      <th>LS</th>\n",
              "      <th>AH</th>\n",
              "      <th>MAV</th>\n",
              "      <th>CD</th>\n",
              "    </tr>\n",
              "  </thead>\n",
              "  <tbody>\n",
              "    <tr>\n",
              "      <th>0</th>\n",
              "      <td>2013-01-01</td>\n",
              "      <td>Rathfarnham</td>\n",
              "      <td>S/S OTHER</td>\n",
              "      <td>2013-01-01 01:27:19</td>\n",
              "      <td>2013-01-01 01:28:58</td>\n",
              "      <td>2013-01-01 01:30:47</td>\n",
              "      <td>2013-01-01 01:58:54</td>\n",
              "      <td>2013-01-01 02:08:54</td>\n",
              "      <td>2013-01-01 02:28:54</td>\n",
              "      <td>2013-01-01 02:48:54</td>\n",
              "      <td>2013-01-01 03:08:54</td>\n",
              "    </tr>\n",
              "    <tr>\n",
              "      <th>1</th>\n",
              "      <td>2013-01-01</td>\n",
              "      <td>Tallaght</td>\n",
              "      <td>Fire CAR</td>\n",
              "      <td>2013-01-01 01:49:57</td>\n",
              "      <td>2013-01-01 01:50:40</td>\n",
              "      <td>2013-01-01 01:51:47</td>\n",
              "      <td>2013-01-01 01:55:43</td>\n",
              "      <td>2013-01-01 02:05:43</td>\n",
              "      <td>2013-01-01 02:25:43</td>\n",
              "      <td>2013-01-01 02:45:43</td>\n",
              "      <td>2013-01-01 03:05:43</td>\n",
              "    </tr>\n",
              "    <tr>\n",
              "      <th>2</th>\n",
              "      <td>2013-01-01</td>\n",
              "      <td>North Strand</td>\n",
              "      <td>S/S RTA</td>\n",
              "      <td>2013-01-01 03:35:24</td>\n",
              "      <td>2013-01-01 03:36:14</td>\n",
              "      <td>2013-01-01 03:38:28</td>\n",
              "      <td>2013-01-01 03:41:20</td>\n",
              "      <td>2013-01-01 03:51:20</td>\n",
              "      <td>2013-01-01 04:11:20</td>\n",
              "      <td>2013-01-01 04:31:20</td>\n",
              "      <td>2013-01-01 04:51:20</td>\n",
              "    </tr>\n",
              "    <tr>\n",
              "      <th>3</th>\n",
              "      <td>2013-01-01</td>\n",
              "      <td>Tallaght</td>\n",
              "      <td>Fire CAR</td>\n",
              "      <td>2013-01-01 04:12:51</td>\n",
              "      <td>2013-01-01 04:13:56</td>\n",
              "      <td>2013-01-01 04:14:32</td>\n",
              "      <td>2013-01-01 04:20:48</td>\n",
              "      <td>2013-01-01 04:30:48</td>\n",
              "      <td>2013-01-01 04:50:48</td>\n",
              "      <td>2013-01-01 05:10:48</td>\n",
              "      <td>2013-01-01 05:30:48</td>\n",
              "    </tr>\n",
              "    <tr>\n",
              "      <th>4</th>\n",
              "      <td>2013-01-01</td>\n",
              "      <td>Finglas</td>\n",
              "      <td>Fire DOM PER</td>\n",
              "      <td>2013-01-01 04:14:24</td>\n",
              "      <td>2013-01-01 04:15:36</td>\n",
              "      <td>2013-01-01 04:17:37</td>\n",
              "      <td>2013-01-01 04:20:47</td>\n",
              "      <td>2013-01-01 04:30:47</td>\n",
              "      <td>2013-01-01 04:50:47</td>\n",
              "      <td>2013-01-01 05:10:47</td>\n",
              "      <td>2013-01-01 05:30:47</td>\n",
              "    </tr>\n",
              "  </tbody>\n",
              "</table>\n",
              "</div>"
            ],
            "text/plain": [
              "        Date  Station_Area  ...                 MAV                  CD\n",
              "0 2013-01-01   Rathfarnham  ... 2013-01-01 02:48:54 2013-01-01 03:08:54\n",
              "1 2013-01-01      Tallaght  ... 2013-01-01 02:45:43 2013-01-01 03:05:43\n",
              "2 2013-01-01  North Strand  ... 2013-01-01 04:31:20 2013-01-01 04:51:20\n",
              "3 2013-01-01      Tallaght  ... 2013-01-01 05:10:48 2013-01-01 05:30:48\n",
              "4 2013-01-01       Finglas  ... 2013-01-01 05:10:47 2013-01-01 05:30:47\n",
              "\n",
              "[5 rows x 11 columns]"
            ]
          },
          "metadata": {
            "tags": []
          },
          "execution_count": 19
        }
      ]
    },
    {
      "cell_type": "markdown",
      "metadata": {
        "id": "grsC-2hDjP4T"
      },
      "source": [
        "#[a] Importing into SQLlite."
      ]
    },
    {
      "cell_type": "code",
      "metadata": {
        "colab": {
          "base_uri": "https://localhost:8080/"
        },
        "id": "7ZCrouoQjQIj",
        "outputId": "9ec00df1-0245-47da-ec07-c2c42e05e764"
      },
      "source": [
        "import sqlite3 as dd\r\n",
        "##Creating/Connecting to a database\r\n",
        "FireBrigadeAmbulance = dd.connect(\"FIreAndCallouts.db\")\r\n",
        "FireBrigadeAmbulance.execute(\"drop table if exists results\")\r\n",
        "try:\r\n",
        "  #Creating new table\r\n",
        "    FireBrigadeAmbulance.execute(\"create table FireAndCalloutsData(Date date, Station_Area text,Description text,TOC date,ORD date,MOB date,IA date, LS date,AH date,MAV date,CD date)\")\r\n",
        "except:\r\n",
        "    print(\"Table is already created: \")"
      ],
      "execution_count": 21,
      "outputs": [
        {
          "output_type": "stream",
          "text": [
            "Table is already created: \n"
          ],
          "name": "stdout"
        }
      ]
    },
    {
      "cell_type": "markdown",
      "metadata": {
        "id": "n8uwmKA00wkW"
      },
      "source": [
        ""
      ]
    },
    {
      "cell_type": "markdown",
      "metadata": {
        "id": "AMSg74RnwJBj"
      },
      "source": [
        "#[b] Checking New table is created"
      ]
    },
    {
      "cell_type": "code",
      "metadata": {
        "colab": {
          "base_uri": "https://localhost:8080/"
        },
        "id": "sji-D6Cmkbu-",
        "outputId": "5b142350-f0be-4562-a47e-e59e10ca4220"
      },
      "source": [
        "for index, row in FireBrigade.iterrows():#looping throught all rows in new table.\r\n",
        "  Ambulance = \"insert into FireAndCalloutsData(Date, Station_Area,Description,TOC,ORD,MOB,IA,LS,AH,MAV,CD) values('{}','{}','{}','{}','{}','{}','{}','{}','{}','{}','{}')\".format(row.Date, row.Station_Area, row.Description,row.TOC,row.ORD,row.MOB,row.IA,row.LS,row.AH,row.MAV,row.CD)\r\n",
        "  FireBrigadeAmbulance.execute(Ambulance)#testing tables\r\n",
        "FireBrigadeAmbulance.commit()\r\n",
        "print(\"Record Sucessfully Added\")"
      ],
      "execution_count": 22,
      "outputs": [
        {
          "output_type": "stream",
          "text": [
            "Record Sucessfully Added\n"
          ],
          "name": "stdout"
        }
      ]
    },
    {
      "cell_type": "code",
      "metadata": {
        "colab": {
          "base_uri": "https://localhost:8080/",
          "height": 278
        },
        "id": "aMaoy5_ll512",
        "outputId": "e9c6fee7-7a90-4fe0-83bf-a846dffd8ddd"
      },
      "source": [
        "Firesql = \"Select * from FireAndCalloutsData\"\r\n",
        "Database_Data = pd.read_sql_query(Firesql, FireBrigadeAmbulance)\r\n",
        "Database_Data.head()"
      ],
      "execution_count": 23,
      "outputs": [
        {
          "output_type": "execute_result",
          "data": {
            "text/html": [
              "<div>\n",
              "<style scoped>\n",
              "    .dataframe tbody tr th:only-of-type {\n",
              "        vertical-align: middle;\n",
              "    }\n",
              "\n",
              "    .dataframe tbody tr th {\n",
              "        vertical-align: top;\n",
              "    }\n",
              "\n",
              "    .dataframe thead th {\n",
              "        text-align: right;\n",
              "    }\n",
              "</style>\n",
              "<table border=\"1\" class=\"dataframe\">\n",
              "  <thead>\n",
              "    <tr style=\"text-align: right;\">\n",
              "      <th></th>\n",
              "      <th>Date</th>\n",
              "      <th>Station_Area</th>\n",
              "      <th>Description</th>\n",
              "      <th>TOC</th>\n",
              "      <th>ORD</th>\n",
              "      <th>MOB</th>\n",
              "      <th>IA</th>\n",
              "      <th>LS</th>\n",
              "      <th>AH</th>\n",
              "      <th>MAV</th>\n",
              "      <th>CD</th>\n",
              "    </tr>\n",
              "  </thead>\n",
              "  <tbody>\n",
              "    <tr>\n",
              "      <th>0</th>\n",
              "      <td>2013-01-01 00:00:00</td>\n",
              "      <td>Rathfarnham</td>\n",
              "      <td>S/S OTHER</td>\n",
              "      <td>2013-01-01 01:27:19</td>\n",
              "      <td>2013-01-01 01:28:58</td>\n",
              "      <td>2013-01-01 01:30:47</td>\n",
              "      <td>2013-01-01 01:58:54</td>\n",
              "      <td>2013-01-01 02:08:54</td>\n",
              "      <td>2013-01-01 02:28:54</td>\n",
              "      <td>2013-01-01 02:48:54</td>\n",
              "      <td>2013-01-01 03:08:54</td>\n",
              "    </tr>\n",
              "    <tr>\n",
              "      <th>1</th>\n",
              "      <td>2013-01-01 00:00:00</td>\n",
              "      <td>Tallaght</td>\n",
              "      <td>Fire CAR</td>\n",
              "      <td>2013-01-01 01:49:57</td>\n",
              "      <td>2013-01-01 01:50:40</td>\n",
              "      <td>2013-01-01 01:51:47</td>\n",
              "      <td>2013-01-01 01:55:43</td>\n",
              "      <td>2013-01-01 02:05:43</td>\n",
              "      <td>2013-01-01 02:25:43</td>\n",
              "      <td>2013-01-01 02:45:43</td>\n",
              "      <td>2013-01-01 03:05:43</td>\n",
              "    </tr>\n",
              "    <tr>\n",
              "      <th>2</th>\n",
              "      <td>2013-01-01 00:00:00</td>\n",
              "      <td>North Strand</td>\n",
              "      <td>S/S RTA</td>\n",
              "      <td>2013-01-01 03:35:24</td>\n",
              "      <td>2013-01-01 03:36:14</td>\n",
              "      <td>2013-01-01 03:38:28</td>\n",
              "      <td>2013-01-01 03:41:20</td>\n",
              "      <td>2013-01-01 03:51:20</td>\n",
              "      <td>2013-01-01 04:11:20</td>\n",
              "      <td>2013-01-01 04:31:20</td>\n",
              "      <td>2013-01-01 04:51:20</td>\n",
              "    </tr>\n",
              "    <tr>\n",
              "      <th>3</th>\n",
              "      <td>2013-01-01 00:00:00</td>\n",
              "      <td>Tallaght</td>\n",
              "      <td>Fire CAR</td>\n",
              "      <td>2013-01-01 04:12:51</td>\n",
              "      <td>2013-01-01 04:13:56</td>\n",
              "      <td>2013-01-01 04:14:32</td>\n",
              "      <td>2013-01-01 04:20:48</td>\n",
              "      <td>2013-01-01 04:30:48</td>\n",
              "      <td>2013-01-01 04:50:48</td>\n",
              "      <td>2013-01-01 05:10:48</td>\n",
              "      <td>2013-01-01 05:30:48</td>\n",
              "    </tr>\n",
              "    <tr>\n",
              "      <th>4</th>\n",
              "      <td>2013-01-01 00:00:00</td>\n",
              "      <td>Finglas</td>\n",
              "      <td>Fire DOM PER</td>\n",
              "      <td>2013-01-01 04:14:24</td>\n",
              "      <td>2013-01-01 04:15:36</td>\n",
              "      <td>2013-01-01 04:17:37</td>\n",
              "      <td>2013-01-01 04:20:47</td>\n",
              "      <td>2013-01-01 04:30:47</td>\n",
              "      <td>2013-01-01 04:50:47</td>\n",
              "      <td>2013-01-01 05:10:47</td>\n",
              "      <td>2013-01-01 05:30:47</td>\n",
              "    </tr>\n",
              "  </tbody>\n",
              "</table>\n",
              "</div>"
            ],
            "text/plain": [
              "                  Date  Station_Area  ...                  MAV                   CD\n",
              "0  2013-01-01 00:00:00   Rathfarnham  ...  2013-01-01 02:48:54  2013-01-01 03:08:54\n",
              "1  2013-01-01 00:00:00      Tallaght  ...  2013-01-01 02:45:43  2013-01-01 03:05:43\n",
              "2  2013-01-01 00:00:00  North Strand  ...  2013-01-01 04:31:20  2013-01-01 04:51:20\n",
              "3  2013-01-01 00:00:00      Tallaght  ...  2013-01-01 05:10:48  2013-01-01 05:30:48\n",
              "4  2013-01-01 00:00:00       Finglas  ...  2013-01-01 05:10:47  2013-01-01 05:30:47\n",
              "\n",
              "[5 rows x 11 columns]"
            ]
          },
          "metadata": {
            "tags": []
          },
          "execution_count": 23
        }
      ]
    },
    {
      "cell_type": "code",
      "metadata": {
        "colab": {
          "base_uri": "https://localhost:8080/"
        },
        "id": "gDE-HrypHkAU",
        "outputId": "bb75368d-4617-40d6-d0fb-baed7f4eb5c3"
      },
      "source": [
        "Database_Data.dtypes"
      ],
      "execution_count": 24,
      "outputs": [
        {
          "output_type": "execute_result",
          "data": {
            "text/plain": [
              "Date            object\n",
              "Station_Area    object\n",
              "Description     object\n",
              "TOC             object\n",
              "ORD             object\n",
              "MOB             object\n",
              "IA              object\n",
              "LS              object\n",
              "AH              object\n",
              "MAV             object\n",
              "CD              object\n",
              "dtype: object"
            ]
          },
          "metadata": {
            "tags": []
          },
          "execution_count": 24
        }
      ]
    }
  ]
}