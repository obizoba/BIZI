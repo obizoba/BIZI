{
  "nbformat": 4,
  "nbformat_minor": 0,
  "metadata": {
    "colab": {
      "name": "OBIZOBA 10555563 REVISON 3 ipynb",
      "provenance": [],
      "collapsed_sections": [],
      "authorship_tag": "ABX9TyNtBa26w5EMlSdMHAcAFKKR",
      "include_colab_link": true
    },
    "kernelspec": {
      "name": "python3",
      "display_name": "Python 3"
    }
  },
  "cells": [
    {
      "cell_type": "markdown",
      "metadata": {
        "id": "view-in-github",
        "colab_type": "text"
      },
      "source": [
        "<a href=\"https://colab.research.google.com/github/obizoba/BIZI/blob/master/OBIZOBA_10555563_REVISON_3_ipynb.ipynb\" target=\"_parent\"><img src=\"https://colab.research.google.com/assets/colab-badge.svg\" alt=\"Open In Colab\"/></a>"
      ]
    },
    {
      "cell_type": "markdown",
      "metadata": {
        "id": "KaeHUbVcNJZ7"
      },
      "source": [
        "#To create a function that can accept two agruments name and age print them."
      ]
    },
    {
      "cell_type": "code",
      "metadata": {
        "colab": {
          "base_uri": "https://localhost:8080/"
        },
        "id": "KBPfRQDZNFNI",
        "outputId": "c5aeee26-e7f8-4d55-92da-17f1052728de"
      },
      "source": [
        "\r\n",
        "\r\n",
        "name = input(f\"please enter your name: \".upper())#user is expect to input a name.\r\n",
        "age= int(input(f\"please enter your age: \"))#user is expected to input a numeric value for age.\r\n",
        "\r\n",
        "def person():\r\n",
        "    print(f\"Your name is {name.upper()} and you are {age}.\")\r\n",
        "\r\n",
        "\r\n",
        "person()#calling fuction with arugments name and age."
      ],
      "execution_count": 3,
      "outputs": [
        {
          "output_type": "stream",
          "text": [
            "PLEASE ENTER YOUR NAME: obizoba\n",
            "please enter your age: 32\n",
            "Your name is OBIZOBA and you are 32.\n"
          ],
          "name": "stdout"
        }
      ]
    },
    {
      "cell_type": "markdown",
      "metadata": {
        "id": "D6cGyfwYO9Tw"
      },
      "source": [
        "##WAF func1() such that it can accept a variable length of arguments and print "
      ]
    },
    {
      "cell_type": "code",
      "metadata": {
        "colab": {
          "base_uri": "https://localhost:8080/"
        },
        "id": "aBJKTadzO9hm",
        "outputId": "e54885ff-d709-4bac-b3eb-4219f710657a"
      },
      "source": [
        "def func1(*numbers):#defining function for numbers\r\n",
        "    for number in numbers:#using number to loop through numbers \r\n",
        "        print(number)\r\n",
        "\r\n",
        "\r\n",
        "func1(30,89,89,89)#function calling expected arguments\r\n",
        "func1(10,20,30,40)"
      ],
      "execution_count": 4,
      "outputs": [
        {
          "output_type": "stream",
          "text": [
            "30\n",
            "89\n",
            "89\n",
            "89\n",
            "10\n",
            "20\n",
            "30\n",
            "40\n"
          ],
          "name": "stdout"
        }
      ]
    },
    {
      "cell_type": "markdown",
      "metadata": {
        "id": "N3CQIDerhRAe"
      },
      "source": [
        "##WAF calculation() such that it can accept two variables and calculate the addition and subtraction of it and it must return both addition and subtraction in a single return call."
      ]
    },
    {
      "cell_type": "code",
      "metadata": {
        "colab": {
          "base_uri": "https://localhost:8080/"
        },
        "id": "zZmn0z8ihUcC",
        "outputId": "e3ee3a10-2b86-4e14-fcf4-a3fd826715bf"
      },
      "source": [
        "def calculation():#defining fucnction on calculation.\r\n",
        "    a = float(input(f\"Enter a: \"))#user is expected to input value for parameter \"a\".\r\n",
        "    b = float(input(f\"Enter b: \"))#user is expected to input value for parameter \"b\".\r\n",
        "    addition = a + b #variables a and b performing addition operation.\r\n",
        "    subtraction = a - b #variables a and b performing subtraction operation.\r\n",
        "    print(f\"the calculation of a and b is {addition} and {subtraction}. \")#displaying both operations\r\n",
        "\r\n",
        "\r\n",
        "calculation()#function call"
      ],
      "execution_count": 6,
      "outputs": [
        {
          "output_type": "stream",
          "text": [
            "Enter a: 23.8\n",
            "Enter b: 30.9\n",
            "the calculation of a and b is 54.7 and -7.099999999999998. \n"
          ],
          "name": "stdout"
        }
      ]
    },
    {
      "cell_type": "markdown",
      "metadata": {
        "id": "bEdXqA7QthtK"
      },
      "source": [
        "##Create a function showEmployee() in such a way that it should accept employee name and its salary and display both,and if the salary is missing in function call it should show it as 9000."
      ]
    },
    {
      "cell_type": "code",
      "metadata": {
        "colab": {
          "base_uri": "https://localhost:8080/"
        },
        "id": "nfPyALqQtiIw",
        "outputId": "ab8247f8-bac2-422e-984e-fbaeaa32e785"
      },
      "source": [
        "def showEmployee(employee_name,salary=\"9000\"):#defining function with a default parameter salary=9000.\r\n",
        "    print(f\"The employee name is {employee_name} and the salary is £{salary}.\")#displaying but parameters\r\n",
        "\r\n",
        "\r\n",
        "showEmployee(\"obizoba\", \"1000\")#calling function with both arguments\r\n",
        "showEmployee(\"nayo\")#missing one argument,hence default value will be substituted.\r\n",
        "showEmployee(\"john\",\"3000\")\r\n",
        "showEmployee(\"chika\", \"3000\")\r\n",
        "showEmployee(\"Amaka\")#missing one argument,hence default value will be substituted)"
      ],
      "execution_count": 8,
      "outputs": [
        {
          "output_type": "stream",
          "text": [
            "The employee name is obizoba and the salary is £1000.\n",
            "The employee name is nayo and the salary is £9000.\n",
            "The employee name is john and the salary is £3000.\n",
            "The employee name is chika and the salary is £3000.\n",
            "The employee name is Amaka and the salary is £9000.\n"
          ],
          "name": "stdout"
        }
      ]
    },
    {
      "cell_type": "markdown",
      "metadata": {
        "id": "52KFKkRSyUOG"
      },
      "source": [
        "###Create an inner function to calculate the addition in the following way:\r\n",
        "#Create an outer function that will accept two parameters a and b\r\n",
        "#Create an inner function inside an outer function that will calculate the addition of a and b.\r\n",
        "#at last, an outer function will add 5 into addition and return it."
      ]
    },
    {
      "cell_type": "code",
      "metadata": {
        "colab": {
          "base_uri": "https://localhost:8080/"
        },
        "id": "ELwYdmCWyUnj",
        "outputId": "d351d14c-a75a-4b8c-ed3f-33bf85e435ff"
      },
      "source": [
        "def outer_function(a,b):#defining outter function for both parameters \r\n",
        "  def inner_function():#defining inner fucntion to compute addition operation\r\n",
        "    addition = a + b\r\n",
        "    return addition\r\n",
        "\r\n",
        "  return inner_function()+5#returning operation while adding 5 \r\n",
        "\r\n",
        "print(f\"Result is: {outer_function(100,50)}\")"
      ],
      "execution_count": 9,
      "outputs": [
        {
          "output_type": "stream",
          "text": [
            "Result is: 155\n"
          ],
          "name": "stdout"
        }
      ]
    },
    {
      "cell_type": "markdown",
      "metadata": {
        "id": "LSr1XpyYBUF_"
      },
      "source": [
        "#Write a recursive function to calculate the sum of numbers from 0 to 10."
      ]
    },
    {
      "cell_type": "code",
      "metadata": {
        "colab": {
          "base_uri": "https://localhost:8080/"
        },
        "id": "sf7SmkCMBUYy",
        "outputId": "3e1d6297-9265-4862-c55e-85086abdbfa4"
      },
      "source": [
        "def recursive_addition(r):\r\n",
        "    if r <= 0:\r\n",
        "        return r\r\n",
        "    else:\r\n",
        "        return r + recursive_addition(r - 1)\r\n",
        "\r\n",
        "\r\n",
        "\r\n",
        "recursive_addition(10)"
      ],
      "execution_count": 10,
      "outputs": [
        {
          "output_type": "execute_result",
          "data": {
            "text/plain": [
              "55"
            ]
          },
          "metadata": {
            "tags": []
          },
          "execution_count": 10
        }
      ]
    },
    {
      "cell_type": "markdown",
      "metadata": {
        "id": "nbLc8qg3Bxdj"
      },
      "source": [
        "#Assign a different name to function and call it through the new name."
      ]
    },
    {
      "cell_type": "code",
      "metadata": {
        "colab": {
          "base_uri": "https://localhost:8080/"
        },
        "id": "AUmA1EleBxn2",
        "outputId": "62ca8e57-d2a4-4a1e-aa8b-e315a9596906"
      },
      "source": [
        "def old_name(first_name, last_name):#first function with two parameters.\r\n",
        "    print(f\"This person's first name is {first_name} and last name is {last_name}. \")\r\n",
        "\r\n",
        "def new_name(first_name,last_name):#new function with same pararmeters but differnt function name\r\n",
        "    old_name(first_name, last_name)\r\n",
        "\r\n",
        "new_name(\"obizoba\",\"iloabachie\")#calling agurments with new function"
      ],
      "execution_count": 11,
      "outputs": [
        {
          "output_type": "stream",
          "text": [
            "This person's first name is obizoba and last name is iloabachie. \n"
          ],
          "name": "stdout"
        }
      ]
    }
  ]
}