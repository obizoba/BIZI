{
  "nbformat": 4,
  "nbformat_minor": 0,
  "metadata": {
    "colab": {
      "name": "Solving h(x)= 2√x , x>=0",
      "provenance": [],
      "authorship_tag": "ABX9TyPRILHQDtGmJZDfZvtu+QOG",
      "include_colab_link": true
    },
    "kernelspec": {
      "name": "python3",
      "display_name": "Python 3"
    },
    "language_info": {
      "name": "python"
    }
  },
  "cells": [
    {
      "cell_type": "markdown",
      "metadata": {
        "id": "view-in-github",
        "colab_type": "text"
      },
      "source": [
        "<a href=\"https://colab.research.google.com/github/obizoba/BIZI/blob/master/ML_CA1_Solving_h(x)%3D_2%E2%88%9Ax_%2C_x%3E%3D0.ipynb\" target=\"_parent\"><img src=\"https://colab.research.google.com/assets/colab-badge.svg\" alt=\"Open In Colab\"/></a>"
      ]
    },
    {
      "cell_type": "markdown",
      "metadata": {
        "id": "YlSucEJTcrWS"
      },
      "source": [
        "#Solving  h(x)= 2√x , x>=0"
      ]
    },
    {
      "cell_type": "code",
      "metadata": {
        "id": "yVKNrdj4cimx"
      },
      "source": [
        "import numpy as np\n",
        "from matplotlib import pyplot as plt"
      ],
      "execution_count": 3,
      "outputs": []
    },
    {
      "cell_type": "code",
      "metadata": {
        "colab": {
          "base_uri": "https://localhost:8080/",
          "height": 279
        },
        "id": "xDkkwv0sdnaL",
        "outputId": "ed74440e-7ced-49dd-b284-5891658091a8"
      },
      "source": [
        "def h(x):\n",
        "  if x>= 0:\n",
        "    return 2 * np.sqrt(x)\n",
        "\n",
        "x = range(1,9)\n",
        "y = [h(a) for a in x]\n",
        "\n",
        "plt.xlabel(\"x\")\n",
        "plt.ylabel(\"h(x)\")\n",
        "plt.grid()\n",
        "\n",
        "plt.plot(x,y, color = \"green\")\n",
        "plt.plot(0,h(0.01), color=\"orange\" , marker=\"o\")\n",
        "plt.show()"
      ],
      "execution_count": 8,
      "outputs": [
        {
          "output_type": "display_data",
          "data": {
            "image/png": "[encoded data removed]",
            "text/plain": [
              "<Figure size 432x288 with 1 Axes>"
            ]
          },
          "metadata": {
            "tags": [],
            "needs_background": "light"
          }
        }
      ]
    }
  ]
}